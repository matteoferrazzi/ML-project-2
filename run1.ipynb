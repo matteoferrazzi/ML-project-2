{
 "cells": [
  {
   "cell_type": "code",
   "execution_count": 1,
   "metadata": {},
   "outputs": [
    {
     "data": {
      "text/plain": [
       "<module 'validaton' from '/Users/matteoferrazzi/Documents/GitHub/ML-project-2/validaton.py'>"
      ]
     },
     "execution_count": 1,
     "metadata": {},
     "output_type": "execute_result"
    }
   ],
   "source": [
    "import numpy as np\n",
    "import pandas as pd\n",
    "import matplotlib.pyplot as plt \n",
    "import seaborn as sns\n",
    "import os\n",
    "import importlib\n",
    "import download_clean_data as dc\n",
    "import ipca\n",
    "import metrics\n",
    "import kernel_regression as kr\n",
    "import validaton as val\n",
    "importlib.reload(dc) \n",
    "importlib.reload(ipca)\n",
    "importlib.reload(metrics)\n",
    "importlib.reload(kr)\n",
    "importlib.reload(val)"
   ]
  },
  {
   "cell_type": "code",
   "execution_count": 2,
   "metadata": {},
   "outputs": [],
   "source": [
    "folder_path = \"/Users/matteoferrazzi/Documents/GitHub/ML-project-2/Data/monthly_data\""
   ]
  },
  {
   "cell_type": "code",
   "execution_count": 3,
   "metadata": {},
   "outputs": [],
   "source": [
    "N = 100\n",
    "start_date = 20000000\n",
    "ending_date = 20060000\n",
    "data, ret = dc.download_clean_data(folder_path, start_date, ending_date,N)"
   ]
  },
  {
   "cell_type": "code",
   "execution_count": 4,
   "metadata": {},
   "outputs": [],
   "source": [
    "k = 5\n",
    "gamma_first = ipca.gamma_first(ret, data, k)  \n",
    "\n",
    "y = ret\n",
    "x = data"
   ]
  },
  {
   "cell_type": "markdown",
   "metadata": {},
   "source": [
    "### IPCA in sample"
   ]
  },
  {
   "cell_type": "code",
   "execution_count": 22,
   "metadata": {},
   "outputs": [
    {
     "name": "stdout",
     "output_type": "stream",
     "text": [
      "0.20603834335366955 0.013122979881249885\n"
     ]
    }
   ],
   "source": [
    "max_iter = 100\n",
    "\n",
    "gamma, f_list = ipca.ipca(data, ret, gamma_first.copy(), max_iter)\n",
    "\n",
    "print(metrics.total_R_squared(ret, data, gamma, f_list),metrics.pred_R_squared(ret, data, gamma, f_list))"
   ]
  },
  {
   "cell_type": "markdown",
   "metadata": {},
   "source": [
    "### IPCA out of sample"
   ]
  },
  {
   "cell_type": "code",
   "execution_count": 23,
   "metadata": {},
   "outputs": [
    {
     "name": "stdout",
     "output_type": "stream",
     "text": [
      "done\n"
     ]
    },
    {
     "data": {
      "text/plain": [
       "({'IPCA': 0.11402108026925972}, {'IPCA': 0.04012249450769889})"
      ]
     },
     "execution_count": 23,
     "metadata": {},
     "output_type": "execute_result"
    }
   ],
   "source": [
    "max_iter = 100\n",
    "\n",
    "val.cross_val_IPCA(y,x, 0.9, gamma_first, max_iter)"
   ]
  },
  {
   "cell_type": "markdown",
   "metadata": {},
   "source": [
    "### Regularized IPCA in sample"
   ]
  },
  {
   "cell_type": "code",
   "execution_count": 15,
   "metadata": {},
   "outputs": [
    {
     "name": "stdout",
     "output_type": "stream",
     "text": [
      "0.28894867592655415 0.028382087697019887\n"
     ]
    }
   ],
   "source": [
    "max_iter = 100\n",
    "W = np.eye(N)\n",
    "W_list = [W]*(len(data))\n",
    "lambda1 = 1\n",
    "lambda2 = 1\n",
    "\n",
    "gamma_reg_w, f_list_reg_w = ipca.ipca_reg_w(data, ret, gamma_first.copy(), max_iter, lambda1, lambda2, W_list)\n",
    "\n",
    "print(metrics.total_R_squared(ret, data, gamma_reg_w, f_list_reg_w),metrics.pred_R_squared(ret, data, gamma_reg_w, f_list_reg_w))"
   ]
  },
  {
   "cell_type": "code",
   "execution_count": 10,
   "metadata": {},
   "outputs": [
    {
     "data": {
      "text/plain": [
       "array([[-4.22752921e-03,  4.04052072e-04,  1.22452838e-03],\n",
       "       [ 1.82519432e-02, -1.99433337e-03, -5.28801713e-03],\n",
       "       [ 1.58144074e-02, -1.69672624e-03, -4.57836132e-03],\n",
       "       [-1.30133114e-03,  2.53331559e-04,  3.86690417e-04],\n",
       "       [ 4.79637636e-03, -5.07328512e-04, -1.38347068e-03],\n",
       "       [ 1.08739040e-02, -1.13856136e-03, -3.14569734e-03],\n",
       "       [-3.65263233e-03,  5.46689420e-04,  1.07105445e-03],\n",
       "       [-3.27720906e-03,  4.54680395e-04,  9.59204168e-04],\n",
       "       [-3.41568291e-03,  6.04931020e-04,  1.00975054e-03],\n",
       "       [-3.39584422e-03,  6.09651118e-04,  1.00477165e-03],\n",
       "       [ 4.03375471e-03, -3.91680334e-04, -1.15947375e-03],\n",
       "       [-4.91905965e-03,  5.54484880e-04,  1.42686787e-03],\n",
       "       [ 9.96025052e-03, -1.04100445e-03, -2.87994238e-03],\n",
       "       [ 4.84217701e-03, -5.20963889e-04, -1.40206020e-03],\n",
       "       [-4.03743583e-03,  4.10042431e-04,  1.16679072e-03],\n",
       "       [-7.49097210e-03,  7.99542560e-04,  2.16724491e-03],\n",
       "       [-1.24818530e-03,  1.75418175e-04,  3.63819877e-04],\n",
       "       [ 3.78334146e-03, -3.32717673e-04, -1.08355572e-03],\n",
       "       [-1.89250520e-03,  2.59968004e-04,  5.57159314e-04],\n",
       "       [-2.03464558e-04, -4.81702585e-06,  5.42687476e-05],\n",
       "       [ 1.33389428e-03, -1.93960941e-04, -3.89921050e-04],\n",
       "       [-3.10146472e-05,  3.67404936e-05,  1.23684342e-05],\n",
       "       [ 1.89273506e-03, -2.35255116e-04, -5.48671796e-04],\n",
       "       [-1.29194214e-04,  2.36097260e-05,  4.01936261e-05],\n",
       "       [ 5.16642618e-05, -3.40358339e-05, -1.56216397e-05],\n",
       "       [ 8.20016314e-04, -6.57119900e-05, -2.35542772e-04],\n",
       "       [ 4.09825032e-03, -4.26788885e-04, -1.18437995e-03],\n",
       "       [-1.40319026e-03,  1.51757835e-04,  4.04589363e-04],\n",
       "       [ 5.04123532e-03, -5.72060579e-04, -1.46301280e-03],\n",
       "       [-7.13994420e-04,  6.59498013e-05,  2.05835925e-04],\n",
       "       [ 1.10188542e-03, -1.39220011e-04, -3.23313392e-04],\n",
       "       [-6.21979764e-03,  5.93306570e-04,  1.78912978e-03],\n",
       "       [ 1.42064933e-03, -2.01681317e-04, -4.14695868e-04],\n",
       "       [-4.92183683e-03,  4.78499321e-04,  1.41712163e-03],\n",
       "       [ 1.63642802e-03, -5.31202756e-05, -4.55933786e-04],\n",
       "       [ 5.67171992e-04, -1.32217562e-04, -1.71022783e-04],\n",
       "       [ 1.75646250e-03, -2.22669901e-04, -5.11197593e-04],\n",
       "       [ 3.45858082e-04, -3.81985937e-05, -1.00481209e-04],\n",
       "       [ 1.74465516e-03, -2.10010798e-04, -5.04250541e-04],\n",
       "       [ 4.25098916e-04, -3.16026260e-05, -1.19907226e-04],\n",
       "       [-1.13081003e-03,  2.17347796e-05,  3.12662835e-04],\n",
       "       [ 9.24265703e-04, -1.22707800e-04, -2.68543192e-04],\n",
       "       [-9.33259352e-04,  1.52420352e-05,  2.67258556e-04],\n",
       "       [-4.86185485e-03,  5.74044172e-04,  1.41497837e-03],\n",
       "       [-3.33259917e-03,  4.60848296e-04,  9.78041205e-04],\n",
       "       [-1.03421672e-03,  1.87183896e-05,  2.89235779e-04],\n",
       "       [-2.72952617e-03,  2.85466639e-04,  7.88998217e-04],\n",
       "       [ 2.96775576e-04, -3.50419031e-05, -8.71291764e-05],\n",
       "       [-5.79675703e-04,  6.43974570e-05,  1.69337166e-04],\n",
       "       [-2.90355822e-03,  3.10641391e-04,  8.39965767e-04],\n",
       "       [-3.62043986e-04,  1.65191906e-05,  1.01048660e-04],\n",
       "       [ 9.57818313e-04, -1.08909819e-04, -2.78735698e-04],\n",
       "       [-5.49863540e-04,  9.13435547e-05,  1.62242222e-04],\n",
       "       [-1.62646588e-05, -2.57905912e-05, -3.28863801e-07],\n",
       "       [-1.37432515e-03,  1.65067526e-04,  4.00587946e-04],\n",
       "       [-1.45329272e-03,  2.45548003e-04,  4.32186706e-04],\n",
       "       [-1.55011306e-03,  1.61378749e-04,  4.46490296e-04],\n",
       "       [-8.89469841e-04,  7.77985173e-05,  2.56148378e-04],\n",
       "       [ 4.28351894e-03, -4.80036752e-04, -1.24519732e-03],\n",
       "       [ 3.89804775e-03, -3.70717273e-04, -1.12176119e-03],\n",
       "       [-4.94058944e-04,  4.63068699e-05,  1.42600141e-04],\n",
       "       [-2.12971514e-03,  3.49393098e-04,  6.34132554e-04],\n",
       "       [-2.45677965e-03,  2.86314516e-04,  7.12511292e-04],\n",
       "       [-1.04501908e-04, -8.40230033e-05,  1.85838167e-05],\n",
       "       [-2.22881680e-03,  2.63664087e-04,  6.49636295e-04],\n",
       "       [ 1.85721283e-03, -2.30929029e-04, -5.41058894e-04],\n",
       "       [ 9.24800316e-04, -1.06927816e-04, -2.68537186e-04],\n",
       "       [ 2.44235740e-03, -2.96487972e-04, -7.08715750e-04],\n",
       "       [-3.03648198e-03,  3.50922491e-04,  8.81712800e-04],\n",
       "       [ 1.61676891e-04, -6.21659204e-05, -5.68635204e-05],\n",
       "       [ 3.33213338e-03, -2.99443578e-04, -9.59672101e-04],\n",
       "       [-3.60676902e-03,  4.03963164e-04,  1.04552823e-03],\n",
       "       [ 4.77705548e-03, -4.50965303e-04, -1.37648275e-03],\n",
       "       [ 7.60002628e-03, -7.51760617e-04, -2.19199015e-03],\n",
       "       [ 1.84075795e-03, -1.62278412e-04, -5.29637793e-04],\n",
       "       [ 8.21045181e-04, -9.62709833e-05, -2.40137631e-04],\n",
       "       [ 3.78732097e-03, -3.45446281e-04, -1.09085314e-03],\n",
       "       [-2.00291158e-03,  2.67455076e-04,  5.84030343e-04],\n",
       "       [-2.80532418e-03,  3.82081966e-04,  8.24463788e-04],\n",
       "       [ 4.07765221e-03, -4.16878920e-04, -1.17768178e-03],\n",
       "       [-5.30927476e-03,  6.25312302e-04,  1.54445875e-03],\n",
       "       [-3.93088564e-03,  4.31599250e-04,  1.13624318e-03],\n",
       "       [ 1.82845468e-03, -2.16359176e-04, -5.32254250e-04],\n",
       "       [ 2.04179694e-03, -2.33614637e-04, -5.93007008e-04],\n",
       "       [ 3.46760762e-03, -2.69201192e-04, -9.88754761e-04],\n",
       "       [ 1.54707550e-02, -1.69934079e-03, -4.48348521e-03],\n",
       "       [-1.05592691e-03,  8.20555169e-05,  2.98430053e-04],\n",
       "       [ 8.53943553e-03, -9.55589382e-04, -2.47564477e-03],\n",
       "       [ 1.34198209e-02, -1.49135892e-03, -3.89046026e-03],\n",
       "       [-1.71712560e-03,  2.13089486e-04,  4.98915085e-04],\n",
       "       [ 4.47082038e-03, -4.82839094e-04, -1.29358046e-03],\n",
       "       [-3.94911231e-03,  4.21497274e-04,  1.14225663e-03],\n",
       "       [-8.48440486e-04,  4.36326824e-05,  2.36150558e-04],\n",
       "       [-3.71769040e-03,  4.16012264e-04,  1.07947309e-03]])"
      ]
     },
     "execution_count": 10,
     "metadata": {},
     "output_type": "execute_result"
    }
   ],
   "source": [
    "gamma_reg_w"
   ]
  },
  {
   "cell_type": "markdown",
   "metadata": {},
   "source": [
    "### Regularized IPCA out of sample"
   ]
  },
  {
   "cell_type": "code",
   "execution_count": 25,
   "metadata": {},
   "outputs": [
    {
     "data": {
      "text/plain": [
       "({('IPCA_reg', 1, 1): 0.11772320476163989},\n",
       " {('IPCA_reg', 1, 1): 0.04062621734902694})"
      ]
     },
     "execution_count": 25,
     "metadata": {},
     "output_type": "execute_result"
    }
   ],
   "source": [
    "max_iter\n",
    "trsh = 0.8\n",
    "lambda1_v = list([1])\n",
    "lambda2_v = list([1])\n",
    "\n",
    "val.cross_val_IPCA_reg(y,x, trsh, lambda1_v, lambda2_v, gamma_first, max_iter, W_list)"
   ]
  },
  {
   "cell_type": "markdown",
   "metadata": {},
   "source": [
    "### Linear Kernel in sample"
   ]
  },
  {
   "cell_type": "code",
   "execution_count": 26,
   "metadata": {},
   "outputs": [
    {
     "name": "stdout",
     "output_type": "stream",
     "text": [
      "0\n",
      "1\n",
      "2\n",
      "3\n",
      "4\n",
      "5\n",
      "6\n",
      "7\n",
      "8\n",
      "9\n",
      "0.203155657239388\n"
     ]
    }
   ],
   "source": [
    "data2 = data.copy()\n",
    "data2 = np.array(np.array(data2).reshape(72*100,94)) #flatten data, build X\n",
    "tk = 0\n",
    "l = 10\n",
    "K = kr.K_LR(data2, tk, l)\n",
    "\n",
    "_, f_list = ipca.ipca(data, ret, gamma_first.copy(), 1)\n",
    "\n",
    "lambda1 = 1e-10\n",
    "lambda2 = 1e-10\n",
    "Omega1=np.eye((len(data))*N)\n",
    "Omega2=np.eye(N)\n",
    "max_iter = 10\n",
    "\n",
    "f_list_kr, v_kr, Q_kr, _, _ = kr.kernel_regression(data, ret, f_list.copy(), lambda1, lambda2, Omega1, Omega2, max_iter, N, K)\n",
    "\n",
    "print(metrics.total_R_squared_kr(ret, v_kr, Q_kr))"
   ]
  },
  {
   "cell_type": "markdown",
   "metadata": {},
   "source": [
    "### Linear Kernel out of sample"
   ]
  },
  {
   "cell_type": "code",
   "execution_count": 27,
   "metadata": {},
   "outputs": [
    {
     "name": "stdout",
     "output_type": "stream",
     "text": [
      "start cycle\n",
      "0\n",
      "1\n",
      "2\n",
      "3\n",
      "4\n",
      "5\n",
      "6\n",
      "7\n",
      "8\n",
      "9\n",
      "done1\n",
      "done1\n",
      "done1\n",
      "done1\n",
      "done1\n",
      "done1\n",
      "done1\n",
      "done1\n",
      "done1\n",
      "done1\n",
      "done1\n",
      "done1\n",
      "done1\n",
      "done1\n",
      "done1\n",
      "done\n"
     ]
    },
    {
     "data": {
      "text/plain": [
       "{('Linear', 1, 1): array([0.12197899])}"
      ]
     },
     "execution_count": 27,
     "metadata": {},
     "output_type": "execute_result"
    }
   ],
   "source": [
    "_, f_list = ipca.ipca(data, ret, gamma_first.copy(), 1)\n",
    "\n",
    "trsh = 0.8\n",
    "lambda1_v = list([1])\n",
    "lambda2_v = list([1])\n",
    "max_iter = 10\n",
    "\n",
    "val.cross_val_linear(y,x, trsh, lambda1_v, lambda2_v, N, f_list.copy(), Omega2, max_iter)"
   ]
  },
  {
   "cell_type": "markdown",
   "metadata": {},
   "source": [
    "### Gaussian Kernel in sample"
   ]
  },
  {
   "cell_type": "code",
   "execution_count": 9,
   "metadata": {},
   "outputs": [
    {
     "name": "stdout",
     "output_type": "stream",
     "text": [
      "0\n",
      "1\n",
      "2\n",
      "3\n",
      "4\n",
      "5\n",
      "6\n",
      "7\n",
      "8\n",
      "9\n",
      "0.20965628221292554\n"
     ]
    }
   ],
   "source": [
    "data2 = data.copy()\n",
    "data2 = np.array(np.array(data2).reshape(72*100,94)) #flatten data, build X\n",
    "tk = 1\n",
    "l = 50\n",
    "K = kr.K_LR(data2, tk, l)\n",
    "\n",
    "_, f_list = ipca.ipca(data, ret, gamma_first.copy(), 1)\n",
    "\n",
    "lambda1 = 0.01\n",
    "lambda2 = 0.01\n",
    "Omega1=np.eye((len(data))*N)\n",
    "Omega2=np.eye(N)\n",
    "max_iter = 10\n",
    "\n",
    "f_list_kr, v_kr, Q_kr, _, _ = kr.kernel_regression(data, ret, f_list.copy(), lambda1, lambda2, Omega1, Omega2, max_iter, N, K)\n",
    "\n",
    "print(metrics.total_R_squared_kr(ret, v_kr, Q_kr))"
   ]
  },
  {
   "cell_type": "markdown",
   "metadata": {},
   "source": [
    "### Gaussian Kernel out of sample"
   ]
  },
  {
   "cell_type": "code",
   "execution_count": 52,
   "metadata": {},
   "outputs": [
    {
     "name": "stdout",
     "output_type": "stream",
     "text": [
      "start cycle\n",
      "0\n",
      "1\n",
      "2\n",
      "3\n",
      "4\n",
      "5\n",
      "6\n",
      "7\n",
      "8\n",
      "9\n",
      "done1\n",
      "done1\n",
      "done1\n",
      "done1\n",
      "done1\n",
      "done1\n",
      "done1\n",
      "done1\n",
      "done1\n",
      "done1\n",
      "done1\n",
      "done1\n",
      "done1\n",
      "done1\n",
      "done1\n",
      "done\n"
     ]
    },
    {
     "data": {
      "text/plain": [
       "{('Gaussian', 0.01, 0.01, 50): array([0.24979542])}"
      ]
     },
     "execution_count": 52,
     "metadata": {},
     "output_type": "execute_result"
    }
   ],
   "source": [
    "_, f_list = ipca.ipca(data, ret, gamma_first.copy(), 1)\n",
    "\n",
    "lambda1_v = list([0.01])\n",
    "lambda2_v = list([0.01])\n",
    "alphas_v = list([50])\n",
    "max_iter = 10\n",
    "\n",
    "val.cross_val_gaussian(y,x, trsh, lambda1_v, lambda2_v, alphas_v, N, f_list.copy(), Omega2, max_iter)"
   ]
  },
  {
   "cell_type": "markdown",
   "metadata": {},
   "source": [
    "0.24676195 100\n",
    "0.24979542 50"
   ]
  },
  {
   "cell_type": "markdown",
   "metadata": {},
   "source": [
    "### optional"
   ]
  },
  {
   "cell_type": "code",
   "execution_count": null,
   "metadata": {},
   "outputs": [],
   "source": [
    "m_hat = 10\n",
    "L, B = kr.pivoted_chol(K, m_hat)"
   ]
  },
  {
   "cell_type": "code",
   "execution_count": null,
   "metadata": {},
   "outputs": [
    {
     "data": {
      "text/plain": [
       "2046.1921825040288"
      ]
     },
     "execution_count": 93,
     "metadata": {},
     "output_type": "execute_result"
    }
   ],
   "source": [
    "np.linalg.norm(L@L.T - K)"
   ]
  },
  {
   "cell_type": "code",
   "execution_count": null,
   "metadata": {},
   "outputs": [
    {
     "name": "stdout",
     "output_type": "stream",
     "text": [
      "0\n",
      "1\n",
      "2\n",
      "3\n",
      "4\n",
      "5\n",
      "6\n",
      "7\n",
      "8\n",
      "9\n"
     ]
    }
   ],
   "source": [
    "f_list_kr_LR, v_kr_LR = kr.kernel_regression_LR(data, K, B, ret, f_list.copy(), lambda1, lambda2, Omega2, 10, m_hat, N)"
   ]
  },
  {
   "cell_type": "code",
   "execution_count": null,
   "metadata": {},
   "outputs": [
    {
     "name": "stdout",
     "output_type": "stream",
     "text": [
      "0.0017402896001241785\n"
     ]
    }
   ],
   "source": [
    "print(metrics.total_R_squared_kr_LR(ret, B, K, v_kr_LR, f_list_kr_LR))"
   ]
  },
  {
   "cell_type": "code",
   "execution_count": null,
   "metadata": {},
   "outputs": [
    {
     "name": "stdout",
     "output_type": "stream",
     "text": [
      "0\n",
      "1\n",
      "2\n",
      "3\n",
      "4\n",
      "5\n",
      "6\n",
      "7\n",
      "8\n",
      "9\n",
      "done1\n",
      "done1\n",
      "done1\n",
      "done1\n",
      "done1\n",
      "done1\n",
      "done1\n",
      "done1\n",
      "done1\n",
      "done1\n",
      "done1\n",
      "done1\n",
      "done1\n",
      "done1\n",
      "done\n"
     ]
    },
    {
     "data": {
      "text/plain": [
       "{('Gaussian', 0.1, 0.1, 1): 0.6073464811374132}"
      ]
     },
     "execution_count": 13,
     "metadata": {},
     "output_type": "execute_result"
    }
   ],
   "source": [
    "alphas_v = list([1])\n",
    "val.cross_val_gaussian(y,x, 0.8, lambda1_v, lambda2_v, alphas_v, N, f_list, Omega2, 10)"
   ]
  },
  {
   "cell_type": "code",
   "execution_count": null,
   "metadata": {},
   "outputs": [
    {
     "name": "stdout",
     "output_type": "stream",
     "text": [
      "1\n",
      "2\n",
      "3\n",
      "4\n",
      "5\n",
      "6\n",
      "7\n",
      "8\n",
      "9\n",
      "1\n",
      "2\n",
      "3\n",
      "4\n",
      "5\n",
      "6\n",
      "7\n",
      "8\n",
      "9\n",
      "39.86480749253068\n",
      "0\n",
      "1\n",
      "2\n",
      "3\n",
      "4\n",
      "5\n",
      "6\n",
      "7\n",
      "8\n",
      "9\n",
      "0.001\n"
     ]
    },
    {
     "data": {
      "text/plain": [
       "{('Gaussian', 0.1, 0.1, 1): 0.0}"
      ]
     },
     "execution_count": 21,
     "metadata": {},
     "output_type": "execute_result"
    }
   ],
   "source": [
    "val.cross_val_gaussian_LR(y, x, 0.8, lambda1_v, lambda2_v, alphas_v, N, f_list, Omega2, 10, m_hat)\n"
   ]
  },
  {
   "cell_type": "code",
   "execution_count": 63,
   "metadata": {},
   "outputs": [],
   "source": [
    "def process_data(Gamma_new, F_new):\n",
    "\n",
    "    R1 = np.linalg.cholesky(Gamma_new.T@Gamma_new).T\n",
    "    \n",
    "    R2, _, _ = np.linalg.svd(R1@F_new@(F_new.T)@R1.T)\n",
    "    \n",
    "    Gamma_new = Gamma_new@(np.linalg.inv(R1))@R2\n",
    "    F_new = np.linalg.solve(R2, R1@F_new)\n",
    "\n",
    "    sg = np.sign(np.mean(F_new, axis=1))\n",
    "    sg[sg == 0] = 1\n",
    "\n",
    "    print(sg)\n",
    "    \n",
    "    Gamma_new = Gamma_new * sg.reshape(-1, 1).T\n",
    "    F_new = F_new * sg.reshape(-1,1)\n",
    "\n",
    "    return Gamma_new, F_new\n"
   ]
  },
  {
   "cell_type": "code",
   "execution_count": 64,
   "metadata": {},
   "outputs": [
    {
     "name": "stdout",
     "output_type": "stream",
     "text": [
      "[0.12394496 0.0300283  0.03139432 0.24493833 0.08895897]\n",
      "[-1.  1. -1.  1. -1.]\n",
      "3.8662046019995466e-15\n",
      "[2.58441774 0.27759648 0.22140436 0.28011305 0.22963495]\n"
     ]
    }
   ],
   "source": [
    "F_new = np.random.randn(5, 72)\n",
    "Gamma_new = np.random.rand(94, 5)\n",
    "\n",
    "print(F_new.mean(axis = 1))\n",
    "\n",
    "Gamma_new, F_new = process_data(Gamma_new, F_new)\n",
    "\n",
    "print(np.linalg.norm(Gamma_new.T@Gamma_new-np.eye(Gamma_new.shape[1])))\n",
    "print(F_new.mean(axis = 1))"
   ]
  },
  {
   "cell_type": "code",
   "execution_count": 59,
   "metadata": {},
   "outputs": [
    {
     "data": {
      "text/plain": [
       "array([[ 1.00000000e+00, -5.86124409e-16, -2.38669266e-16,\n",
       "         2.91435209e-16,  5.31124211e-16],\n",
       "       [-5.86124409e-16,  1.00000000e+00,  6.70717397e-16,\n",
       "        -1.73646286e-15, -1.53713117e-15],\n",
       "       [-2.38669266e-16,  6.70717397e-16,  1.00000000e+00,\n",
       "        -2.38986772e-16, -7.46541386e-16],\n",
       "       [ 2.91435209e-16, -1.73646286e-15, -2.38986772e-16,\n",
       "         1.00000000e+00, -3.13047653e-17],\n",
       "       [ 5.31124211e-16, -1.53713117e-15, -7.46541386e-16,\n",
       "        -3.13047653e-17,  1.00000000e+00]])"
      ]
     },
     "execution_count": 59,
     "metadata": {},
     "output_type": "execute_result"
    }
   ],
   "source": [
    "Gamma_new.T@Gamma_new"
   ]
  }
 ],
 "metadata": {
  "kernelspec": {
   "display_name": "base",
   "language": "python",
   "name": "python3"
  },
  "language_info": {
   "codemirror_mode": {
    "name": "ipython",
    "version": 3
   },
   "file_extension": ".py",
   "mimetype": "text/x-python",
   "name": "python",
   "nbconvert_exporter": "python",
   "pygments_lexer": "ipython3",
   "version": "3.9.13"
  }
 },
 "nbformat": 4,
 "nbformat_minor": 2
}
