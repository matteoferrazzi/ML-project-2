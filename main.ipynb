{
 "cells": [
  {
   "cell_type": "code",
   "execution_count": 63,
   "metadata": {},
   "outputs": [],
   "source": [
    "import numpy as np\n",
    "import pandas as pd\n",
    "import matplotlib.pyplot as plt \n",
    "import seaborn as sns\n",
    "import os"
   ]
  },
  {
   "cell_type": "code",
   "execution_count": 64,
   "metadata": {},
   "outputs": [],
   "source": [
    "folder_path = '/Users/matteoferrazzi/Documents/GitHub/ML-project-2/Data/monthly_data'\n",
    "\n",
    "files = os.listdir(folder_path)"
   ]
  },
  {
   "cell_type": "code",
   "execution_count": 65,
   "metadata": {},
   "outputs": [],
   "source": [
    "datasets = []\n",
    "\n",
    "for file in files:\n",
    "    if file == '.DS_Store':\n",
    "        continue\n",
    "    df = pd.read_csv(folder_path + '/' + file, encoding='utf-8')\n",
    "    df['name'] = file\n",
    "    datasets.append(df)\n",
    "\n",
    "datasets.sort(key=lambda x: x['name'][0])"
   ]
  },
  {
   "cell_type": "code",
   "execution_count": 66,
   "metadata": {},
   "outputs": [],
   "source": [
    "macro = pd.read_csv('Data/macro_data_amit_goyal.csv', encoding='utf-8')\n",
    "macro = macro[macro['yyyymm']>199000]"
   ]
  },
  {
   "cell_type": "code",
   "execution_count": 67,
   "metadata": {},
   "outputs": [],
   "source": [
    "def standardize(df):\n",
    "    return (df - df.mean()) / df.std()"
   ]
  },
  {
   "cell_type": "code",
   "execution_count": 68,
   "metadata": {},
   "outputs": [],
   "source": [
    "def fill_missing(df):\n",
    "    return df.fillna(0)"
   ]
  },
  {
   "cell_type": "code",
   "execution_count": 69,
   "metadata": {},
   "outputs": [],
   "source": [
    "data = []\n",
    "ret = []\n",
    "\n",
    "for i,df in enumerate(datasets):\n",
    "    \n",
    "    df['mcap'] = df['SHROUT'] * df['prc']\n",
    "    df.drop(['permno', 'DATE', 'Unnamed: 0', 'mve0', 'prc', 'SHROUT', 'sic2', 'name'], axis=1, inplace=True)\n",
    "    df.dropna(thresh=60, axis=0, inplace=True)\n",
    "    df = df[df['RET'] > -1]\n",
    "    df = df.sort_values(by=['mcap'], ascending=False)\n",
    "    df.drop(['mcap'], axis=1, inplace=True)\n",
    "    df = df.head(100)\n",
    "    ret.append(df['RET']-macro['Rfree'].values[i])\n",
    "    df = df.drop(['RET'], axis=1)\n",
    "    df = standardize(df)\n",
    "    df = fill_missing(df)\n",
    "    data.append(df)"
   ]
  },
  {
   "cell_type": "code",
   "execution_count": 70,
   "metadata": {},
   "outputs": [],
   "source": [
    "def solve_f(ret, data, gamma, idx):\n",
    "    # risolve per la singola f poi dobbiamo metterle in una lista\n",
    "    return np.linalg.solve(gamma.T@data[idx-1].values.T@data[idx-1].values@gamma, gamma.T@data[idx-1].values.T@ret[idx].values)"
   ]
  },
  {
   "cell_type": "code",
   "execution_count": 71,
   "metadata": {},
   "outputs": [],
   "source": [
    "def solve_gamma(ret, data, f):\n",
    "    # f viene passato come lista\n",
    "    A = np.sum([np.kron(data[i].values.T@data[i].values, f[i].reshape(-1,1)@f[i].reshape(1,-1)) for i in range(len(data)-1)], axis=0)\n",
    "    B = np.sum([np.kron(data[i].values,f[i].reshape((1,-1))).T@ret[i+1] for i in range(len(data)-1)], axis=0)\n",
    "    vec_gamma = np.linalg.solve(A, B)\n",
    "    return vec_gamma.reshape((94, len(f[0])))"
   ]
  },
  {
   "cell_type": "code",
   "execution_count": 72,
   "metadata": {},
   "outputs": [],
   "source": [
    "gamma = np.random.rand(94,5)\n",
    "for i in range(100):\n",
    "    f_list = []\n",
    "    for i in range(len(data)-1):\n",
    "        f_list.append(solve_f(ret, data, gamma, i+1))\n",
    "    gamma = solve_gamma(ret, data, f_list)\n",
    "    "
   ]
  },
  {
   "cell_type": "code",
   "execution_count": 73,
   "metadata": {},
   "outputs": [],
   "source": [
    "def solve_f_reg(ret, data, gamma, idx, lambda_):\n",
    "    # risolve per la singola f poi dobbiamo metterle in una lista\n",
    "    return np.linalg.solve(gamma.T@data[idx-1].values.T@data[idx-1].values@gamma + lambda_*np.eye(gamma.shape[1]), gamma.T@data[idx-1].values.T@ret[idx].values)"
   ]
  },
  {
   "cell_type": "code",
   "execution_count": 74,
   "metadata": {},
   "outputs": [],
   "source": [
    "def solve_gamma_reg(ret, data, f, lambda_):\n",
    "    # f viene passato come lista\n",
    "    A = np.sum([np.kron(data[i].values.T@data[i].values, f[i].reshape(-1,1)@f[i].reshape(1,-1)) for i in range(len(data)-1)], axis=0) + lambda_*np.eye(gamma.shape[0]*gamma.shape[1])\n",
    "    B = np.sum([np.kron(data[i].values,f[i].reshape((1,-1))).T@ret[i+1] for i in range(len(data)-1)], axis=0)\n",
    "    vec_gamma = np.linalg.solve(A, B)\n",
    "    return vec_gamma.reshape((94, len(f[0])))"
   ]
  },
  {
   "cell_type": "code",
   "execution_count": 75,
   "metadata": {},
   "outputs": [],
   "source": [
    "gamma_reg = np.random.rand(94,5)\n",
    "lambda1 = 0.1\n",
    "lambda2 = 0.1\n",
    "for i in range(100):\n",
    "    f_list_reg = []\n",
    "    for i in range(len(data)-1):\n",
    "        f_list_reg.append(solve_f_reg(ret, data, gamma_reg, i+1, lambda1))\n",
    "    gamma_reg = solve_gamma_reg(ret, data, f_list_reg, lambda2)"
   ]
  },
  {
   "cell_type": "code",
   "execution_count": 76,
   "metadata": {},
   "outputs": [],
   "source": [
    "def total_R_squared(ret, data, gamma, f_list):\n",
    "    sum = 0\n",
    "    ret_2 = 0\n",
    "    l = len(ret[0])\n",
    "    for t in range(len(f_list)):\n",
    "        for i in range(l):\n",
    "            sum += (ret[t+1].iloc[i] - data[t].iloc[i].values@gamma@f_list[t])**2\n",
    "            ret_2 += ret[t+1].iloc[i]**2\n",
    "    \n",
    "    return 1 - sum/ret_2"
   ]
  },
  {
   "cell_type": "code",
   "execution_count": 77,
   "metadata": {},
   "outputs": [
    {
     "name": "stdout",
     "output_type": "stream",
     "text": [
      "0.10402833913181775\n"
     ]
    }
   ],
   "source": [
    "print(total_R_squared(ret, data, gamma, f_list))"
   ]
  },
  {
   "cell_type": "code",
   "execution_count": 78,
   "metadata": {},
   "outputs": [
    {
     "name": "stdout",
     "output_type": "stream",
     "text": [
      "0.10355905078649752\n"
     ]
    }
   ],
   "source": [
    "print(total_R_squared(ret, data, gamma_reg, f_list_reg))"
   ]
  }
 ],
 "metadata": {
  "kernelspec": {
   "display_name": "base",
   "language": "python",
   "name": "python3"
  },
  "language_info": {
   "codemirror_mode": {
    "name": "ipython",
    "version": 3
   },
   "file_extension": ".py",
   "mimetype": "text/x-python",
   "name": "python",
   "nbconvert_exporter": "python",
   "pygments_lexer": "ipython3",
   "version": "3.9.13"
  }
 },
 "nbformat": 4,
 "nbformat_minor": 2
}
