{
 "cells": [
  {
   "cell_type": "code",
   "execution_count": 110,
   "metadata": {},
   "outputs": [],
   "source": [
    "import numpy as np\n",
    "import pandas as pd\n",
    "import matplotlib.pyplot as plt \n",
    "import seaborn as sns\n",
    "import os"
   ]
  },
  {
   "cell_type": "code",
   "execution_count": 111,
   "metadata": {},
   "outputs": [],
   "source": [
    "folder_path = '/Users/matteoferrazzi/Documents/GitHub/ML-project-2/Data/monthly_data'\n",
    "\n",
    "files = os.listdir(folder_path)"
   ]
  },
  {
   "cell_type": "code",
   "execution_count": 112,
   "metadata": {},
   "outputs": [],
   "source": [
    "datasets = []\n",
    "\n",
    "for file in files:\n",
    "    if file == '.DS_Store':\n",
    "        continue\n",
    "    df = pd.read_csv(folder_path + '/' + file, encoding='utf-8')\n",
    "    df['name'] = file\n",
    "    datasets.append(df)\n",
    "\n",
    "datasets.sort(key=lambda x: x['name'][0])"
   ]
  },
  {
   "cell_type": "code",
   "execution_count": 113,
   "metadata": {},
   "outputs": [],
   "source": [
    "macro = pd.read_csv('Data/macro_data_amit_goyal.csv', encoding='utf-8')\n",
    "macro = macro[macro['yyyymm']>199000]"
   ]
  },
  {
   "cell_type": "code",
   "execution_count": 114,
   "metadata": {},
   "outputs": [],
   "source": [
    "def standardize(df):\n",
    "    return (df - df.mean()) / df.std()"
   ]
  },
  {
   "cell_type": "code",
   "execution_count": 115,
   "metadata": {},
   "outputs": [],
   "source": [
    "def fill_missing(df):\n",
    "    return df.fillna(0)"
   ]
  },
  {
   "cell_type": "code",
   "execution_count": 116,
   "metadata": {},
   "outputs": [],
   "source": [
    "data = []\n",
    "ret = []\n",
    "\n",
    "for i,df in enumerate(datasets):\n",
    "    \n",
    "    df['mcap'] = df['SHROUT'] * df['prc']\n",
    "    df.drop(['permno', 'DATE', 'Unnamed: 0', 'mve0', 'prc', 'SHROUT', 'sic2', 'name'], axis=1, inplace=True)\n",
    "    df.dropna(thresh=60, axis=0, inplace=True)\n",
    "    df = df[df['RET'] > -1]\n",
    "    df = df.sort_values(by=['mcap'], ascending=False)\n",
    "    df.drop(['mcap'], axis=1, inplace=True)\n",
    "    df = df.head(100)\n",
    "    ret.append(df['RET']-macro['Rfree'].values[i])\n",
    "    df = df.drop(['RET'], axis=1)\n",
    "    df = standardize(df)\n",
    "    df = fill_missing(df)\n",
    "    data.append(df)"
   ]
  },
  {
   "cell_type": "code",
   "execution_count": 117,
   "metadata": {},
   "outputs": [],
   "source": [
    "def solve_f(ret, data, gamma, idx):\n",
    "    # risolve per la singola f poi dobbiamo metterle in una lista\n",
    "    return np.linalg.solve(gamma.T@data[idx-1].values.T@data[idx-1].values@gamma, gamma.T@data[idx-1].values.T@ret[idx].values)"
   ]
  },
  {
   "cell_type": "code",
   "execution_count": 118,
   "metadata": {},
   "outputs": [],
   "source": [
    "def solve_gamma(ret, data, f):\n",
    "    # f viene passato come lista\n",
    "    A = np.sum([np.kron(data[i].values.T@data[i].values, f[i].reshape(-1,1)@f[i].reshape(1,-1)) for i in range(len(data)-1)], axis=0)\n",
    "    B = np.sum([np.kron(data[i].values,f[i].reshape((1,-1))).T@ret[i+1] for i in range(len(data)-1)], axis=0)\n",
    "    vec_gamma = np.linalg.solve(A, B)\n",
    "    return vec_gamma.reshape((94, len(f[0])))"
   ]
  },
  {
   "cell_type": "code",
   "execution_count": 137,
   "metadata": {},
   "outputs": [],
   "source": [
    "x = []\n",
    "for t in range(len(ret)-1):\n",
    "    x.append(data[t].values.T@ret[t+1].values/len(ret[0]))\n",
    "\n",
    "x_cov = np.sum([x[i].reshape((-1,1))@x[i].reshape((1,-1)) for i in range(len(x))], axis = 0)\n",
    "eigval_x, eigvec_x = np.linalg.eig(x_cov)\n",
    "\n",
    "idx = np.argsort(np.abs(eigval_x))[::-1]\n",
    "sort_eigvec_x = eigvec_x[:,idx]\n",
    "k = 5\n",
    "gamma = sort_eigvec_x[:,:k]\n",
    "gamma_reg = sort_eigvec_x[:,:k]"
   ]
  },
  {
   "cell_type": "code",
   "execution_count": 144,
   "metadata": {},
   "outputs": [],
   "source": [
    "first = False \n",
    "while True:\n",
    "\n",
    "    temp = []\n",
    "    f_list_new = []\n",
    "\n",
    "    for i in range(len(data)-1):\n",
    "        f = solve_f(ret, data, gamma, i+1)\n",
    "        f_list_new.append(f)\n",
    "        if first:\n",
    "            f_change = f-f_list[i]\n",
    "            temp.append(np.max(f_change))\n",
    "    first = True\n",
    "    f_list = f_list_new.copy()\n",
    "\n",
    "    gamma_new = solve_gamma(ret, data, f_list)\n",
    "    gamma_change = np.abs(gamma_new-gamma)\n",
    "    temp.append(np.max(gamma_change))\n",
    "    gamma = gamma_new.copy()\n",
    "    if (max(temp)<=1e-3):\n",
    "        break"
   ]
  },
  {
   "cell_type": "code",
   "execution_count": 133,
   "metadata": {},
   "outputs": [],
   "source": [
    "for i in range(1000):\n",
    "    f_list = []\n",
    "    for i in range(len(data)-1):\n",
    "        f_list.append(solve_f(ret, data, gamma, i+1))\n",
    "    gamma = solve_gamma(ret, data, f_list)\n",
    "    "
   ]
  },
  {
   "cell_type": "code",
   "execution_count": 121,
   "metadata": {},
   "outputs": [],
   "source": [
    "def solve_f_reg(ret, data, gamma, idx, lambda_):\n",
    "    # risolve per la singola f poi dobbiamo metterle in una lista\n",
    "    return np.linalg.solve(gamma.T@data[idx-1].values.T@data[idx-1].values@gamma + lambda_*np.eye(gamma.shape[1]), gamma.T@data[idx-1].values.T@ret[idx].values)"
   ]
  },
  {
   "cell_type": "code",
   "execution_count": 122,
   "metadata": {},
   "outputs": [],
   "source": [
    "def solve_gamma_reg(ret, data, f, lambda_):\n",
    "    # f viene passato come lista\n",
    "    A = np.sum([np.kron(data[i].values.T@data[i].values, f[i].reshape(-1,1)@f[i].reshape(1,-1)) for i in range(len(data)-1)], axis=0) + lambda_*np.eye(gamma.shape[0]*gamma.shape[1])\n",
    "    B = np.sum([np.kron(data[i].values,f[i].reshape((1,-1))).T@ret[i+1] for i in range(len(data)-1)], axis=0)\n",
    "    vec_gamma = np.linalg.solve(A, B)\n",
    "    return vec_gamma.reshape((94, len(f[0])))"
   ]
  },
  {
   "cell_type": "code",
   "execution_count": 150,
   "metadata": {},
   "outputs": [],
   "source": [
    "lambda1 = 0.1\n",
    "lambda2 = 0.1\n",
    "first = False \n",
    "while True:\n",
    "\n",
    "    temp = []\n",
    "    f_list_new = []\n",
    "\n",
    "    for i in range(len(data)-1):\n",
    "        f = solve_f_reg(ret, data, gamma_reg, i+1, lambda1)\n",
    "        f_list_new.append(f)\n",
    "        if first:\n",
    "            f_change = f-f_list_reg[i]\n",
    "            temp.append(np.max(f_change))\n",
    "    first = True\n",
    "    f_list_reg = f_list_new.copy()\n",
    "\n",
    "    gamma_new = solve_gamma_reg(ret, data, f_list_reg, lambda2)\n",
    "    gamma_change = np.abs(gamma_new-gamma_reg)\n",
    "    temp.append(np.max(gamma_change))\n",
    "    gamma_reg = gamma_new.copy()\n",
    "    if (max(temp)<=1e-3):\n",
    "        break"
   ]
  },
  {
   "cell_type": "code",
   "execution_count": 124,
   "metadata": {},
   "outputs": [],
   "source": [
    "for i in range(100):\n",
    "    f_list_reg = []\n",
    "    for i in range(len(data)-1):\n",
    "        f_list_reg.append(solve_f_reg(ret, data, gamma_reg, i+1, lambda1))\n",
    "    gamma_reg = solve_gamma_reg(ret, data, f_list_reg, lambda2)"
   ]
  },
  {
   "cell_type": "code",
   "execution_count": 125,
   "metadata": {},
   "outputs": [],
   "source": [
    "def total_R_squared(ret, data, gamma, f_list):\n",
    "    sum = 0\n",
    "    ret_2 = 0\n",
    "    l = len(ret[0])\n",
    "    for t in range(len(f_list)):\n",
    "        for i in range(l):\n",
    "            sum += (ret[t+1].iloc[i] - data[t].iloc[i].values@gamma@f_list[t])**2\n",
    "            ret_2 += ret[t+1].iloc[i]**2\n",
    "    \n",
    "    return 1 - sum/ret_2"
   ]
  },
  {
   "cell_type": "code",
   "execution_count": 145,
   "metadata": {},
   "outputs": [
    {
     "name": "stdout",
     "output_type": "stream",
     "text": [
      "0.10524008999518353\n"
     ]
    }
   ],
   "source": [
    "print(total_R_squared(ret, data, gamma, f_list))"
   ]
  },
  {
   "cell_type": "code",
   "execution_count": 151,
   "metadata": {},
   "outputs": [
    {
     "name": "stdout",
     "output_type": "stream",
     "text": [
      "0.10444497750791892\n"
     ]
    }
   ],
   "source": [
    "print(total_R_squared(ret, data, gamma_reg, f_list_reg))"
   ]
  }
 ],
 "metadata": {
  "kernelspec": {
   "display_name": "base",
   "language": "python",
   "name": "python3"
  },
  "language_info": {
   "codemirror_mode": {
    "name": "ipython",
    "version": 3
   },
   "file_extension": ".py",
   "mimetype": "text/x-python",
   "name": "python",
   "nbconvert_exporter": "python",
   "pygments_lexer": "ipython3",
   "version": "3.9.13"
  }
 },
 "nbformat": 4,
 "nbformat_minor": 2
}
