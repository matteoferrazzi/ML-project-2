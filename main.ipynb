{
 "cells": [
  {
   "cell_type": "code",
   "execution_count": 1,
   "metadata": {},
   "outputs": [],
   "source": [
    "import numpy as np\n",
    "import pandas as pd\n",
    "import matplotlib.pyplot as plt \n",
    "import seaborn as sns\n",
    "import os"
   ]
  },
  {
   "cell_type": "code",
   "execution_count": 2,
   "metadata": {},
   "outputs": [],
   "source": [
    "folder_path = \"/Users/andreabelvisi/Documents/GitHub/ML-project-2/Data/monthly_data\"\n",
    "files = os.listdir(folder_path)"
   ]
  },
  {
   "cell_type": "code",
   "execution_count": 3,
   "metadata": {},
   "outputs": [],
   "source": [
    "datasets = []\n",
    "\n",
    "for file in files:\n",
    "    if file == '.DS_Store':\n",
    "        continue\n",
    "    df = pd.read_csv(folder_path + '/' + file, encoding='utf-8')\n",
    "    df['name'] = file\n",
    "    datasets.append(df)\n",
    "\n",
    "datasets.sort(key=lambda x: x['name'][0])"
   ]
  },
  {
   "cell_type": "code",
   "execution_count": 4,
   "metadata": {},
   "outputs": [],
   "source": [
    "macro = pd.read_csv('Data/macro_data_amit_goyal.csv', encoding='utf-8')\n",
    "macro = macro[macro['yyyymm']>199000]"
   ]
  },
  {
   "cell_type": "code",
   "execution_count": 5,
   "metadata": {},
   "outputs": [],
   "source": [
    "def standardize(df):\n",
    "    return (df - df.mean()) / df.std()"
   ]
  },
  {
   "cell_type": "code",
   "execution_count": 6,
   "metadata": {},
   "outputs": [],
   "source": [
    "def fill_missing(df):\n",
    "    return df.fillna(0)"
   ]
  },
  {
   "cell_type": "code",
   "execution_count": 7,
   "metadata": {},
   "outputs": [],
   "source": [
    "data = []\n",
    "ret = []\n",
    "\n",
    "N = 100\n",
    "\n",
    "for i,df in enumerate(datasets):\n",
    "    \n",
    "    df['mcap'] = df['SHROUT'] * df['prc']\n",
    "    df.drop(['permno', 'DATE', 'Unnamed: 0', 'mve0', 'prc', 'SHROUT', 'sic2', 'name'], axis=1, inplace=True)\n",
    "    df.dropna(thresh=60, axis=0, inplace=True)\n",
    "    df = df[df['RET'] > -1]\n",
    "    df = df.sort_values(by=['mcap'], ascending=False)\n",
    "    df.drop(['mcap'], axis=1, inplace=True)\n",
    "    df = df.head(N)\n",
    "    ret.append(df['RET']-macro['Rfree'].values[i])\n",
    "    df = df.drop(['RET'], axis=1)\n",
    "    df = standardize(df)\n",
    "    df = fill_missing(df)\n",
    "    data.append(df)\n",
    "\n",
    "T = len(data)"
   ]
  },
  {
   "cell_type": "code",
   "execution_count": 8,
   "metadata": {},
   "outputs": [],
   "source": [
    "def solve_f(ret, data, gamma, idx):\n",
    "    # risolve per la singola f poi dobbiamo metterle in una lista\n",
    "    return np.linalg.solve(gamma.T@data[idx-1].values.T@data[idx-1].values@gamma, gamma.T@data[idx-1].values.T@ret[idx].values)"
   ]
  },
  {
   "cell_type": "code",
   "execution_count": 9,
   "metadata": {},
   "outputs": [],
   "source": [
    "def solve_gamma(ret, data, f):\n",
    "    # f viene passato come lista\n",
    "    A = np.sum([np.kron(data[i].values.T@data[i].values, f[i].reshape(-1,1)@f[i].reshape(1,-1)) for i in range(len(data)-1)], axis=0)\n",
    "    B = np.sum([np.kron(data[i].values,f[i].reshape((1,-1))).T@ret[i+1] for i in range(len(data)-1)], axis=0)\n",
    "    vec_gamma = np.linalg.solve(A, B)\n",
    "    return vec_gamma.reshape((94, len(f[0])))"
   ]
  },
  {
   "cell_type": "markdown",
   "metadata": {},
   "source": [
    "Parameter initialization"
   ]
  },
  {
   "cell_type": "code",
   "execution_count": 10,
   "metadata": {},
   "outputs": [],
   "source": [
    "x = []\n",
    "for t in range(len(ret)-1):\n",
    "    x.append(data[t].values.T@ret[t+1].values/len(ret[0]))\n",
    "\n",
    "x_cov = np.sum([x[i].reshape((-1,1))@x[i].reshape((1,-1)) for i in range(len(x))], axis = 0)\n",
    "eigval_x, eigvec_x = np.linalg.eig(x_cov)\n",
    "\n",
    "idx = np.argsort(np.abs(eigval_x))[::-1]\n",
    "sort_eigvec_x = eigvec_x[:,idx]\n",
    "k = 5\n",
    "gamma = sort_eigvec_x[:,:k]\n",
    "gamma_reg = sort_eigvec_x[:,:k]\n",
    "gamma_reg_w = sort_eigvec_x[:,:k]"
   ]
  },
  {
   "cell_type": "markdown",
   "metadata": {},
   "source": [
    "Regression no weights no regularization"
   ]
  },
  {
   "cell_type": "code",
   "execution_count": 11,
   "metadata": {},
   "outputs": [],
   "source": [
    "first = False \n",
    "while True:\n",
    "\n",
    "    temp = []\n",
    "    f_list_new = []\n",
    "\n",
    "    for i in range(len(data)-1):\n",
    "        f = solve_f(ret, data, gamma, i+1)\n",
    "        f_list_new.append(f)\n",
    "        if first:\n",
    "            f_change = f-f_list[i]\n",
    "            temp.append(np.max(f_change))\n",
    "    first = True\n",
    "    f_list = f_list_new.copy()\n",
    "\n",
    "    gamma_new = solve_gamma(ret, data, f_list)\n",
    "    gamma_change = np.abs(gamma_new-gamma)\n",
    "    temp.append(np.max(gamma_change))\n",
    "    gamma = gamma_new.copy()\n",
    "    if (max(temp)<=1e-3):\n",
    "        break"
   ]
  },
  {
   "cell_type": "code",
   "execution_count": 15,
   "metadata": {},
   "outputs": [],
   "source": [
    "#for i in range(1000):\n",
    "#    f_list = []\n",
    "#    for i in range(len(data)-1):\n",
    "#        f_list.append(solve_f(ret, data, gamma, i+1))\n",
    "#    gamma = solve_gamma(ret, data, f_list)\n",
    "    "
   ]
  },
  {
   "cell_type": "markdown",
   "metadata": {},
   "source": [
    "regression with regularization, no weights"
   ]
  },
  {
   "cell_type": "code",
   "execution_count": 16,
   "metadata": {},
   "outputs": [],
   "source": [
    "def solve_f_reg(ret, data, gamma, idx, lambda_):\n",
    "    # risolve per la singola f poi dobbiamo metterle in una lista\n",
    "    return np.linalg.solve(gamma.T@data[idx-1].values.T@data[idx-1].values@gamma + lambda_*np.eye(gamma.shape[1]), gamma.T@data[idx-1].values.T@ret[idx].values)"
   ]
  },
  {
   "cell_type": "code",
   "execution_count": 17,
   "metadata": {},
   "outputs": [],
   "source": [
    "def solve_gamma_reg(ret, data, f, lambda_):\n",
    "    # f viene passato come lista\n",
    "    A = np.sum([np.kron(data[i].values.T@data[i].values, f[i].reshape(-1,1)@f[i].reshape(1,-1)) for i in range(len(data)-1)], axis=0) + lambda_*np.eye(gamma.shape[0]*gamma.shape[1])\n",
    "    B = np.sum([np.kron(data[i].values,f[i].reshape((1,-1))).T@ret[i+1] for i in range(len(data)-1)], axis=0)\n",
    "    vec_gamma = np.linalg.solve(A, B)\n",
    "    return vec_gamma.reshape((94, len(f[0])))"
   ]
  },
  {
   "cell_type": "code",
   "execution_count": 18,
   "metadata": {},
   "outputs": [],
   "source": [
    "lambda1 = 0.1\n",
    "lambda2 = 0.1\n",
    "first = False \n",
    "while True:\n",
    "\n",
    "    temp = []\n",
    "    f_list_new = []\n",
    "\n",
    "    for i in range(len(data)-1):\n",
    "        f = solve_f_reg(ret, data, gamma_reg, i+1, lambda1)\n",
    "        f_list_new.append(f)\n",
    "        if first:\n",
    "            f_change = f-f_list_reg[i]\n",
    "            temp.append(np.max(f_change))\n",
    "    first = True\n",
    "    f_list_reg = f_list_new.copy()\n",
    "\n",
    "    gamma_new = solve_gamma_reg(ret, data, f_list_reg, lambda2)\n",
    "    gamma_change = np.abs(gamma_new-gamma_reg)\n",
    "    temp.append(np.max(gamma_change))\n",
    "    gamma_reg = gamma_new.copy()\n",
    "    if (max(temp)<=1e-3):\n",
    "        break"
   ]
  },
  {
   "cell_type": "code",
   "execution_count": 19,
   "metadata": {},
   "outputs": [],
   "source": [
    "#for i in range(100):\n",
    "#    f_list_reg = []\n",
    "#    for i in range(len(data)-1):\n",
    "#        f_list_reg.append(solve_f_reg(ret, data, gamma_reg, i+1, lambda1))\n",
    "#    gamma_reg = solve_gamma_reg(ret, data, f_list_reg, lambda2)"
   ]
  },
  {
   "cell_type": "markdown",
   "metadata": {},
   "source": [
    "regression with regularization and weights"
   ]
  },
  {
   "cell_type": "code",
   "execution_count": 20,
   "metadata": {},
   "outputs": [],
   "source": [
    "W = np.eye(N)\n",
    "\n",
    "W_list = [W]*(len(data)-1)"
   ]
  },
  {
   "cell_type": "code",
   "execution_count": 21,
   "metadata": {},
   "outputs": [],
   "source": [
    "def solve_f_reg_w(ret, data, gamma, idx,lambda_, W ):\n",
    "    # risolve per la singola f poi dobbiamo metterle in una lista\n",
    "    return np.linalg.solve(gamma.T@data[idx-1].values.T@W@data[idx-1].values@gamma + lambda_*np.eye(gamma.shape[1]), \n",
    "                           gamma.T@data[idx-1].values.T@W@ret[idx].values)"
   ]
  },
  {
   "cell_type": "code",
   "execution_count": 22,
   "metadata": {},
   "outputs": [],
   "source": [
    "def solve_gamma_reg_w(ret, data, f,lambda_, W):\n",
    "    # f viene passato come lista\n",
    "    A = np.sum([np.kron(data[i].values.T@W[i]@data[i].values, f[i].reshape(-1,1)@f[i].reshape(1,-1)) for i in range(len(data)-1)], \n",
    "               axis=0) + lambda_*np.eye(gamma.shape[0]*gamma.shape[1])\n",
    "    \n",
    "    B = np.sum([np.kron(np.sqrt(W[i])@data[i].values,f[i].reshape((1,-1))).T@np.sqrt(W[i])@ret[i+1] for i in range(len(data)-1)], axis=0)\n",
    "\n",
    "    vec_gamma = np.linalg.solve(A, B)\n",
    "    return vec_gamma.reshape((94, len(f[0])))"
   ]
  },
  {
   "cell_type": "code",
   "execution_count": 23,
   "metadata": {},
   "outputs": [],
   "source": [
    "lambda1 = 0.1\n",
    "lambda2 = 0.1\n",
    "first = False \n",
    "while True:\n",
    "\n",
    "    temp = []\n",
    "    f_list_new = []\n",
    "\n",
    "    for i in range(len(data)-1):\n",
    "        f = solve_f_reg_w(ret, data, gamma_reg_w, i+1, lambda1, W_list[i])\n",
    "        f_list_new.append(f)\n",
    "        if first:\n",
    "            f_change = f-f_list_reg[i]\n",
    "            temp.append(np.max(f_change))\n",
    "    first = True\n",
    "    f_list_reg_w = f_list_new.copy()\n",
    "\n",
    "    gamma_new = solve_gamma_reg_w(ret, data, f_list_reg_w, lambda2, W_list)\n",
    "    gamma_change = np.abs(gamma_new-gamma_reg_w)\n",
    "    temp.append(np.max(gamma_change))\n",
    "    gamma_reg_w = gamma_new.copy()\n",
    "    if (max(temp)<=1e-3):\n",
    "        break"
   ]
  },
  {
   "cell_type": "markdown",
   "metadata": {},
   "source": [
    "valuation metrics"
   ]
  },
  {
   "cell_type": "code",
   "execution_count": 24,
   "metadata": {},
   "outputs": [],
   "source": [
    "def total_R_squared(ret, data, gamma, f_list):\n",
    "    sum = 0\n",
    "    ret_2 = 0\n",
    "    l = len(ret[0])\n",
    "    for t in range(T-1):\n",
    "        for i in range(l):\n",
    "            sum += (ret[t+1].iloc[i] - data[t].iloc[i].values@gamma@f_list[t])**2\n",
    "            ret_2 += ret[t+1].iloc[i]**2\n",
    "    \n",
    "    return 1 - sum/ret_2"
   ]
  },
  {
   "cell_type": "code",
   "execution_count": 25,
   "metadata": {},
   "outputs": [],
   "source": [
    "def pred_R_squared(ret, data, gamma, f_list):\n",
    "\n",
    "    lambda_t = np.mean(np.array(f_list), axis = 0)\n",
    "    sum = 0\n",
    "    ret_2 = 0\n",
    "    l = len(ret[0])\n",
    "    for t in range(T-1):\n",
    "        for i in range(l):\n",
    "            sum += (ret[t+1].iloc[i] - data[t].iloc[i].values@gamma@lambda_t)**2\n",
    "            ret_2 += ret[t+1].iloc[i]**2\n",
    "    \n",
    "    return 1 - sum/ret_2"
   ]
  },
  {
   "cell_type": "code",
   "execution_count": 26,
   "metadata": {},
   "outputs": [
    {
     "name": "stdout",
     "output_type": "stream",
     "text": [
      "0.1052400899951863\n"
     ]
    }
   ],
   "source": [
    "print(total_R_squared(ret, data, gamma, f_list))"
   ]
  },
  {
   "cell_type": "code",
   "execution_count": 27,
   "metadata": {},
   "outputs": [
    {
     "name": "stdout",
     "output_type": "stream",
     "text": [
      "0.10418398722060174\n"
     ]
    }
   ],
   "source": [
    "print(total_R_squared(ret, data, gamma_reg, f_list_reg))"
   ]
  },
  {
   "cell_type": "code",
   "execution_count": 28,
   "metadata": {},
   "outputs": [
    {
     "name": "stdout",
     "output_type": "stream",
     "text": [
      "0.10418398722060251\n"
     ]
    }
   ],
   "source": [
    "print(total_R_squared(ret, data, gamma_reg_w, f_list_reg_w))"
   ]
  },
  {
   "cell_type": "code",
   "execution_count": 29,
   "metadata": {},
   "outputs": [
    {
     "name": "stdout",
     "output_type": "stream",
     "text": [
      "-0.0019198165602634099\n"
     ]
    }
   ],
   "source": [
    "print(pred_R_squared(ret, data, gamma, f_list))"
   ]
  },
  {
   "cell_type": "code",
   "execution_count": 30,
   "metadata": {},
   "outputs": [
    {
     "name": "stdout",
     "output_type": "stream",
     "text": [
      "-0.0009789326297886536\n"
     ]
    }
   ],
   "source": [
    "print(pred_R_squared(ret, data, gamma_reg, f_list_reg))"
   ]
  },
  {
   "cell_type": "code",
   "execution_count": 31,
   "metadata": {},
   "outputs": [
    {
     "name": "stdout",
     "output_type": "stream",
     "text": [
      "-0.0009789326297888756\n"
     ]
    }
   ],
   "source": [
    "print(pred_R_squared(ret, data, gamma_reg_w,f_list_reg_w))"
   ]
  },
  {
   "cell_type": "markdown",
   "metadata": {},
   "source": [
    "## Kernel regressions:"
   ]
  },
  {
   "cell_type": "code",
   "execution_count": 30,
   "metadata": {},
   "outputs": [],
   "source": [
    "def kernel(x,xt, tk=0, alpha=1, l=1, gamma=1):\n",
    "\n",
    "    norm=np.linalg.norm(x-xt)**2\n",
    "\n",
    "    #Linear\n",
    "    if tk==0:\n",
    "        return x@xt.T\n",
    "    \n",
    "    #Gaussian\n",
    "    if tk==1:\n",
    "        return np.exp(-norm/(2*l**2))\n",
    "    \n",
    "    #Rational Quadratic\n",
    "    if tk==2:\n",
    "        return (1+norm/(2*alpha*l**2))**(-alpha)\n",
    "    \n",
    "    #Gaussian Exponential\n",
    "    if tk==3:\n",
    "        return np.exp(-norm**(gamma/2)/(l**gamma))"
   ]
  },
  {
   "cell_type": "code",
   "execution_count": null,
   "metadata": {},
   "outputs": [],
   "source": [
    "def solve_v_kernel (ret, lambda1, data, f):\n",
    "    #f is a list\n",
    "    #compute Q matrix\n",
    "    A=np.array(f)@np.array(f).T\n",
    "    Q=np.zeros_like(A)\n",
    "\n",
    "    T=len(data)\n",
    "    for t in range(0,T-1):\n",
    "        for s in range(0,T-1):\n",
    "            Q[t,s]=A[t,s]"
   ]
  },
  {
   "cell_type": "code",
   "execution_count": 43,
   "metadata": {},
   "outputs": [],
   "source": [
    "T=len(data)\n",
    "A=np.array(f_list)@np.array(f_list).T\n",
    "Q=np.zeros([(T-1)*N, (T-1)*N])\n",
    "\n",
    "for t in range(0,T-1):\n",
    "    for s in range(0,T-1):\n",
    "        Q[t*100:(t+1)*100,s*100:(s+1)*100]=A[t,s]*kernel(np.array(data[t].values), np.array(data[s].values))"
   ]
  },
  {
   "cell_type": "code",
   "execution_count": 44,
   "metadata": {},
   "outputs": [],
   "source": [
    "Omega=np.eye((T-1)*N, (T-1)*N)"
   ]
  },
  {
   "cell_type": "code",
   "execution_count": 45,
   "metadata": {},
   "outputs": [
    {
     "ename": "",
     "evalue": "",
     "output_type": "error",
     "traceback": [
      "\u001b[1;31mThe Kernel crashed while executing code in the the current cell or a previous cell. Please review the code in the cell(s) to identify a possible cause of the failure. Click <a href='https://aka.ms/vscodeJupyterKernelCrash'>here</a> for more info. View Jupyter <a href='command:jupyter.viewOutput'>log</a> for further details."
     ]
    }
   ],
   "source": [
    "lambda1=1\n",
    "R=np.array(ret).flatten()"
   ]
  },
  {
   "cell_type": "code",
   "execution_count": 42,
   "metadata": {},
   "outputs": [
    {
     "data": {
      "text/plain": [
       "(37200,)"
      ]
     },
     "execution_count": 42,
     "metadata": {},
     "output_type": "execute_result"
    }
   ],
   "source": [
    "np.linalg.solve(Q+lambda1*Omega, R)"
   ]
  },
  {
   "cell_type": "code",
   "execution_count": 31,
   "metadata": {},
   "outputs": [
    {
     "data": {
      "text/plain": [
       "(100, 100)"
      ]
     },
     "execution_count": 31,
     "metadata": {},
     "output_type": "execute_result"
    }
   ],
   "source": [
    "kernel(np.array(data[1].values), np.array(data[1].values)).shape"
   ]
  },
  {
   "cell_type": "code",
   "execution_count": 27,
   "metadata": {},
   "outputs": [
    {
     "data": {
      "text/plain": [
       "(100, 94)"
      ]
     },
     "execution_count": 27,
     "metadata": {},
     "output_type": "execute_result"
    }
   ],
   "source": [
    "np.array(data[1].values).shape"
   ]
  },
  {
   "cell_type": "code",
   "execution_count": 29,
   "metadata": {},
   "outputs": [
    {
     "data": {
      "text/plain": [
       "(100, 94)"
      ]
     },
     "execution_count": 29,
     "metadata": {},
     "output_type": "execute_result"
    }
   ],
   "source": [
    "np.array(data[1].values).shape"
   ]
  }
 ],
 "metadata": {
  "kernelspec": {
   "display_name": "base",
   "language": "python",
   "name": "python3"
  },
  "language_info": {
   "codemirror_mode": {
    "name": "ipython",
    "version": 3
   },
   "file_extension": ".py",
   "mimetype": "text/x-python",
   "name": "python",
   "nbconvert_exporter": "python",
   "pygments_lexer": "ipython3",
   "version": "3.9.13"
  }
 },
 "nbformat": 4,
 "nbformat_minor": 2
}
