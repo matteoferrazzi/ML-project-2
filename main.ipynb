{
 "cells": [
  {
   "cell_type": "code",
   "execution_count": 160,
   "metadata": {},
   "outputs": [],
   "source": [
    "import numpy as np\n",
    "import pandas as pd\n",
    "import matplotlib.pyplot as plt \n",
    "import seaborn as sns\n",
    "import os"
   ]
  },
  {
   "cell_type": "code",
   "execution_count": 161,
   "metadata": {},
   "outputs": [],
   "source": [
    "folder_path = \"/Users/andreabelvisi/Documents/GitHub/ML-project-2/Data/monthly_data\"\n",
    "files = os.listdir(folder_path)"
   ]
  },
  {
   "cell_type": "code",
   "execution_count": 162,
   "metadata": {},
   "outputs": [],
   "source": [
    "datasets = []\n",
    "\n",
    "for file in files:\n",
    "    if file == '.DS_Store':\n",
    "        continue\n",
    "    df = pd.read_csv(folder_path + '/' + file,  encoding='utf-8')\n",
    "    df['name'] = file\n",
    "    datasets.append(df)\n",
    "\n",
    "datasets.sort(key=lambda x: x['name'][0])"
   ]
  },
  {
   "cell_type": "code",
   "execution_count": 163,
   "metadata": {},
   "outputs": [],
   "source": [
    "macro = pd.read_csv('Data/macro_data_amit_goyal.csv', encoding='utf-8')\n",
    "macro = macro[macro['yyyymm']>201500]"
   ]
  },
  {
   "cell_type": "code",
   "execution_count": 164,
   "metadata": {},
   "outputs": [],
   "source": [
    "def standardize(df):\n",
    "    return (df - df.mean()) / df.std()"
   ]
  },
  {
   "cell_type": "code",
   "execution_count": 165,
   "metadata": {},
   "outputs": [],
   "source": [
    "def fill_missing(df):\n",
    "    return df.fillna(0)"
   ]
  },
  {
   "cell_type": "code",
   "execution_count": 166,
   "metadata": {},
   "outputs": [],
   "source": [
    "data = []\n",
    "ret = []\n",
    "\n",
    "N = 100\n",
    "\n",
    "for i,df in enumerate(datasets):\n",
    "    \n",
    "    df['mcap'] = df['SHROUT'] * df['prc']\n",
    "    df.drop(['permno', 'DATE', 'Unnamed: 0', 'mve0', 'prc', 'SHROUT', 'sic2', 'name'], axis=1, inplace=True)\n",
    "    df.dropna(thresh=60, axis=0, inplace=True)\n",
    "    df = df[df['RET'] > -1]\n",
    "    df = df.sort_values(by=['mcap'], ascending=False)\n",
    "    df.drop(['mcap'], axis=1, inplace=True)\n",
    "    df = df.head(N)\n",
    "    ret.append(df['RET']-macro['Rfree'].values[i])\n",
    "    df = df.drop(['RET'], axis=1)\n",
    "    df = standardize(df)\n",
    "    df = fill_missing(df)\n",
    "    data.append(df)\n",
    "\n",
    "T = len(data)"
   ]
  },
  {
   "cell_type": "code",
   "execution_count": 167,
   "metadata": {},
   "outputs": [],
   "source": [
    "def solve_f(ret, data, gamma, idx):\n",
    "    # risolve per la singola f poi dobbiamo metterle in una lista\n",
    "    return np.linalg.solve(gamma.T@data[idx-1].values.T@data[idx-1].values@gamma, gamma.T@data[idx-1].values.T@ret[idx].values)"
   ]
  },
  {
   "cell_type": "code",
   "execution_count": 168,
   "metadata": {},
   "outputs": [],
   "source": [
    "def solve_gamma(ret, data, f):\n",
    "    # f viene passato come lista\n",
    "    A = np.sum([np.kron(data[i].values.T@data[i].values, f[i].reshape(-1,1)@f[i].reshape(1,-1)) for i in range(len(data)-1)], axis=0)\n",
    "    B = np.sum([np.kron(data[i].values,f[i].reshape((1,-1))).T@ret[i+1] for i in range(len(data)-1)], axis=0)\n",
    "    vec_gamma = np.linalg.solve(A, B)\n",
    "    return vec_gamma.reshape((94, len(f[0])))"
   ]
  },
  {
   "cell_type": "markdown",
   "metadata": {},
   "source": [
    "Parameter initialization"
   ]
  },
  {
   "cell_type": "code",
   "execution_count": 169,
   "metadata": {},
   "outputs": [],
   "source": [
    "x = []\n",
    "for t in range(len(ret)-1):\n",
    "    x.append(data[t].values.T@ret[t+1].values/len(ret[0]))\n",
    "\n",
    "x_cov = np.sum([x[i].reshape((-1,1))@x[i].reshape((1,-1)) for i in range(len(x))], axis = 0)\n",
    "eigval_x, eigvec_x = np.linalg.eig(x_cov)\n",
    "\n",
    "idx = np.argsort(np.abs(eigval_x))[::-1]\n",
    "sort_eigvec_x = eigvec_x[:,idx].real\n",
    "k = 5\n",
    "gamma = sort_eigvec_x[:,:k]\n",
    "gamma_reg = sort_eigvec_x[:,:k]\n",
    "gamma_reg_w = sort_eigvec_x[:,:k]"
   ]
  },
  {
   "cell_type": "markdown",
   "metadata": {},
   "source": [
    "Regression no weights no regularization"
   ]
  },
  {
   "cell_type": "code",
   "execution_count": 171,
   "metadata": {},
   "outputs": [],
   "source": [
    "first = False \n",
    "while True:\n",
    "\n",
    "    temp = []\n",
    "    f_list_new = []\n",
    "\n",
    "    for i in range(len(data)-1):\n",
    "        f = solve_f(ret, data, gamma, i+1)\n",
    "        f_list_new.append(f)\n",
    "        if first:\n",
    "            f_change = f-f_list[i]\n",
    "            temp.append(np.max(f_change))\n",
    "    first = True\n",
    "    f_list = f_list_new.copy()\n",
    "\n",
    "    gamma_new = solve_gamma(ret, data, f_list)\n",
    "    gamma_change = np.abs(gamma_new-gamma)\n",
    "    temp.append(np.max(gamma_change))\n",
    "    gamma = gamma_new.copy()\n",
    "    \n",
    "    if (max(temp)<=1e-3):\n",
    "        break"
   ]
  },
  {
   "cell_type": "code",
   "execution_count": null,
   "metadata": {},
   "outputs": [],
   "source": [
    "#for i in range(1000):\n",
    "#    f_list = []\n",
    "#    for i in range(len(data)-1):\n",
    "#        f_list.append(solve_f(ret, data, gamma, i+1))\n",
    "#    gamma = solve_gamma(ret, data, f_list)\n",
    "    "
   ]
  },
  {
   "cell_type": "markdown",
   "metadata": {},
   "source": [
    "regression with regularization, no weights"
   ]
  },
  {
   "cell_type": "code",
   "execution_count": null,
   "metadata": {},
   "outputs": [],
   "source": [
    "def solve_f_reg(ret, data, gamma, idx, lambda_):\n",
    "    # risolve per la singola f poi dobbiamo metterle in una lista\n",
    "    return np.linalg.solve(gamma.T@data[idx-1].values.T@data[idx-1].values@gamma + lambda_*np.eye(gamma.shape[1]), gamma.T@data[idx-1].values.T@ret[idx].values)"
   ]
  },
  {
   "cell_type": "code",
   "execution_count": null,
   "metadata": {},
   "outputs": [],
   "source": [
    "def solve_gamma_reg(ret, data, f, lambda_):\n",
    "    # f viene passato come lista\n",
    "    A = np.sum([np.kron(data[i].values.T@data[i].values, f[i].reshape(-1,1)@f[i].reshape(1,-1)) for i in range(len(data)-1)], axis=0) + lambda_*np.eye(gamma.shape[0]*gamma.shape[1])\n",
    "    B = np.sum([np.kron(data[i].values,f[i].reshape((1,-1))).T@ret[i+1] for i in range(len(data)-1)], axis=0)\n",
    "    vec_gamma = np.linalg.solve(A, B)\n",
    "    return vec_gamma.reshape((94, len(f[0])))"
   ]
  },
  {
   "cell_type": "code",
   "execution_count": null,
   "metadata": {},
   "outputs": [],
   "source": [
    "lambda1 = 0.1\n",
    "lambda2 = 0.1\n",
    "first = False \n",
    "while True:\n",
    "\n",
    "    temp = []\n",
    "    f_list_new = []\n",
    "\n",
    "    for i in range(len(data)-1):\n",
    "        f = solve_f_reg(ret, data, gamma_reg, i+1, lambda1)\n",
    "        f_list_new.append(f)\n",
    "        if first:\n",
    "            f_change = f-f_list_reg[i]\n",
    "            temp.append(np.max(f_change))\n",
    "    first = True\n",
    "    f_list_reg = f_list_new.copy()\n",
    "\n",
    "    gamma_new = solve_gamma_reg(ret, data, f_list_reg, lambda2)\n",
    "    gamma_change = np.abs(gamma_new-gamma_reg)\n",
    "    temp.append(np.max(gamma_change))\n",
    "    gamma_reg = gamma_new.copy()\n",
    "    if (max(temp)<=1e-3):\n",
    "        break"
   ]
  },
  {
   "cell_type": "code",
   "execution_count": null,
   "metadata": {},
   "outputs": [],
   "source": [
    "#for i in range(100):\n",
    "#    f_list_reg = []\n",
    "#    for i in range(len(data)-1):\n",
    "#        f_list_reg.append(solve_f_reg(ret, data, gamma_reg, i+1, lambda1))\n",
    "#    gamma_reg = solve_gamma_reg(ret, data, f_list_reg, lambda2)"
   ]
  },
  {
   "cell_type": "markdown",
   "metadata": {},
   "source": [
    "regression with regularization and weights"
   ]
  },
  {
   "cell_type": "code",
   "execution_count": null,
   "metadata": {},
   "outputs": [],
   "source": [
    "W = np.eye(N)\n",
    "\n",
    "W_list = [W]*(len(data)-1)"
   ]
  },
  {
   "cell_type": "code",
   "execution_count": null,
   "metadata": {},
   "outputs": [],
   "source": [
    "def solve_f_reg_w(ret, data, gamma, idx,lambda_, W ):\n",
    "    # risolve per la singola f poi dobbiamo metterle in una lista\n",
    "    return np.linalg.solve(gamma.T@data[idx-1].values.T@W@data[idx-1].values@gamma + lambda_*np.eye(gamma.shape[1]), \n",
    "                           gamma.T@data[idx-1].values.T@W@ret[idx].values)"
   ]
  },
  {
   "cell_type": "code",
   "execution_count": null,
   "metadata": {},
   "outputs": [],
   "source": [
    "def solve_gamma_reg_w(ret, data, f,lambda_, W):\n",
    "    # f viene passato come lista\n",
    "    A = np.sum([np.kron(data[i].values.T@W[i]@data[i].values, f[i].reshape(-1,1)@f[i].reshape(1,-1)) for i in range(len(data)-1)], \n",
    "               axis=0) + lambda_*np.eye(gamma.shape[0]*gamma.shape[1])\n",
    "    \n",
    "    B = np.sum([np.kron(np.sqrt(W[i])@data[i].values,f[i].reshape((1,-1))).T@np.sqrt(W[i])@ret[i+1] for i in range(len(data)-1)], axis=0)\n",
    "\n",
    "    vec_gamma = np.linalg.solve(A, B)\n",
    "    return vec_gamma.reshape((94, len(f[0])))"
   ]
  },
  {
   "cell_type": "code",
   "execution_count": null,
   "metadata": {},
   "outputs": [],
   "source": [
    "lambda1 = 0.1\n",
    "lambda2 = 0.1\n",
    "first = False \n",
    "while True:\n",
    "\n",
    "    temp = []\n",
    "    f_list_new = []\n",
    "\n",
    "    for i in range(len(data)-1):\n",
    "        f = solve_f_reg_w(ret, data, gamma_reg_w, i+1, lambda1, W_list[i])\n",
    "        f_list_new.append(f)\n",
    "        if first:\n",
    "            f_change = f-f_list_reg_w[i]\n",
    "            temp.append(np.max(f_change))\n",
    "    first = True\n",
    "    f_list_reg_w = f_list_new.copy()\n",
    "\n",
    "    gamma_new = solve_gamma_reg_w(ret, data, f_list_reg_w, lambda2, W_list)\n",
    "    gamma_change = np.abs(gamma_new-gamma_reg_w)\n",
    "    temp.append(np.max(gamma_change))\n",
    "    gamma_reg_w = gamma_new.copy()\n",
    "    if (max(temp)<=1e-3):\n",
    "        break"
   ]
  },
  {
   "cell_type": "markdown",
   "metadata": {},
   "source": [
    "valuation metrics"
   ]
  },
  {
   "cell_type": "code",
   "execution_count": 142,
   "metadata": {},
   "outputs": [],
   "source": [
    "def total_R_squared(ret, data, gamma, f_list):\n",
    "    sum = 0\n",
    "    ret_2 = 0\n",
    "    l = len(ret[0])\n",
    "    for t in range(T-1):\n",
    "        for i in range(l):\n",
    "            sum += (ret[t+1].iloc[i] - data[t].iloc[i].values@gamma@f_list[t])**2\n",
    "            ret_2 += ret[t+1].iloc[i]**2\n",
    "    \n",
    "    return 1 - sum/ret_2"
   ]
  },
  {
   "cell_type": "code",
   "execution_count": null,
   "metadata": {},
   "outputs": [],
   "source": [
    "def pred_R_squared(ret, data, gamma, f_list):\n",
    "\n",
    "    lambda_t = np.mean(np.array(f_list), axis = 0)\n",
    "    sum = 0\n",
    "    ret_2 = 0\n",
    "    l = len(ret[0])\n",
    "    for t in range(T-1):\n",
    "        for i in range(l):\n",
    "            sum += (ret[t+1].iloc[i] - data[t].iloc[i].values@gamma@lambda_t)**2\n",
    "            ret_2 += ret[t+1].iloc[i]**2\n",
    "    \n",
    "    return 1 - sum/ret_2"
   ]
  },
  {
   "cell_type": "code",
   "execution_count": null,
   "metadata": {},
   "outputs": [
    {
     "name": "stdout",
     "output_type": "stream",
     "text": [
      "0.1052400899951863\n"
     ]
    }
   ],
   "source": [
    "print(total_R_squared(ret, data, gamma, f_list))"
   ]
  },
  {
   "cell_type": "code",
   "execution_count": null,
   "metadata": {},
   "outputs": [
    {
     "name": "stdout",
     "output_type": "stream",
     "text": [
      "0.10418398722060174\n"
     ]
    }
   ],
   "source": [
    "print(total_R_squared(ret, data, gamma_reg, f_list_reg))"
   ]
  },
  {
   "cell_type": "code",
   "execution_count": null,
   "metadata": {},
   "outputs": [
    {
     "name": "stdout",
     "output_type": "stream",
     "text": [
      "0.10418398722060251\n"
     ]
    }
   ],
   "source": [
    "print(total_R_squared(ret, data, gamma_reg_w, f_list_reg_w))"
   ]
  },
  {
   "cell_type": "code",
   "execution_count": null,
   "metadata": {},
   "outputs": [
    {
     "name": "stdout",
     "output_type": "stream",
     "text": [
      "-0.0019198165602634099\n"
     ]
    }
   ],
   "source": [
    "print(pred_R_squared(ret, data, gamma, f_list))"
   ]
  },
  {
   "cell_type": "code",
   "execution_count": null,
   "metadata": {},
   "outputs": [
    {
     "name": "stdout",
     "output_type": "stream",
     "text": [
      "-0.0009789326297886536\n"
     ]
    }
   ],
   "source": [
    "print(pred_R_squared(ret, data, gamma_reg, f_list_reg))"
   ]
  },
  {
   "cell_type": "code",
   "execution_count": null,
   "metadata": {},
   "outputs": [
    {
     "name": "stdout",
     "output_type": "stream",
     "text": [
      "-0.0009789326297888756\n"
     ]
    }
   ],
   "source": [
    "print(pred_R_squared(ret, data, gamma_reg_w,f_list_reg_w))"
   ]
  },
  {
   "cell_type": "markdown",
   "metadata": {},
   "source": [
    "## Kernel regressions:"
   ]
  },
  {
   "cell_type": "markdown",
   "metadata": {},
   "source": [
    "First step: compute g"
   ]
  },
  {
   "cell_type": "code",
   "execution_count": 172,
   "metadata": {},
   "outputs": [],
   "source": [
    "def kernel(x,xt, tk=0, alpha=1, l=1, gamma=1):\n",
    "\n",
    "    norm=np.linalg.norm(x-xt)**2\n",
    "\n",
    "    #Linear\n",
    "    if tk==0:\n",
    "        return x@xt.T\n",
    "    \n",
    "    #Gaussian\n",
    "    if tk==1:\n",
    "        return np.exp(-norm/(2*l**2))\n",
    "    \n",
    "    #Rational Quadratic\n",
    "    if tk==2:\n",
    "        return (1+norm/(2*alpha*l**2))**(-alpha)\n",
    "    \n",
    "    #Gaussian Exponential\n",
    "    if tk==3:\n",
    "        return np.exp(-norm**(gamma/2)/(l**gamma))"
   ]
  },
  {
   "cell_type": "code",
   "execution_count": 173,
   "metadata": {},
   "outputs": [],
   "source": [
    "def Kernel(x,xt, tk=0, l=1):\n",
    "    #x is a 1x94 or a 100x94\n",
    "    #xt is always 100x94\n",
    "\n",
    "    #Linear\n",
    "    if tk==0:\n",
    "        return x@xt.T \n",
    "\n",
    "    #Gaussian\n",
    "    if tk==1:\n",
    "        K=np.zeros([x.shape[0], xt.shape[0]])\n",
    "        for i in range(0,x.shape[0]):\n",
    "            for j in range(0,xt.shape[0]):\n",
    "                    K[i,j]=np.exp(-np.linalg.norm(x[i,:]-xt[j,:])**2/2*l**2)\n",
    "        return K\n"
   ]
  },
  {
   "cell_type": "code",
   "execution_count": 174,
   "metadata": {},
   "outputs": [],
   "source": [
    "def solve_v_kernel (ret, lambda1, data, f_list):\n",
    "    #f is a list\n",
    "    #compute Q matrix\n",
    "    T=len(data)\n",
    "    A=np.array(f_list)@np.array(f_list).T\n",
    "    Q=np.zeros([(T-1)*N, (T-1)*N])\n",
    "    R=np.array(ret[1:]).flatten()\n",
    "    Omega=np.eye((T-1)*N, (T-1)*N)\n",
    "\n",
    "    for t in range(0,T-1):\n",
    "        for s in range(0,T-1):\n",
    "            Q[t*100:(t+1)*100,s*100:(s+1)*100]=A[t,s]*kernel(np.array(data[t].values), np.array(data[s].values))\n",
    "    \n",
    "    v=np.linalg.solve(Q+lambda1*Omega, R)\n",
    "    return v"
   ]
  },
  {
   "cell_type": "code",
   "execution_count": 175,
   "metadata": {},
   "outputs": [],
   "source": [
    "def solve_g_kernel(data, f_list, v, args):\n",
    "    T=len(data)\n",
    "    g=np.zeros([np.array(args).shape[0], len(f_list[0])])\n",
    "\n",
    "    for s in range(0,T-1):\n",
    "        g=g+(Kernel(args, data[s].values)@v[s*100:(s+1)*100]).reshape(-1,1)@f_list[s].reshape(1,-1) #remember that f_list[s] is F_{s+1} \n",
    "    \n",
    "    return g"
   ]
  },
  {
   "cell_type": "markdown",
   "metadata": {},
   "source": [
    "Second step: compute factors"
   ]
  },
  {
   "cell_type": "code",
   "execution_count": 177,
   "metadata": {},
   "outputs": [],
   "source": [
    "def Gram_matrix(data,v, f_list, idx):\n",
    "    G=solve_g_kernel(data, f_list, v, data[idx].values)\n",
    "    return G@G.T"
   ]
  },
  {
   "cell_type": "code",
   "execution_count": 178,
   "metadata": {},
   "outputs": [],
   "source": [
    "def solve_f(ret, v, lambda2, data, f_list):\n",
    "    T=len(data)\n",
    "    Omega=np.eye(N, N)\n",
    "    f_list_new=[]\n",
    "\n",
    "    for t in range(0,T-1):\n",
    "        c=np.linalg.solve(Gram_matrix(data,v, f_list, t)+lambda2*Omega, ret[t+1])\n",
    "        f_list_new.append(solve_g_kernel(data, f_list, v, data[t].values).T@c)\n",
    "    f_list=f_list_new.copy()\n",
    "    return f_list\n",
    "        "
   ]
  },
  {
   "cell_type": "markdown",
   "metadata": {},
   "source": [
    "Regress:"
   ]
  },
  {
   "cell_type": "code",
   "execution_count": 179,
   "metadata": {},
   "outputs": [
    {
     "name": "stdout",
     "output_type": "stream",
     "text": [
      "0\n",
      "1\n",
      "2\n",
      "3\n",
      "4\n",
      "5\n",
      "6\n",
      "7\n",
      "8\n",
      "9\n"
     ]
    }
   ],
   "source": [
    "lambda1 = 0.1\n",
    "lambda2 = 0.1\n",
    "for i in range(10):\n",
    "    print(i)\n",
    "    v = solve_v_kernel(ret, lambda1, data, f_list)\n",
    "    f_list = solve_f(ret, v, lambda2, data, f_list)"
   ]
  },
  {
   "cell_type": "markdown",
   "metadata": {},
   "source": [
    "## Low Rank Approximation"
   ]
  },
  {
   "cell_type": "code",
   "execution_count": 259,
   "metadata": {},
   "outputs": [],
   "source": [
    "def pivoted_chol(K, m_hat):\n",
    "\n",
    "    d = np.diag(K).reshape(-1,1)\n",
    "    p_max = np.argmax(d)\n",
    "    d_max = d[p_max]\n",
    "\n",
    "    e = np.zeros(len(K)).reshape(-1,1)\n",
    "    e[p_max] = 1\n",
    "\n",
    "    L = np.sqrt(1/d_max) * K@e\n",
    "    B = np.sqrt(1/d_max) * np.eye(len(K))@e\n",
    "\n",
    "    d = d-L*L\n",
    "\n",
    "    for m in range(1,m_hat):\n",
    "        print(m)\n",
    "        p_max = np.argmax(d)\n",
    "        d_max = d[p_max]\n",
    "\n",
    "        e = np.zeros(len(K)).reshape(-1,1)\n",
    "        e[p_max] = 1\n",
    "\n",
    "        l = np.sqrt(1/d_max) * (K-L@L.T)@e\n",
    "        b = np.sqrt(1/d_max) * (np.eye(len(K))-B@L.T)@e\n",
    "\n",
    "        L = np.concatenate((L,l), axis = 1)\n",
    "        B = np.concatenate((B, b), axis = 1)\n",
    "\n",
    "        d = d-l*l\n",
    "\n",
    "    return L,B"
   ]
  },
  {
   "cell_type": "code",
   "execution_count": 232,
   "metadata": {},
   "outputs": [],
   "source": [
    "data2=data.copy()"
   ]
  },
  {
   "cell_type": "code",
   "execution_count": 246,
   "metadata": {},
   "outputs": [],
   "source": [
    "data2=np.array(np.array(data2).reshape(72*100,94)) #flatten data, build X\n",
    "K=kernel(data2,data2)"
   ]
  },
  {
   "cell_type": "code",
   "execution_count": 309,
   "metadata": {},
   "outputs": [
    {
     "data": {
      "text/plain": [
       "(7200, 7200)"
      ]
     },
     "execution_count": 309,
     "metadata": {},
     "output_type": "execute_result"
    }
   ],
   "source": [
    "K.shape"
   ]
  },
  {
   "cell_type": "code",
   "execution_count": 335,
   "metadata": {},
   "outputs": [
    {
     "name": "stdout",
     "output_type": "stream",
     "text": [
      "1\n",
      "2\n",
      "3\n",
      "4\n",
      "5\n",
      "6\n",
      "7\n",
      "8\n",
      "9\n",
      "10\n",
      "11\n",
      "12\n",
      "13\n",
      "14\n",
      "15\n",
      "16\n",
      "17\n",
      "18\n",
      "19\n",
      "20\n",
      "21\n",
      "22\n",
      "23\n",
      "24\n",
      "25\n",
      "26\n"
     ]
    }
   ],
   "source": [
    "m_hat=27\n",
    "L,B=pivoted_chol(K,m_hat)"
   ]
  },
  {
   "cell_type": "code",
   "execution_count": 336,
   "metadata": {},
   "outputs": [
    {
     "data": {
      "text/plain": [
       "(100, 7200)"
      ]
     },
     "execution_count": 336,
     "metadata": {},
     "output_type": "execute_result"
    }
   ],
   "source": [
    "Kernel(data[1].values, data2).shape"
   ]
  },
  {
   "cell_type": "code",
   "execution_count": 337,
   "metadata": {},
   "outputs": [
    {
     "data": {
      "text/plain": [
       "(27, 7200)"
      ]
     },
     "execution_count": 337,
     "metadata": {},
     "output_type": "execute_result"
    }
   ],
   "source": [
    "B.T.shape"
   ]
  },
  {
   "cell_type": "code",
   "execution_count": 338,
   "metadata": {},
   "outputs": [],
   "source": [
    "Phi=B.T@Kernel(data[1].values, data2).T"
   ]
  },
  {
   "cell_type": "code",
   "execution_count": 339,
   "metadata": {},
   "outputs": [
    {
     "data": {
      "text/plain": [
       "(27, 100)"
      ]
     },
     "execution_count": 339,
     "metadata": {},
     "output_type": "execute_result"
    }
   ],
   "source": [
    "Phi.shape"
   ]
  },
  {
   "cell_type": "code",
   "execution_count": 325,
   "metadata": {},
   "outputs": [],
   "source": [
    "\n",
    "v=np.zeros([m_hat*len(f_list[0]), 1])\n",
    "lambda1=0.1\n",
    "Omega=np.eye(N)\n",
    "\n",
    "#Compute\n",
    "\n",
    "V = np.sum([np.kron(B.T@Kernel(data[i].values, data2).T@Omega@(B.T@Kernel(data[i].values, data2).T).T, f_list[i].reshape(-1,1)@f_list[i].reshape(1,-1)) for i in range(len(data)-1)], \n",
    "            axis=0) + lambda1*np.eye(m_hat*len(f_list[0]))\n",
    "\n",
    "W = np.sum([np.kron(B.T@Kernel(data[i].values, data2).T@Omega,f_list[i].reshape((-1,1)))@ret[i+1] for i in range(len(data)-1)], axis=0)\n",
    "\n",
    "v =np.linalg.solve(V, W)\n",
    "\n"
   ]
  },
  {
   "cell_type": "code",
   "execution_count": 340,
   "metadata": {},
   "outputs": [
    {
     "data": {
      "text/plain": [
       "(27, 5)"
      ]
     },
     "execution_count": 340,
     "metadata": {},
     "output_type": "execute_result"
    }
   ],
   "source": [
    "v.reshape(-1,5).shape"
   ]
  },
  {
   "cell_type": "code",
   "execution_count": 344,
   "metadata": {},
   "outputs": [],
   "source": [
    "#Compute g(x_1):\n",
    "g=(B.T@Kernel(data[1].values, data2).T).T@v.reshape(-1,5)"
   ]
  },
  {
   "cell_type": "code",
   "execution_count": 346,
   "metadata": {},
   "outputs": [],
   "source": [
    "#Compute Gram matrix\n",
    "G=g@g.T"
   ]
  }
 ],
 "metadata": {
  "kernelspec": {
   "display_name": "base",
   "language": "python",
   "name": "python3"
  },
  "language_info": {
   "codemirror_mode": {
    "name": "ipython",
    "version": 3
   },
   "file_extension": ".py",
   "mimetype": "text/x-python",
   "name": "python",
   "nbconvert_exporter": "python",
   "pygments_lexer": "ipython3",
   "version": "3.9.13"
  }
 },
 "nbformat": 4,
 "nbformat_minor": 2
}
