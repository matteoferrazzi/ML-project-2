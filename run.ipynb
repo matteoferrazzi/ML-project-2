{
 "cells": [
  {
   "cell_type": "code",
   "execution_count": 17,
   "metadata": {},
   "outputs": [
    {
     "data": {
      "text/plain": [
       "<module 'cross_validaton' from '/Users/matteoferrazzi/Documents/GitHub/ML-project-2/cross_validaton.py'>"
      ]
     },
     "execution_count": 17,
     "metadata": {},
     "output_type": "execute_result"
    }
   ],
   "source": [
    "import numpy as np\n",
    "import pandas as pd\n",
    "import matplotlib.pyplot as plt \n",
    "import seaborn as sns\n",
    "import os\n",
    "import importlib\n",
    "import download_clean_data as dc\n",
    "import ipca\n",
    "import metrics\n",
    "import kernel_regression as kr\n",
    "import validaton as val\n",
    "importlib.reload(dc) \n",
    "importlib.reload(ipca)\n",
    "importlib.reload(metrics)\n",
    "importlib.reload(kr)\n",
    "importlib.reload(val)"
   ]
  },
  {
   "cell_type": "code",
   "execution_count": 18,
   "metadata": {},
   "outputs": [],
   "source": [
    "folder_path = \"/Users/matteoferrazzi/Documents/GitHub/ML-project-2/Data/monthly_data\""
   ]
  },
  {
   "cell_type": "code",
   "execution_count": 30,
   "metadata": {},
   "outputs": [],
   "source": [
    "N = 100\n",
    "start_date = 20000000\n",
    "ending_date = 20060000\n",
    "data, ret = dc.download_clean_data(folder_path, start_date, ending_date,N)"
   ]
  },
  {
   "cell_type": "code",
   "execution_count": 31,
   "metadata": {},
   "outputs": [],
   "source": [
    "k = 3\n",
    "gamma_first = ipca.gamma_first(ret, data, k)  \n",
    "\n",
    "y = ret\n",
    "x = data"
   ]
  },
  {
   "cell_type": "markdown",
   "metadata": {},
   "source": [
    "### IPCA in sample"
   ]
  },
  {
   "cell_type": "code",
   "execution_count": 22,
   "metadata": {},
   "outputs": [
    {
     "name": "stdout",
     "output_type": "stream",
     "text": [
      "0.20603834335366955 0.013122979881249885\n"
     ]
    }
   ],
   "source": [
    "max_iter = 100\n",
    "\n",
    "gamma, f_list = ipca.ipca(data, ret, gamma_first.copy(), max_iter)\n",
    "\n",
    "print(metrics.total_R_squared(ret, data, gamma, f_list),metrics.pred_R_squared(ret, data, gamma, f_list))"
   ]
  },
  {
   "cell_type": "markdown",
   "metadata": {},
   "source": [
    "### IPCA out of sample"
   ]
  },
  {
   "cell_type": "code",
   "execution_count": 23,
   "metadata": {},
   "outputs": [
    {
     "name": "stdout",
     "output_type": "stream",
     "text": [
      "done\n"
     ]
    },
    {
     "data": {
      "text/plain": [
       "({'IPCA': 0.11402108026925972}, {'IPCA': 0.04012249450769889})"
      ]
     },
     "execution_count": 23,
     "metadata": {},
     "output_type": "execute_result"
    }
   ],
   "source": [
    "max_iter = 100\n",
    "\n",
    "cv.cross_val_IPCA(y,x, 0.9, gamma_first, max_iter)"
   ]
  },
  {
   "cell_type": "markdown",
   "metadata": {},
   "source": [
    "### Regularized IPCA in sample"
   ]
  },
  {
   "cell_type": "code",
   "execution_count": 24,
   "metadata": {},
   "outputs": [
    {
     "name": "stdout",
     "output_type": "stream",
     "text": [
      "0.19374787640234092 0.014768339749918757\n"
     ]
    }
   ],
   "source": [
    "max_iter = 100\n",
    "W = np.eye(N)\n",
    "W_list = [W]*(len(data))\n",
    "lambda1 = 1\n",
    "lambda2 = 1\n",
    "\n",
    "gamma_reg_w, f_list_reg_w = ipca.ipca_reg_w(data, ret, gamma_first.copy(), max_iter, lambda1, lambda2, W_list)\n",
    "\n",
    "print(metrics.total_R_squared(ret, data, gamma_reg_w, f_list_reg_w),metrics.pred_R_squared(ret, data, gamma_reg_w, f_list_reg_w))"
   ]
  },
  {
   "cell_type": "markdown",
   "metadata": {},
   "source": [
    "### Regularized IPCA out of sample"
   ]
  },
  {
   "cell_type": "code",
   "execution_count": 25,
   "metadata": {},
   "outputs": [
    {
     "data": {
      "text/plain": [
       "({('IPCA_reg', 1, 1): 0.11772320476163989},\n",
       " {('IPCA_reg', 1, 1): 0.04062621734902694})"
      ]
     },
     "execution_count": 25,
     "metadata": {},
     "output_type": "execute_result"
    }
   ],
   "source": [
    "max_iter\n",
    "trsh = 0.8\n",
    "lambda1_v = list([1])\n",
    "lambda2_v = list([1])\n",
    "\n",
    "cv.cross_val_IPCA_reg(y,x, trsh, lambda1_v, lambda2_v, gamma_first, max_iter, W_list)"
   ]
  },
  {
   "cell_type": "markdown",
   "metadata": {},
   "source": [
    "### Linear Kernel in sample"
   ]
  },
  {
   "cell_type": "code",
   "execution_count": 26,
   "metadata": {},
   "outputs": [
    {
     "name": "stdout",
     "output_type": "stream",
     "text": [
      "0\n",
      "1\n",
      "2\n",
      "3\n",
      "4\n",
      "5\n",
      "6\n",
      "7\n",
      "8\n",
      "9\n",
      "0.203155657239388\n"
     ]
    }
   ],
   "source": [
    "data2 = data.copy()\n",
    "data2 = np.array(np.array(data2).reshape(72*100,94)) #flatten data, build X\n",
    "tk = 0\n",
    "l = 10\n",
    "K = kr.K_LR(data2, tk, l)\n",
    "\n",
    "_, f_list = ipca.ipca(data, ret, gamma_first.copy(), 1)\n",
    "\n",
    "lambda1 = 1e-10\n",
    "lambda2 = 1e-10\n",
    "Omega1=np.eye((len(data))*N)\n",
    "Omega2=np.eye(N)\n",
    "max_iter = 10\n",
    "\n",
    "f_list_kr, v_kr, Q_kr, _, _ = kr.kernel_regression(data, ret, f_list.copy(), lambda1, lambda2, Omega1, Omega2, max_iter, N, K)\n",
    "\n",
    "print(metrics.total_R_squared_kr(ret, v_kr, Q_kr))"
   ]
  },
  {
   "cell_type": "markdown",
   "metadata": {},
   "source": [
    "### Linear Kernel out of sample"
   ]
  },
  {
   "cell_type": "code",
   "execution_count": 27,
   "metadata": {},
   "outputs": [
    {
     "name": "stdout",
     "output_type": "stream",
     "text": [
      "start cycle\n",
      "0\n",
      "1\n",
      "2\n",
      "3\n",
      "4\n",
      "5\n",
      "6\n",
      "7\n",
      "8\n",
      "9\n",
      "done1\n",
      "done1\n",
      "done1\n",
      "done1\n",
      "done1\n",
      "done1\n",
      "done1\n",
      "done1\n",
      "done1\n",
      "done1\n",
      "done1\n",
      "done1\n",
      "done1\n",
      "done1\n",
      "done1\n",
      "done\n"
     ]
    },
    {
     "data": {
      "text/plain": [
       "{('Linear', 1, 1): array([0.12197899])}"
      ]
     },
     "execution_count": 27,
     "metadata": {},
     "output_type": "execute_result"
    }
   ],
   "source": [
    "_, f_list = ipca.ipca(data, ret, gamma_first.copy(), 1)\n",
    "\n",
    "trsh = 0.8\n",
    "lambda1_v = list([1])\n",
    "lambda2_v = list([1])\n",
    "max_iter = 10\n",
    "\n",
    "cv.cross_val_linear(y,x, trsh, lambda1_v, lambda2_v, N, f_list.copy(), Omega2, max_iter)"
   ]
  },
  {
   "cell_type": "markdown",
   "metadata": {},
   "source": [
    "### Gaussian Kernel in sample"
   ]
  },
  {
   "cell_type": "code",
   "execution_count": 51,
   "metadata": {},
   "outputs": [
    {
     "name": "stdout",
     "output_type": "stream",
     "text": [
      "0\n",
      "1\n",
      "2\n",
      "3\n",
      "4\n",
      "5\n",
      "6\n",
      "7\n",
      "8\n",
      "9\n",
      "0.4534783552349907\n"
     ]
    }
   ],
   "source": [
    "data2 = data.copy()\n",
    "data2 = np.array(np.array(data2).reshape(72*100,94)) #flatten data, build X\n",
    "tk = 1\n",
    "l = 50\n",
    "K = kr.K_LR(data2, tk, l)\n",
    "\n",
    "_, f_list = ipca.ipca(data, ret, gamma_first.copy(), 1)\n",
    "\n",
    "lambda1 = 0.01\n",
    "lambda2 = 0.01\n",
    "Omega1=np.eye((len(data))*N)\n",
    "Omega2=np.eye(N)\n",
    "max_iter = 10\n",
    "\n",
    "f_list_kr, v_kr, Q_kr, _, _ = kr.kernel_regression(data, ret, f_list.copy(), lambda1, lambda2, Omega1, Omega2, max_iter, N, K)\n",
    "\n",
    "print(metrics.total_R_squared_kr(ret, v_kr, Q_kr))"
   ]
  },
  {
   "cell_type": "markdown",
   "metadata": {},
   "source": [
    "### Gaussian Kernel out of sample"
   ]
  },
  {
   "cell_type": "code",
   "execution_count": 52,
   "metadata": {},
   "outputs": [
    {
     "name": "stdout",
     "output_type": "stream",
     "text": [
      "start cycle\n",
      "0\n",
      "1\n",
      "2\n",
      "3\n",
      "4\n",
      "5\n",
      "6\n",
      "7\n",
      "8\n",
      "9\n",
      "done1\n",
      "done1\n",
      "done1\n",
      "done1\n",
      "done1\n",
      "done1\n",
      "done1\n",
      "done1\n",
      "done1\n",
      "done1\n",
      "done1\n",
      "done1\n",
      "done1\n",
      "done1\n",
      "done1\n",
      "done\n"
     ]
    },
    {
     "data": {
      "text/plain": [
       "{('Gaussian', 0.01, 0.01, 50): array([0.24979542])}"
      ]
     },
     "execution_count": 52,
     "metadata": {},
     "output_type": "execute_result"
    }
   ],
   "source": [
    "_, f_list = ipca.ipca(data, ret, gamma_first.copy(), 1)\n",
    "\n",
    "lambda1_v = list([0.01])\n",
    "lambda2_v = list([0.01])\n",
    "alphas_v = list([50])\n",
    "max_iter = 10\n",
    "\n",
    "cv.cross_val_gaussian(y,x, trsh, lambda1_v, lambda2_v, alphas_v, N, f_list.copy(), Omega2, max_iter)"
   ]
  },
  {
   "cell_type": "markdown",
   "metadata": {},
   "source": [
    "0.24676195 100\n",
    "0.24979542 50"
   ]
  },
  {
   "cell_type": "markdown",
   "metadata": {},
   "source": [
    "### optional"
   ]
  },
  {
   "cell_type": "code",
   "execution_count": null,
   "metadata": {},
   "outputs": [],
   "source": [
    "m_hat = 10\n",
    "L, B = kr.pivoted_chol(K, m_hat)"
   ]
  },
  {
   "cell_type": "code",
   "execution_count": null,
   "metadata": {},
   "outputs": [
    {
     "data": {
      "text/plain": [
       "2046.1921825040288"
      ]
     },
     "execution_count": 93,
     "metadata": {},
     "output_type": "execute_result"
    }
   ],
   "source": [
    "np.linalg.norm(L@L.T - K)"
   ]
  },
  {
   "cell_type": "code",
   "execution_count": null,
   "metadata": {},
   "outputs": [
    {
     "name": "stdout",
     "output_type": "stream",
     "text": [
      "0\n",
      "1\n",
      "2\n",
      "3\n",
      "4\n",
      "5\n",
      "6\n",
      "7\n",
      "8\n",
      "9\n"
     ]
    }
   ],
   "source": [
    "f_list_kr_LR, v_kr_LR = kr.kernel_regression_LR(data, K, B, ret, f_list.copy(), lambda1, lambda2, Omega2, 10, m_hat, N)"
   ]
  },
  {
   "cell_type": "code",
   "execution_count": null,
   "metadata": {},
   "outputs": [
    {
     "name": "stdout",
     "output_type": "stream",
     "text": [
      "0.0017402896001241785\n"
     ]
    }
   ],
   "source": [
    "print(metrics.total_R_squared_kr_LR(ret, B, K, v_kr_LR, f_list_kr_LR))"
   ]
  },
  {
   "cell_type": "code",
   "execution_count": null,
   "metadata": {},
   "outputs": [
    {
     "name": "stdout",
     "output_type": "stream",
     "text": [
      "0\n",
      "1\n",
      "2\n",
      "3\n",
      "4\n",
      "5\n",
      "6\n",
      "7\n",
      "8\n",
      "9\n",
      "done1\n",
      "done1\n",
      "done1\n",
      "done1\n",
      "done1\n",
      "done1\n",
      "done1\n",
      "done1\n",
      "done1\n",
      "done1\n",
      "done1\n",
      "done1\n",
      "done1\n",
      "done1\n",
      "done\n"
     ]
    },
    {
     "data": {
      "text/plain": [
       "{('Gaussian', 0.1, 0.1, 1): 0.6073464811374132}"
      ]
     },
     "execution_count": 13,
     "metadata": {},
     "output_type": "execute_result"
    }
   ],
   "source": [
    "alphas_v = list([1])\n",
    "cv.cross_val_gaussian(y,x, 0.8, lambda1_v, lambda2_v, alphas_v, N, f_list, Omega2, 10)"
   ]
  },
  {
   "cell_type": "code",
   "execution_count": null,
   "metadata": {},
   "outputs": [
    {
     "name": "stdout",
     "output_type": "stream",
     "text": [
      "1\n",
      "2\n",
      "3\n",
      "4\n",
      "5\n",
      "6\n",
      "7\n",
      "8\n",
      "9\n",
      "1\n",
      "2\n",
      "3\n",
      "4\n",
      "5\n",
      "6\n",
      "7\n",
      "8\n",
      "9\n",
      "39.86480749253068\n",
      "0\n",
      "1\n",
      "2\n",
      "3\n",
      "4\n",
      "5\n",
      "6\n",
      "7\n",
      "8\n",
      "9\n",
      "0.001\n"
     ]
    },
    {
     "data": {
      "text/plain": [
       "{('Gaussian', 0.1, 0.1, 1): 0.0}"
      ]
     },
     "execution_count": 21,
     "metadata": {},
     "output_type": "execute_result"
    }
   ],
   "source": [
    "cv.cross_val_gaussian_LR(y, x, 0.8, lambda1_v, lambda2_v, alphas_v, N, f_list, Omega2, 10, m_hat)\n"
   ]
  },
  {
   "cell_type": "code",
   "execution_count": 63,
   "metadata": {},
   "outputs": [],
   "source": [
    "def process_data(Gamma_new, F_new):\n",
    "\n",
    "    R1 = np.linalg.cholesky(Gamma_new.T@Gamma_new).T\n",
    "    \n",
    "    R2, _, _ = np.linalg.svd(R1@F_new@(F_new.T)@R1.T)\n",
    "    \n",
    "    Gamma_new = Gamma_new@(np.linalg.inv(R1))@R2\n",
    "    F_new = np.linalg.solve(R2, R1@F_new)\n",
    "\n",
    "    sg = np.sign(np.mean(F_new, axis=1))\n",
    "    sg[sg == 0] = 1\n",
    "\n",
    "    print(sg)\n",
    "    \n",
    "    Gamma_new = Gamma_new * sg.reshape(-1, 1).T\n",
    "    F_new = F_new * sg.reshape(-1,1)\n",
    "\n",
    "    return Gamma_new, F_new\n"
   ]
  },
  {
   "cell_type": "code",
   "execution_count": 64,
   "metadata": {},
   "outputs": [
    {
     "name": "stdout",
     "output_type": "stream",
     "text": [
      "[0.12394496 0.0300283  0.03139432 0.24493833 0.08895897]\n",
      "[-1.  1. -1.  1. -1.]\n",
      "3.8662046019995466e-15\n",
      "[2.58441774 0.27759648 0.22140436 0.28011305 0.22963495]\n"
     ]
    }
   ],
   "source": [
    "F_new = np.random.randn(5, 72)\n",
    "Gamma_new = np.random.rand(94, 5)\n",
    "\n",
    "print(F_new.mean(axis = 1))\n",
    "\n",
    "Gamma_new, F_new = process_data(Gamma_new, F_new)\n",
    "\n",
    "print(np.linalg.norm(Gamma_new.T@Gamma_new-np.eye(Gamma_new.shape[1])))\n",
    "print(F_new.mean(axis = 1))"
   ]
  },
  {
   "cell_type": "code",
   "execution_count": 59,
   "metadata": {},
   "outputs": [
    {
     "data": {
      "text/plain": [
       "array([[ 1.00000000e+00, -5.86124409e-16, -2.38669266e-16,\n",
       "         2.91435209e-16,  5.31124211e-16],\n",
       "       [-5.86124409e-16,  1.00000000e+00,  6.70717397e-16,\n",
       "        -1.73646286e-15, -1.53713117e-15],\n",
       "       [-2.38669266e-16,  6.70717397e-16,  1.00000000e+00,\n",
       "        -2.38986772e-16, -7.46541386e-16],\n",
       "       [ 2.91435209e-16, -1.73646286e-15, -2.38986772e-16,\n",
       "         1.00000000e+00, -3.13047653e-17],\n",
       "       [ 5.31124211e-16, -1.53713117e-15, -7.46541386e-16,\n",
       "        -3.13047653e-17,  1.00000000e+00]])"
      ]
     },
     "execution_count": 59,
     "metadata": {},
     "output_type": "execute_result"
    }
   ],
   "source": [
    "Gamma_new.T@Gamma_new"
   ]
  }
 ],
 "metadata": {
  "kernelspec": {
   "display_name": "base",
   "language": "python",
   "name": "python3"
  },
  "language_info": {
   "codemirror_mode": {
    "name": "ipython",
    "version": 3
   },
   "file_extension": ".py",
   "mimetype": "text/x-python",
   "name": "python",
   "nbconvert_exporter": "python",
   "pygments_lexer": "ipython3",
   "version": "3.9.13"
  }
 },
 "nbformat": 4,
 "nbformat_minor": 2
}
