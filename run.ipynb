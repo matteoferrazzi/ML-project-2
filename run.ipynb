{
 "cells": [
  {
   "cell_type": "code",
   "execution_count": 76,
   "metadata": {},
   "outputs": [
    {
     "data": {
      "text/plain": [
       "<module 'cross_validaton' from 'c:\\\\Users\\\\dandr_wh38grr\\\\Documents\\\\GitHub\\\\ML-project-2\\\\cross_validaton.py'>"
      ]
     },
     "execution_count": 76,
     "metadata": {},
     "output_type": "execute_result"
    }
   ],
   "source": [
    "import numpy as np\n",
    "import pandas as pd\n",
    "import matplotlib.pyplot as plt \n",
    "import seaborn as sns\n",
    "import os\n",
    "import importlib\n",
    "import download_clean_data as dc\n",
    "import ipca\n",
    "import metrics\n",
    "import kernel_regression as kr\n",
    "import cross_validaton as cv\n",
    "importlib.reload(dc) \n",
    "importlib.reload(ipca)\n",
    "importlib.reload(metrics)\n",
    "importlib.reload(kr)\n",
    "importlib.reload(cv)"
   ]
  },
  {
   "cell_type": "code",
   "execution_count": 73,
   "metadata": {},
   "outputs": [],
   "source": [
    "folder_path = \"Data/monthly_data\""
   ]
  },
  {
   "cell_type": "code",
   "execution_count": 74,
   "metadata": {},
   "outputs": [],
   "source": [
    "N = 100\n",
    "date = 20150000\n",
    "data, ret = dc.download_clean_data(folder_path, date, N)"
   ]
  },
  {
   "cell_type": "code",
   "execution_count": 77,
   "metadata": {},
   "outputs": [],
   "source": [
    "k = 5\n",
    "gamma_first = ipca.gamma_first(ret, data, k)    "
   ]
  },
  {
   "cell_type": "code",
   "execution_count": 78,
   "metadata": {},
   "outputs": [],
   "source": [
    "max_iter = 10\n",
    "#gamma, f_list = ipca.ipca(data, ret, gamma_first.copy(), max_iter)\n",
    "W = np.eye(N)\n",
    "W_list = [W]*(len(data))\n",
    "lambda1 = 0.1\n",
    "lambda2 = 0.1\n",
    "gamma_reg_w, f_list_reg_w = ipca.ipca_reg_w(data, ret, gamma_first.copy(), max_iter, lambda1, lambda2, W_list)"
   ]
  },
  {
   "cell_type": "code",
   "execution_count": 6,
   "metadata": {},
   "outputs": [
    {
     "name": "stdout",
     "output_type": "stream",
     "text": [
      "0.26979192673705055 0.005220343383721682\n"
     ]
    }
   ],
   "source": [
    "print(metrics.total_R_squared(ret, data, gamma, f_list),metrics.pred_R_squared(ret, data, gamma, f_list))"
   ]
  },
  {
   "cell_type": "code",
   "execution_count": 79,
   "metadata": {},
   "outputs": [
    {
     "name": "stdout",
     "output_type": "stream",
     "text": [
      "0.25135949398526714 0.013107183904452202\n"
     ]
    }
   ],
   "source": [
    "print(metrics.total_R_squared(ret, data, gamma_reg_w, f_list_reg_w),metrics.pred_R_squared(ret, data, gamma_reg_w, f_list_reg_w))"
   ]
  },
  {
   "cell_type": "code",
   "execution_count": 60,
   "metadata": {},
   "outputs": [
    {
     "data": {
      "text/plain": [
       "({('IPCA_reg', 1, 1): 0.147129208203027},\n",
       " {('IPCA_reg', 1, 1): 0.048385453820912194})"
      ]
     },
     "execution_count": 60,
     "metadata": {},
     "output_type": "execute_result"
    }
   ],
   "source": [
    "y = ret\n",
    "x = data\n",
    "trsh = 0.8\n",
    "lambda1_v = list([1])\n",
    "lambda2_v = list([1])\n",
    "max_iter = 3\n",
    "\n",
    "cv.cross_val_IPCA_reg(y,x, trsh, lambda1_v, lambda2_v, gamma_first, max_iter, W_list)"
   ]
  },
  {
   "cell_type": "code",
   "execution_count": 9,
   "metadata": {},
   "outputs": [
    {
     "name": "stdout",
     "output_type": "stream",
     "text": [
      "done\n"
     ]
    },
    {
     "data": {
      "text/plain": [
       "({'IPCA': 0.12064823317073448}, {'IPCA': 0.01291255112364964})"
      ]
     },
     "execution_count": 9,
     "metadata": {},
     "output_type": "execute_result"
    }
   ],
   "source": [
    "cv.cross_val_IPCA(y,x, 0.9, gamma_first, max_iter)"
   ]
  },
  {
   "cell_type": "code",
   "execution_count": 61,
   "metadata": {},
   "outputs": [],
   "source": [
    "data2 = data.copy()\n",
    "data2 = np.array(np.array(data2).reshape(72*100,94)) #flatten data, build X\n",
    "tk = 1\n",
    "l = 10\n",
    "K = kr.K_LR(data2, tk, l)"
   ]
  },
  {
   "cell_type": "code",
   "execution_count": 68,
   "metadata": {},
   "outputs": [
    {
     "name": "stdout",
     "output_type": "stream",
     "text": [
      "0\n"
     ]
    }
   ],
   "source": [
    "_, f_list = ipca.ipca(data, ret, gamma_first.copy(), 1)\n",
    "\n",
    "lambda1 = 1\n",
    "lambda2 = 1\n",
    "\n",
    "Omega1=np.eye((len(data))*N)\n",
    "Omega2=np.eye(N)\n",
    "f_list_kr, v_kr, Q_kr, _, _ = kr.kernel_regression(data, ret, f_list.copy(), lambda1, lambda2, Omega1, Omega2, 1, N, K)"
   ]
  },
  {
   "cell_type": "code",
   "execution_count": 65,
   "metadata": {},
   "outputs": [
    {
     "name": "stdout",
     "output_type": "stream",
     "text": [
      "0.4647376938059905\n"
     ]
    }
   ],
   "source": [
    "print(metrics.total_R_squared_kr(ret, v_kr, Q_kr))"
   ]
  },
  {
   "cell_type": "code",
   "execution_count": 69,
   "metadata": {},
   "outputs": [
    {
     "name": "stdout",
     "output_type": "stream",
     "text": [
      "0.037003227875861855\n"
     ]
    }
   ],
   "source": [
    "print(metrics.total_R_squared_kr(ret, v_kr, Q_kr))"
   ]
  },
  {
   "cell_type": "code",
   "execution_count": 71,
   "metadata": {},
   "outputs": [
    {
     "name": "stdout",
     "output_type": "stream",
     "text": [
      "start cycle\n",
      "0\n",
      "1\n",
      "2\n",
      "done1\n",
      "done1\n",
      "done1\n",
      "done1\n",
      "done1\n",
      "done1\n",
      "done1\n",
      "done1\n",
      "done1\n",
      "done1\n",
      "done1\n",
      "done1\n",
      "done1\n",
      "done1\n",
      "done1\n",
      "done\n"
     ]
    },
    {
     "data": {
      "text/plain": [
       "{('Gaussian', 1, 1, 10): array([0.4862322])}"
      ]
     },
     "execution_count": 71,
     "metadata": {},
     "output_type": "execute_result"
    }
   ],
   "source": [
    "_, f_list = ipca.ipca(data, ret, gamma_first.copy(), 1)\n",
    "\n",
    "lambda1_v = list([1])\n",
    "lambda2_v = list([1])\n",
    "alphas_v = list([10])\n",
    "cv.cross_val_gaussian(y,x, trsh, lambda1_v, lambda2_v, alphas_v, N, f_list.copy(), Omega2, 3)"
   ]
  },
  {
   "cell_type": "code",
   "execution_count": null,
   "metadata": {},
   "outputs": [],
   "source": [
    "0.4119"
   ]
  },
  {
   "cell_type": "code",
   "execution_count": 27,
   "metadata": {},
   "outputs": [
    {
     "name": "stdout",
     "output_type": "stream",
     "text": [
      "start cycle\n",
      "0\n",
      "1\n",
      "2\n",
      "3\n",
      "4\n",
      "5\n",
      "6\n",
      "7\n",
      "8\n",
      "9\n",
      "10\n",
      "11\n",
      "12\n",
      "13\n",
      "14\n",
      "15\n",
      "16\n",
      "17\n",
      "18\n",
      "19\n",
      "20\n",
      "21\n",
      "22\n",
      "23\n",
      "24\n",
      "25\n",
      "26\n",
      "27\n",
      "28\n",
      "29\n",
      "done1\n",
      "done1\n",
      "done1\n",
      "done1\n",
      "done1\n",
      "done1\n",
      "done1\n",
      "done1\n",
      "done1\n",
      "done1\n",
      "done1\n",
      "done1\n",
      "done1\n",
      "done1\n",
      "done1\n",
      "done\n"
     ]
    },
    {
     "data": {
      "text/plain": [
       "{('Linear', 0.1, 0.1): array([0.12346826])}"
      ]
     },
     "execution_count": 27,
     "metadata": {},
     "output_type": "execute_result"
    }
   ],
   "source": [
    "lambda1_v = list([0.1])\n",
    "lambda2_v = list([0.1])\n",
    "\n",
    "_, f_list = ipca.ipca(data, ret, gamma_first.copy(), 1)\n",
    "\n",
    "cv.cross_val_linear(y,x, trsh, lambda1_v, lambda2_v, N, f_list.copy(), Omega2, 30)"
   ]
  },
  {
   "cell_type": "markdown",
   "metadata": {},
   "source": [
    "### optional"
   ]
  },
  {
   "cell_type": "code",
   "execution_count": null,
   "metadata": {},
   "outputs": [],
   "source": [
    "m_hat = 10\n",
    "L, B = kr.pivoted_chol(K, m_hat)"
   ]
  },
  {
   "cell_type": "code",
   "execution_count": null,
   "metadata": {},
   "outputs": [
    {
     "data": {
      "text/plain": [
       "2046.1921825040288"
      ]
     },
     "execution_count": 93,
     "metadata": {},
     "output_type": "execute_result"
    }
   ],
   "source": [
    "np.linalg.norm(L@L.T - K)"
   ]
  },
  {
   "cell_type": "code",
   "execution_count": null,
   "metadata": {},
   "outputs": [
    {
     "name": "stdout",
     "output_type": "stream",
     "text": [
      "0\n",
      "1\n",
      "2\n",
      "3\n",
      "4\n",
      "5\n",
      "6\n",
      "7\n",
      "8\n",
      "9\n"
     ]
    }
   ],
   "source": [
    "f_list_kr_LR, v_kr_LR = kr.kernel_regression_LR(data, K, B, ret, f_list.copy(), lambda1, lambda2, Omega2, 10, m_hat, N)"
   ]
  },
  {
   "cell_type": "code",
   "execution_count": null,
   "metadata": {},
   "outputs": [
    {
     "name": "stdout",
     "output_type": "stream",
     "text": [
      "0.0017402896001241785\n"
     ]
    }
   ],
   "source": [
    "print(metrics.total_R_squared_kr_LR(ret, B, K, v_kr_LR, f_list_kr_LR))"
   ]
  },
  {
   "cell_type": "code",
   "execution_count": null,
   "metadata": {},
   "outputs": [
    {
     "name": "stdout",
     "output_type": "stream",
     "text": [
      "0\n",
      "1\n",
      "2\n",
      "3\n",
      "4\n",
      "5\n",
      "6\n",
      "7\n",
      "8\n",
      "9\n",
      "done1\n",
      "done1\n",
      "done1\n",
      "done1\n",
      "done1\n",
      "done1\n",
      "done1\n",
      "done1\n",
      "done1\n",
      "done1\n",
      "done1\n",
      "done1\n",
      "done1\n",
      "done1\n",
      "done\n"
     ]
    },
    {
     "data": {
      "text/plain": [
       "{('Gaussian', 0.1, 0.1, 1): 0.6073464811374132}"
      ]
     },
     "execution_count": 13,
     "metadata": {},
     "output_type": "execute_result"
    }
   ],
   "source": [
    "alphas_v = list([1])\n",
    "cv.cross_val_gaussian(y,x, 0.8, lambda1_v, lambda2_v, alphas_v, N, f_list, Omega2, 10)"
   ]
  },
  {
   "cell_type": "code",
   "execution_count": null,
   "metadata": {},
   "outputs": [
    {
     "name": "stdout",
     "output_type": "stream",
     "text": [
      "1\n",
      "2\n",
      "3\n",
      "4\n",
      "5\n",
      "6\n",
      "7\n",
      "8\n",
      "9\n",
      "1\n",
      "2\n",
      "3\n",
      "4\n",
      "5\n",
      "6\n",
      "7\n",
      "8\n",
      "9\n",
      "39.86480749253068\n",
      "0\n",
      "1\n",
      "2\n",
      "3\n",
      "4\n",
      "5\n",
      "6\n",
      "7\n",
      "8\n",
      "9\n",
      "0.001\n"
     ]
    },
    {
     "data": {
      "text/plain": [
       "{('Gaussian', 0.1, 0.1, 1): 0.0}"
      ]
     },
     "execution_count": 21,
     "metadata": {},
     "output_type": "execute_result"
    }
   ],
   "source": [
    "cv.cross_val_gaussian_LR(y, x, 0.8, lambda1_v, lambda2_v, alphas_v, N, f_list, Omega2, 10, m_hat)\n"
   ]
  },
  {
   "cell_type": "code",
   "execution_count": null,
   "metadata": {},
   "outputs": [],
   "source": [
    "def cross_val_linear(y,x, trsh, lambda1_v, lambda2_v, N, f_list_input, Omega2, max_iter):\n",
    "\n",
    "    total_R2_dict = {}\n",
    "    \n",
    "    xx_train,yy_train,xx_test,yy_test = split_dataset(x,y, trsh)\n",
    "    Omega_test = np.eye(len(xx_test)*N)\n",
    "    Omega_train = np.eye(len(xx_train)*N)\n",
    "\n",
    "    data2_train = xx_train.copy()\n",
    "    data2_train = np.array(np.array(data2_train).reshape(len(xx_train)*N,94)) #flatten data, build X\n",
    "    data2_test = xx_test.copy()\n",
    "    data2_test = np.array(np.array(data2_test).reshape(len(xx_test)*N,94))\n",
    "    K_train = kr.K_LR(data2_train, 0, 1)\n",
    "    K_test_train = kr.Kernel(data2_test, data2_train, 0, 1)\n",
    "    K_test = kr.K_LR(data2_test, 0, 1)\n",
    "    print('start cycle')\n",
    "\n",
    "    g_list = []\n",
    "    \n",
    "\n",
    "    for lambda1 in lambda1_v:\n",
    "        for lambda2 in lambda2_v:\n",
    "            f_list, v, _, _, _ = kr.kernel_regression(xx_train, yy_train, f_list_input.copy(), lambda1, lambda2, Omega_train, Omega2, max_iter, N, K_train)\n",
    "\n",
    "            yy_pred = []\n",
    "\n",
    "            g_list = []\n",
    "            c_list = []\n",
    "            for t in range(0,len(xx_test)):\n",
    "\n",
    "                g = kr.solve_g_kernel(xx_train, f_list, v, t, K_test_train)\n",
    "                G = g@g.T\n",
    "\n",
    "                g_list.append(g)\n",
    "\n",
    "                c = np.linalg.solve(G+lambda2*Omega2, yy_test[t])\n",
    "\n",
    "                c_list.append(c)\n",
    "\n",
    "                print('done1')\n",
    "                yy_pred.append(g.T@c)\n",
    "\n",
    "            print('done')\n",
    "\n",
    "            #vt, Qt = kr.solve_v_kernel(yy_test, lambda1, xx_test, yy_pred, N, Omega_test, K_test)\n",
    "\n",
    "            total_R2_dict[('Linear', lambda1, lambda2)] = metrics.total_R_squared_kr_out_os(yy_test, g_list, c_list)\n",
    "                \n",
    "    return total_R2_dict"
   ]
  }
 ],
 "metadata": {
  "kernelspec": {
   "display_name": "base",
   "language": "python",
   "name": "python3"
  },
  "language_info": {
   "codemirror_mode": {
    "name": "ipython",
    "version": 3
   },
   "file_extension": ".py",
   "mimetype": "text/x-python",
   "name": "python",
   "nbconvert_exporter": "python",
   "pygments_lexer": "ipython3",
   "version": "3.11.2"
  }
 },
 "nbformat": 4,
 "nbformat_minor": 2
}
