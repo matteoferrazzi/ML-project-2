{
 "cells": [
  {
   "cell_type": "code",
   "execution_count": 16,
   "metadata": {},
   "outputs": [
    {
     "data": {
      "text/plain": [
       "<module 'kernel_regression' from '/Users/matteoferrazzi/Documents/GitHub/ML-project-2/kernel_regression.py'>"
      ]
     },
     "execution_count": 16,
     "metadata": {},
     "output_type": "execute_result"
    }
   ],
   "source": [
    "import numpy as np\n",
    "import pandas as pd\n",
    "import matplotlib.pyplot as plt \n",
    "import seaborn as sns\n",
    "import os\n",
    "import importlib\n",
    "import download_clean_data as dc\n",
    "import ipca\n",
    "import metrics\n",
    "import kernel_regression as kr\n",
    "importlib.reload(dc) \n",
    "importlib.reload(ipca)\n",
    "importlib.reload(metrics)\n",
    "importlib.reload(kr)"
   ]
  },
  {
   "cell_type": "code",
   "execution_count": 2,
   "metadata": {},
   "outputs": [],
   "source": [
    "folder_path = \"/Users/matteoferrazzi/Documents/GitHub/ML-project-2/Data/monthly_data\""
   ]
  },
  {
   "cell_type": "code",
   "execution_count": 3,
   "metadata": {},
   "outputs": [],
   "source": [
    "N = 100\n",
    "date = 20150000\n",
    "data, ret = dc.download_clean_data(folder_path, date, N)"
   ]
  },
  {
   "cell_type": "code",
   "execution_count": 4,
   "metadata": {},
   "outputs": [],
   "source": [
    "x = []\n",
    "for t in range(len(ret)-1):\n",
    "    x.append(data[t].values.T@ret[t+1].values/len(ret[0]))\n",
    "\n",
    "x_cov = np.sum([x[i].reshape((-1,1))@x[i].reshape((1,-1)) for i in range(len(x))], axis = 0)\n",
    "eigval_x, eigvec_x = np.linalg.eig(x_cov)\n",
    "\n",
    "idx = np.argsort(np.abs(eigval_x))[::-1]\n",
    "sort_eigvec_x = eigvec_x[:,idx].real\n",
    "k = 5\n",
    "gamma_first = sort_eigvec_x[:,:k]"
   ]
  },
  {
   "cell_type": "code",
   "execution_count": 5,
   "metadata": {},
   "outputs": [],
   "source": [
    "max_iter = 100\n",
    "gamma, f_list = ipca.ipca(data, ret, gamma_first.copy(), max_iter)\n",
    "W = np.eye(N)\n",
    "W_list = [W]*(len(data)-1)\n",
    "lambda1 = 0.1\n",
    "lambda2 = 0.1\n",
    "gamma_reg_w, f_list_reg_w = ipca.ipca_reg_w(data, ret, gamma_first.copy(), max_iter, lambda1, lambda2, W_list)"
   ]
  },
  {
   "cell_type": "code",
   "execution_count": 31,
   "metadata": {},
   "outputs": [
    {
     "name": "stdout",
     "output_type": "stream",
     "text": [
      "0.15335737000068583 -0.004556714482517377\n"
     ]
    }
   ],
   "source": [
    "print(metrics.total_R_squared(ret, data, gamma, f_list),metrics.pred_R_squared(ret, data, gamma, f_list))"
   ]
  },
  {
   "cell_type": "code",
   "execution_count": 32,
   "metadata": {},
   "outputs": [
    {
     "name": "stdout",
     "output_type": "stream",
     "text": [
      "0.15167256959390363 -0.0028241664513473097\n"
     ]
    }
   ],
   "source": [
    "print(metrics.total_R_squared(ret, data, gamma_reg_w, f_list_reg_w),metrics.pred_R_squared(ret, data, gamma_reg_w, f_list_reg_w))"
   ]
  },
  {
   "cell_type": "code",
   "execution_count": 6,
   "metadata": {},
   "outputs": [],
   "source": [
    "def split_dataset(x,y, trsh):\n",
    "\n",
    "    n = int(np.floor(len(y)*trsh))\n",
    "\n",
    "    x_train=x[:n]\n",
    "    y_train=y[:n]\n",
    "    x_test=x[n:]\n",
    "    y_test=y[n:]\n",
    "        \n",
    "    return x_train,y_train,x_test,y_test"
   ]
  },
  {
   "cell_type": "code",
   "execution_count": 7,
   "metadata": {},
   "outputs": [],
   "source": [
    "def cross_val_IPCA(y,x, trsh, gamma_first, max_iter):\n",
    "\n",
    "    total_R2_dict = {}\n",
    "    pred_R2_dict = {}\n",
    "    \n",
    "    xx_train,yy_train,xx_test,yy_test = split_dataset(x,y, trsh)\n",
    "\n",
    "    gamma, _ = ipca.ipca(xx_train, yy_train, gamma_first.copy(), max_iter)\n",
    "    print('done')\n",
    "\n",
    "    yy_pred = []\n",
    "\n",
    "    for i in range(len(xx_test)-1):\n",
    "\n",
    "        f = ipca.solve_f(yy_test, xx_test, gamma, i+1)\n",
    "        yy_pred.append(f)\n",
    "\n",
    "    total_R2_dict[('IPCA')] = metrics.total_R_squared(yy_test, xx_test, gamma, yy_pred)\n",
    "    pred_R2_dict[('IPCA')] = metrics.pred_R_squared(yy_test, xx_test, gamma, yy_pred)\n",
    "\n",
    "    return total_R2_dict, pred_R2_dict"
   ]
  },
  {
   "cell_type": "code",
   "execution_count": 8,
   "metadata": {},
   "outputs": [],
   "source": [
    "def cross_val_IPCA_reg(y,x, trsh, lambda1_v, lambda2_v, gamma_first, max_iter):\n",
    "\n",
    "    total_R2_dict = {}\n",
    "    pred_R2_dict = {}\n",
    "    \n",
    "    xx_train,yy_train,xx_test,yy_test = split_dataset(x,y, trsh)\n",
    "\n",
    "    for lambda1 in lambda1_v:\n",
    "        for lambda2 in lambda2_v:\n",
    "\n",
    "            gamma_reg_w, _ = ipca.ipca_reg_w(xx_train, yy_train, gamma_first.copy(), max_iter, lambda1, lambda2, W_list)\n",
    "\n",
    "            yy_pred = []\n",
    "\n",
    "            for i in range(len(xx_test)-1):\n",
    "\n",
    "                f = ipca.solve_f_reg_w(yy_test, xx_test, gamma_reg_w, i+1, lambda1, W_list[i])\n",
    "                yy_pred.append(f)\n",
    "\n",
    "            total_R2_dict[('IPCA_reg', lambda1, lambda2)] = metrics.total_R_squared(yy_test, xx_test, gamma_reg_w, yy_pred)\n",
    "            pred_R2_dict[('IPCA_reg', lambda1, lambda2)] = metrics.pred_R_squared(yy_test, xx_test, gamma_reg_w, yy_pred)\n",
    "\n",
    "    return total_R2_dict, pred_R2_dict"
   ]
  },
  {
   "cell_type": "code",
   "execution_count": 9,
   "metadata": {},
   "outputs": [
    {
     "data": {
      "text/plain": [
       "({('IPCA_reg', 0.1, 0.1): 0.024884449223020466},\n",
       " {('IPCA_reg', 0.1, 0.1): 0.0005109145409363247})"
      ]
     },
     "execution_count": 9,
     "metadata": {},
     "output_type": "execute_result"
    }
   ],
   "source": [
    "y = ret\n",
    "x = data\n",
    "trsh = 0.8\n",
    "lambda1_v = list([0.1])\n",
    "lambda2_v = list([0.1])\n",
    "\n",
    "cross_val_IPCA_reg(y,x, trsh, lambda1_v, lambda2_v, gamma_first, max_iter)"
   ]
  },
  {
   "cell_type": "code",
   "execution_count": 11,
   "metadata": {},
   "outputs": [
    {
     "name": "stdout",
     "output_type": "stream",
     "text": [
      "done\n"
     ]
    },
    {
     "data": {
      "text/plain": [
       "({'IPCA': 0.029925434516756555}, {'IPCA': -0.21153091124492174})"
      ]
     },
     "execution_count": 11,
     "metadata": {},
     "output_type": "execute_result"
    }
   ],
   "source": [
    "cross_val_IPCA(y,x, 0.9, gamma_first, max_iter)"
   ]
  },
  {
   "cell_type": "code",
   "execution_count": 10,
   "metadata": {},
   "outputs": [],
   "source": [
    "data2 = data.copy()\n",
    "data2 = np.array(np.array(data2).reshape(72*100,94)) #flatten data, build X\n",
    "tk = 1\n",
    "l = 1\n",
    "K = kr.K_LR(data2, tk, l)"
   ]
  },
  {
   "cell_type": "code",
   "execution_count": 11,
   "metadata": {},
   "outputs": [],
   "source": [
    "Omega2=np.eye(N)"
   ]
  },
  {
   "cell_type": "code",
   "execution_count": 54,
   "metadata": {},
   "outputs": [
    {
     "name": "stdout",
     "output_type": "stream",
     "text": [
      "0\n",
      "1\n",
      "2\n",
      "3\n",
      "4\n",
      "5\n",
      "6\n",
      "7\n",
      "8\n",
      "9\n"
     ]
    }
   ],
   "source": [
    "Omega1=np.eye((len(data)-1)*N)\n",
    "Omega2=np.eye(N)\n",
    "f_list_kr, v_kr, Q_kr = kr.kernel_regression(data, ret, f_list.copy(), lambda1, lambda2, Omega1, Omega2, 10, N, K)"
   ]
  },
  {
   "cell_type": "code",
   "execution_count": 55,
   "metadata": {},
   "outputs": [
    {
     "name": "stdout",
     "output_type": "stream",
     "text": [
      "0.14609966865070023\n"
     ]
    }
   ],
   "source": [
    "print(metrics.total_R_squared_kr(ret, v_kr, Q_kr))"
   ]
  },
  {
   "cell_type": "code",
   "execution_count": 44,
   "metadata": {},
   "outputs": [
    {
     "name": "stdout",
     "output_type": "stream",
     "text": [
      "1\n",
      "2\n",
      "3\n",
      "4\n",
      "5\n",
      "6\n",
      "7\n",
      "8\n",
      "9\n"
     ]
    }
   ],
   "source": [
    "m_hat = 10\n",
    "L, B = kr.pivoted_chol(K, m_hat)"
   ]
  },
  {
   "cell_type": "code",
   "execution_count": 49,
   "metadata": {},
   "outputs": [
    {
     "name": "stdout",
     "output_type": "stream",
     "text": [
      "0\n",
      "1\n",
      "2\n",
      "3\n",
      "4\n",
      "5\n",
      "6\n",
      "7\n",
      "8\n",
      "9\n"
     ]
    }
   ],
   "source": [
    "f_list_kr_LR, v_kr_LR = kr.kernel_regression_LR(data, K, B, ret, f_list.copy(), lambda1, lambda2, Omega2, 10, m_hat, N)"
   ]
  },
  {
   "cell_type": "code",
   "execution_count": 50,
   "metadata": {},
   "outputs": [
    {
     "name": "stdout",
     "output_type": "stream",
     "text": [
      "0.0017402896001241785\n"
     ]
    }
   ],
   "source": [
    "print(metrics.total_R_squared_kr_LR(ret, B, K, v_kr_LR, f_list_kr_LR))"
   ]
  },
  {
   "cell_type": "code",
   "execution_count": 24,
   "metadata": {},
   "outputs": [],
   "source": [
    "x_train,y_train,x_test,y_test = split_dataset(data, ret, 0.8)"
   ]
  },
  {
   "cell_type": "code",
   "execution_count": 17,
   "metadata": {},
   "outputs": [],
   "source": [
    "def cross_val_gaussian(y,x, trsh, lambda1_v, lambda2_v, alphas_v, N, f_list_input, Omega2, max_iter):\n",
    "\n",
    "    total_R2_dict = {}\n",
    "    \n",
    "    xx_train,yy_train,xx_test,yy_test = split_dataset(x,y, trsh)\n",
    "    Omega_test = np.eye((len(xx_test)-1)*N)\n",
    "    Omega_train = np.eye((len(xx_train)-1)*N)\n",
    "\n",
    "    for alpha in alphas_v:\n",
    "\n",
    "        data2_train = xx_train.copy()\n",
    "        data2_train = np.array(np.array(data2_train).reshape(len(xx_train)*N,94)) #flatten data, build X\n",
    "        data2_test = xx_test.copy()\n",
    "        data2_test = np.array(np.array(data2_test).reshape(len(xx_test)*N,94))\n",
    "        K_train = kr.K_LR(data2_train, 1, alpha)\n",
    "        K_test = kr.K_LR(data2_test, 1, alpha)\n",
    "\n",
    "        for lambda1 in lambda1_v:\n",
    "            for lambda2 in lambda2_v:\n",
    "                f_list, Q, v, g, G = kr.kernel_regression(xx_train, yy_train, f_list_input.copy(), lambda1, lambda2, Omega_train, Omega2, max_iter, N, K_train)\n",
    "\n",
    "                yy_pred = []\n",
    "                for t in range(0,len(xx_test)-1):\n",
    "\n",
    "                    c = np.linalg.solve(G+lambda2*Omega2, yy_test[t+1])\n",
    "                    print('done1')\n",
    "                    yy_pred.append(g.T@c)\n",
    "\n",
    "                print('done')\n",
    "\n",
    "                vt, Qt = kr.solve_v_kernel(yy_test, lambda1, xx_test, yy_pred, N, Omega_test, K_test)\n",
    "\n",
    "                total_R2_dict[('Gaussian', lambda1, lambda2, alpha)] = metrics.total_R_squared_kr(yy_test, Qt, vt)\n",
    "                \n",
    "    return total_R2_dict"
   ]
  },
  {
   "cell_type": "code",
   "execution_count": 18,
   "metadata": {},
   "outputs": [
    {
     "name": "stdout",
     "output_type": "stream",
     "text": [
      "0\n",
      "1\n",
      "2\n",
      "3\n",
      "4\n",
      "5\n",
      "6\n",
      "7\n",
      "8\n",
      "9\n",
      "done1\n",
      "done1\n",
      "done1\n",
      "done1\n",
      "done1\n",
      "done1\n",
      "done1\n",
      "done1\n",
      "done1\n",
      "done1\n",
      "done1\n",
      "done1\n",
      "done1\n",
      "done1\n",
      "done\n"
     ]
    },
    {
     "data": {
      "text/plain": [
       "{('Gaussian', 0.1, 0.1, 0.1): 0.5639048057945424}"
      ]
     },
     "execution_count": 18,
     "metadata": {},
     "output_type": "execute_result"
    }
   ],
   "source": [
    "alphas_v = list([0.1])\n",
    "cross_val_gaussian(y,x, 0.8, lambda1_v, lambda2_v, alphas_v, N, f_list, Omega2, 10)"
   ]
  },
  {
   "cell_type": "code",
   "execution_count": null,
   "metadata": {},
   "outputs": [],
   "source": [
    "def cross_val_kernel_LR(y,x, trsh, lambda1_v, lambda2_v, alphas_v, m_hat):\n",
    "\n",
    "    L, B = kr.pivoted_chol(K, m_hat)\n",
    "\n",
    "    total_R2_dict = {}\n",
    "    \n",
    "    xx_train,yy_train,xx_test,yy_test = split_dataset(x,y, trsh)\n",
    "\n",
    "    for alpha in alphas_v:\n",
    "\n",
    "        data2 = xx_train.copy()\n",
    "        data2 = np.array(np.array(data2).reshape(72*100,94)) #flatten data, build X\n",
    "        K = kr.K_LR(data2, 1, alpha)\n",
    "\n",
    "        for lambda1 in lambda1_v:\n",
    "            for lambda2 in lambda2_v:\n",
    "                \n",
    "            \n",
    "                \n",
    "                \n",
    "\n",
    "\n",
    "\n",
    "                \n",
    "    return total_R2_dict"
   ]
  }
 ],
 "metadata": {
  "kernelspec": {
   "display_name": "base",
   "language": "python",
   "name": "python3"
  },
  "language_info": {
   "codemirror_mode": {
    "name": "ipython",
    "version": 3
   },
   "file_extension": ".py",
   "mimetype": "text/x-python",
   "name": "python",
   "nbconvert_exporter": "python",
   "pygments_lexer": "ipython3",
   "version": "3.9.13"
  }
 },
 "nbformat": 4,
 "nbformat_minor": 2
}
