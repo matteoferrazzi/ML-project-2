{
 "cells": [
  {
   "cell_type": "code",
   "execution_count": 25,
   "metadata": {},
   "outputs": [
    {
     "data": {
      "text/plain": [
       "<module 'kernel_regression' from 'c:\\\\Users\\\\dandr_wh38grr\\\\Documents\\\\GitHub\\\\ML-project-2\\\\kernel_regression.py'>"
      ]
     },
     "execution_count": 25,
     "metadata": {},
     "output_type": "execute_result"
    }
   ],
   "source": [
    "import numpy as np\n",
    "import pandas as pd\n",
    "import matplotlib.pyplot as plt \n",
    "import seaborn as sns\n",
    "import os\n",
    "import importlib\n",
    "import download_clean_data as dc\n",
    "import ipca\n",
    "import metrics\n",
    "import kernel_regression as kr\n",
    "importlib.reload(dc) \n",
    "importlib.reload(ipca)\n",
    "importlib.reload(metrics)\n",
    "importlib.reload(kr)"
   ]
  },
  {
   "cell_type": "code",
   "execution_count": 26,
   "metadata": {},
   "outputs": [],
   "source": [
    "folder_path = \"Data/monthly_data\""
   ]
  },
  {
   "cell_type": "code",
   "execution_count": 27,
   "metadata": {},
   "outputs": [],
   "source": [
    "N = 100\n",
    "date = 20150000\n",
    "data, ret = dc.download_clean_data(folder_path, date, N)"
   ]
  },
  {
   "cell_type": "code",
   "execution_count": 28,
   "metadata": {},
   "outputs": [],
   "source": [
    "x = []\n",
    "for t in range(len(ret)-1):\n",
    "    x.append(data[t].values.T@ret[t+1].values/len(ret[0]))\n",
    "\n",
    "x_cov = np.sum([x[i].reshape((-1,1))@x[i].reshape((1,-1)) for i in range(len(x))], axis = 0)\n",
    "eigval_x, eigvec_x = np.linalg.eig(x_cov)\n",
    "\n",
    "idx = np.argsort(np.abs(eigval_x))[::-1]\n",
    "sort_eigvec_x = eigvec_x[:,idx].real\n",
    "k = 5\n",
    "gamma_first = sort_eigvec_x[:,:k]"
   ]
  },
  {
   "cell_type": "code",
   "execution_count": 29,
   "metadata": {},
   "outputs": [],
   "source": [
    "max_iter = 100\n",
    "gamma, f_list = ipca.ipca(data, ret, gamma_first.copy(), max_iter)\n",
    "W = np.eye(N)\n",
    "W_list = [W]*(len(data)-1)\n",
    "lambda1 = 0.1\n",
    "lambda2 = 0.1\n",
    "gamma_reg_w, f_list_reg_w = ipca.ipca_reg_w(data, ret, gamma_first.copy(), max_iter, lambda1, lambda2, W_list)"
   ]
  },
  {
   "cell_type": "code",
   "execution_count": 30,
   "metadata": {},
   "outputs": [
    {
     "name": "stdout",
     "output_type": "stream",
     "text": [
      "0.15335785516821054 -0.004563129725073445\n"
     ]
    }
   ],
   "source": [
    "print(metrics.total_R_squared(ret, data, gamma, f_list),metrics.pred_R_squared(ret, data, gamma, f_list))"
   ]
  },
  {
   "cell_type": "code",
   "execution_count": 31,
   "metadata": {},
   "outputs": [
    {
     "name": "stdout",
     "output_type": "stream",
     "text": [
      "0.15167256959390385 -0.0028241664513473097\n"
     ]
    }
   ],
   "source": [
    "print(metrics.total_R_squared(ret, data, gamma_reg_w, f_list_reg_w),metrics.pred_R_squared(ret, data, gamma_reg_w, f_list_reg_w))"
   ]
  },
  {
   "cell_type": "code",
   "execution_count": 32,
   "metadata": {},
   "outputs": [],
   "source": [
    "def split_dataset(x,y, trsh):\n",
    "\n",
    "    n = int(np.floor(len(y)*trsh))\n",
    "\n",
    "    x_train=x[:n]\n",
    "    y_train=y[:n]\n",
    "    x_test=x[n:]\n",
    "    y_test=y[n:]\n",
    "        \n",
    "    return x_train,y_train,x_test,y_test"
   ]
  },
  {
   "cell_type": "code",
   "execution_count": 41,
   "metadata": {},
   "outputs": [],
   "source": [
    "def cross_val_IPCA(y,x, trsh, gamma_first, max_iter):\n",
    "\n",
    "    total_R2_dict = {}\n",
    "    pred_R2_dict = {}\n",
    "    \n",
    "    xx_train,yy_train,xx_test,yy_test = split_dataset(x,y, trsh)\n",
    "\n",
    "    gamma, _ = ipca.ipca(xx_train, yy_train, gamma_first.copy(), max_iter)\n",
    "    print('done')\n",
    "\n",
    "    yy_pred = []\n",
    "\n",
    "    for i in range(len(xx_test)-1):\n",
    "\n",
    "        f = ipca.solve_f(ret, data, gamma, i+1)\n",
    "        yy_pred.append(f)\n",
    "\n",
    "    total_R2_dict[('IPCA')] = metrics.total_R_squared(yy_test, xx_test, gamma, yy_pred)\n",
    "    pred_R2_dict[('IPCA')] = metrics.pred_R_squared(yy_test, xx_test, gamma, yy_pred)\n",
    "\n",
    "    return total_R2_dict, pred_R2_dict"
   ]
  },
  {
   "cell_type": "code",
   "execution_count": 36,
   "metadata": {},
   "outputs": [],
   "source": [
    "def cross_val_IPCA_reg(y,x, trsh, lambda1_v, lambda2_v, gamma_first, max_iter):\n",
    "\n",
    "    total_R2_dict = {}\n",
    "    pred_R2_dict = {}\n",
    "    \n",
    "    xx_train,yy_train,xx_test,yy_test = split_dataset(x,y, trsh)\n",
    "\n",
    "    for lambda1 in lambda1_v:\n",
    "        for lambda2 in lambda2_v:\n",
    "\n",
    "            gamma_reg_w, _ = ipca.ipca_reg_w(xx_train, yy_train, gamma_first.copy(), max_iter, lambda1, lambda2, W_list)\n",
    "\n",
    "            yy_pred = []\n",
    "\n",
    "            for i in range(len(xx_test)-1):\n",
    "\n",
    "                f = ipca.solve_f_reg_w(yy_test, xx_test, gamma_reg_w, i+1, lambda1, W_list[i])\n",
    "                yy_pred.append(f)\n",
    "\n",
    "            total_R2_dict[('IPCA_reg', lambda1, lambda2)] = metrics.total_R_squared(yy_test, xx_test, gamma_reg_w, yy_pred)\n",
    "            pred_R2_dict[('IPCA_reg', lambda1, lambda2)] = metrics.pred_R_squared(yy_test, xx_test, gamma_reg_w, yy_pred)\n",
    "\n",
    "    return total_R2_dict, pred_R2_dict"
   ]
  },
  {
   "cell_type": "code",
   "execution_count": 37,
   "metadata": {},
   "outputs": [
    {
     "data": {
      "text/plain": [
       "({('IPCA_reg', 0.1, 0.1): 0.024975152887454444},\n",
       " {('IPCA_reg', 0.1, 0.1): 0.0005013007171978945})"
      ]
     },
     "execution_count": 37,
     "metadata": {},
     "output_type": "execute_result"
    }
   ],
   "source": [
    "y = ret\n",
    "x = data\n",
    "trsh = 0.8\n",
    "lambda1_v = list([0.1])\n",
    "lambda2_v = list([0.1])\n",
    "\n",
    "cross_val_IPCA_reg(y,x, trsh, lambda1_v, lambda2_v, gamma_first)"
   ]
  },
  {
   "cell_type": "code",
   "execution_count": 42,
   "metadata": {},
   "outputs": [
    {
     "ename": "KeyboardInterrupt",
     "evalue": "",
     "output_type": "error",
     "traceback": [
      "\u001b[1;31m---------------------------------------------------------------------------\u001b[0m",
      "\u001b[1;31mKeyboardInterrupt\u001b[0m                         Traceback (most recent call last)",
      "\u001b[1;32mc:\\Users\\dandr_wh38grr\\Documents\\GitHub\\ML-project-2\\run.ipynb Cell 12\u001b[0m line \u001b[0;36m1\n\u001b[1;32m----> <a href='vscode-notebook-cell:/c%3A/Users/dandr_wh38grr/Documents/GitHub/ML-project-2/run.ipynb#X32sZmlsZQ%3D%3D?line=0'>1</a>\u001b[0m cross_val_IPCA(y,x, \u001b[39m0.9\u001b[39;49m, gamma_first)\n",
      "\u001b[1;32mc:\\Users\\dandr_wh38grr\\Documents\\GitHub\\ML-project-2\\run.ipynb Cell 12\u001b[0m line \u001b[0;36m8\n\u001b[0;32m      <a href='vscode-notebook-cell:/c%3A/Users/dandr_wh38grr/Documents/GitHub/ML-project-2/run.ipynb#X32sZmlsZQ%3D%3D?line=3'>4</a>\u001b[0m pred_R2_dict \u001b[39m=\u001b[39m {}\n\u001b[0;32m      <a href='vscode-notebook-cell:/c%3A/Users/dandr_wh38grr/Documents/GitHub/ML-project-2/run.ipynb#X32sZmlsZQ%3D%3D?line=5'>6</a>\u001b[0m xx_train,yy_train,xx_test,yy_test \u001b[39m=\u001b[39m split_dataset(x,y, trsh)\n\u001b[1;32m----> <a href='vscode-notebook-cell:/c%3A/Users/dandr_wh38grr/Documents/GitHub/ML-project-2/run.ipynb#X32sZmlsZQ%3D%3D?line=7'>8</a>\u001b[0m gamma, _ \u001b[39m=\u001b[39m ipca\u001b[39m.\u001b[39;49mipca(xx_train, yy_train, gamma_first\u001b[39m.\u001b[39;49mcopy(), max_iter)\n\u001b[0;32m      <a href='vscode-notebook-cell:/c%3A/Users/dandr_wh38grr/Documents/GitHub/ML-project-2/run.ipynb#X32sZmlsZQ%3D%3D?line=8'>9</a>\u001b[0m \u001b[39mprint\u001b[39m(\u001b[39m'\u001b[39m\u001b[39mdone\u001b[39m\u001b[39m'\u001b[39m)\n\u001b[0;32m     <a href='vscode-notebook-cell:/c%3A/Users/dandr_wh38grr/Documents/GitHub/ML-project-2/run.ipynb#X32sZmlsZQ%3D%3D?line=10'>11</a>\u001b[0m yy_pred \u001b[39m=\u001b[39m []\n",
      "File \u001b[1;32mc:\\Users\\dandr_wh38grr\\Documents\\GitHub\\ML-project-2\\ipca.py:34\u001b[0m, in \u001b[0;36mipca\u001b[1;34m(data, ret, gamma, max_iter)\u001b[0m\n\u001b[0;32m     31\u001b[0m first \u001b[39m=\u001b[39m \u001b[39mTrue\u001b[39;00m\n\u001b[0;32m     32\u001b[0m f_list \u001b[39m=\u001b[39m f_list_new\u001b[39m.\u001b[39mcopy()\n\u001b[1;32m---> 34\u001b[0m gamma_new \u001b[39m=\u001b[39m solve_gamma(ret, data, f_list)\n\u001b[0;32m     35\u001b[0m gamma_change \u001b[39m=\u001b[39m np\u001b[39m.\u001b[39mabs(gamma_new\u001b[39m-\u001b[39mgamma)\n\u001b[0;32m     36\u001b[0m temp\u001b[39m.\u001b[39mappend(np\u001b[39m.\u001b[39mmax(gamma_change))\n",
      "File \u001b[1;32mc:\\Users\\dandr_wh38grr\\Documents\\GitHub\\ML-project-2\\ipca.py:10\u001b[0m, in \u001b[0;36msolve_gamma\u001b[1;34m(ret, data, f)\u001b[0m\n\u001b[0;32m      8\u001b[0m \u001b[39mdef\u001b[39;00m \u001b[39msolve_gamma\u001b[39m(ret, data, f):\n\u001b[0;32m      9\u001b[0m     \u001b[39m# f viene passato come lista\u001b[39;00m\n\u001b[1;32m---> 10\u001b[0m     A \u001b[39m=\u001b[39m np\u001b[39m.\u001b[39;49msum([np\u001b[39m.\u001b[39;49mkron(data[i]\u001b[39m.\u001b[39;49mvalues\u001b[39m.\u001b[39;49mT\u001b[39m@data\u001b[39;49m[i]\u001b[39m.\u001b[39;49mvalues, f[i]\u001b[39m.\u001b[39;49mreshape(\u001b[39m-\u001b[39;49m\u001b[39m1\u001b[39;49m,\u001b[39m1\u001b[39;49m)\u001b[39m@f\u001b[39;49m[i]\u001b[39m.\u001b[39;49mreshape(\u001b[39m1\u001b[39;49m,\u001b[39m-\u001b[39;49m\u001b[39m1\u001b[39;49m)) \u001b[39mfor\u001b[39;49;00m i \u001b[39min\u001b[39;49;00m \u001b[39mrange\u001b[39;49m(\u001b[39mlen\u001b[39;49m(data)\u001b[39m-\u001b[39;49m\u001b[39m1\u001b[39;49m)], axis\u001b[39m=\u001b[39;49m\u001b[39m0\u001b[39;49m)\n\u001b[0;32m     11\u001b[0m     B \u001b[39m=\u001b[39m np\u001b[39m.\u001b[39msum([np\u001b[39m.\u001b[39mkron(data[i]\u001b[39m.\u001b[39mvalues,f[i]\u001b[39m.\u001b[39mreshape((\u001b[39m1\u001b[39m,\u001b[39m-\u001b[39m\u001b[39m1\u001b[39m)))\u001b[39m.\u001b[39mT\u001b[39m@ret\u001b[39m[i\u001b[39m+\u001b[39m\u001b[39m1\u001b[39m] \u001b[39mfor\u001b[39;00m i \u001b[39min\u001b[39;00m \u001b[39mrange\u001b[39m(\u001b[39mlen\u001b[39m(data)\u001b[39m-\u001b[39m\u001b[39m1\u001b[39m)], axis\u001b[39m=\u001b[39m\u001b[39m0\u001b[39m)\n\u001b[0;32m     12\u001b[0m     vec_gamma \u001b[39m=\u001b[39m np\u001b[39m.\u001b[39mlinalg\u001b[39m.\u001b[39msolve(A, B)\n",
      "File \u001b[1;32m<__array_function__ internals>:180\u001b[0m, in \u001b[0;36msum\u001b[1;34m(*args, **kwargs)\u001b[0m\n",
      "File \u001b[1;32mc:\\Users\\dandr_wh38grr\\AppData\\Local\\Programs\\Python\\Python311\\Lib\\site-packages\\numpy\\core\\fromnumeric.py:2298\u001b[0m, in \u001b[0;36msum\u001b[1;34m(a, axis, dtype, out, keepdims, initial, where)\u001b[0m\n\u001b[0;32m   2295\u001b[0m         \u001b[39mreturn\u001b[39;00m out\n\u001b[0;32m   2296\u001b[0m     \u001b[39mreturn\u001b[39;00m res\n\u001b[1;32m-> 2298\u001b[0m \u001b[39mreturn\u001b[39;00m _wrapreduction(a, np\u001b[39m.\u001b[39;49madd, \u001b[39m'\u001b[39;49m\u001b[39msum\u001b[39;49m\u001b[39m'\u001b[39;49m, axis, dtype, out, keepdims\u001b[39m=\u001b[39;49mkeepdims,\n\u001b[0;32m   2299\u001b[0m                       initial\u001b[39m=\u001b[39;49minitial, where\u001b[39m=\u001b[39;49mwhere)\n",
      "File \u001b[1;32mc:\\Users\\dandr_wh38grr\\AppData\\Local\\Programs\\Python\\Python311\\Lib\\site-packages\\numpy\\core\\fromnumeric.py:86\u001b[0m, in \u001b[0;36m_wrapreduction\u001b[1;34m(obj, ufunc, method, axis, dtype, out, **kwargs)\u001b[0m\n\u001b[0;32m     83\u001b[0m         \u001b[39melse\u001b[39;00m:\n\u001b[0;32m     84\u001b[0m             \u001b[39mreturn\u001b[39;00m reduction(axis\u001b[39m=\u001b[39maxis, out\u001b[39m=\u001b[39mout, \u001b[39m*\u001b[39m\u001b[39m*\u001b[39mpasskwargs)\n\u001b[1;32m---> 86\u001b[0m \u001b[39mreturn\u001b[39;00m ufunc\u001b[39m.\u001b[39;49mreduce(obj, axis, dtype, out, \u001b[39m*\u001b[39;49m\u001b[39m*\u001b[39;49mpasskwargs)\n",
      "\u001b[1;31mKeyboardInterrupt\u001b[0m: "
     ]
    }
   ],
   "source": [
    "cross_val_IPCA(y,x, 0.9, gamma_first)"
   ]
  },
  {
   "cell_type": "code",
   "execution_count": 9,
   "metadata": {},
   "outputs": [],
   "source": [
    "data2 = data.copy()\n",
    "data2 = np.array(np.array(data2).reshape(72*100,94)) #flatten data, build X\n",
    "tk = 1\n",
    "l = 1\n",
    "K = kr.K_LR(data2, tk, l)"
   ]
  },
  {
   "cell_type": "code",
   "execution_count": 10,
   "metadata": {},
   "outputs": [
    {
     "name": "stdout",
     "output_type": "stream",
     "text": [
      "0\n",
      "1\n",
      "2\n",
      "3\n",
      "4\n",
      "5\n",
      "6\n",
      "7\n",
      "8\n",
      "9\n",
      "10\n",
      "11\n",
      "12\n",
      "13\n",
      "14\n",
      "15\n",
      "16\n",
      "17\n",
      "18\n",
      "19\n",
      "20\n",
      "21\n",
      "22\n",
      "23\n",
      "24\n",
      "25\n",
      "26\n",
      "27\n",
      "28\n",
      "29\n",
      "30\n",
      "31\n",
      "32\n",
      "33\n",
      "34\n",
      "35\n",
      "36\n",
      "37\n",
      "38\n",
      "39\n",
      "40\n",
      "41\n",
      "42\n",
      "43\n",
      "44\n",
      "45\n",
      "46\n",
      "47\n",
      "48\n",
      "49\n",
      "50\n",
      "51\n",
      "52\n",
      "53\n",
      "54\n",
      "55\n",
      "56\n",
      "57\n",
      "58\n",
      "59\n",
      "60\n",
      "61\n",
      "62\n",
      "63\n",
      "64\n",
      "65\n",
      "66\n",
      "67\n",
      "68\n",
      "69\n",
      "70\n",
      "71\n",
      "72\n",
      "73\n",
      "74\n",
      "75\n",
      "76\n",
      "77\n",
      "78\n",
      "79\n",
      "80\n",
      "81\n",
      "82\n",
      "83\n",
      "84\n",
      "85\n",
      "86\n",
      "87\n",
      "88\n",
      "89\n",
      "90\n",
      "91\n",
      "92\n",
      "93\n",
      "94\n",
      "95\n",
      "96\n",
      "97\n",
      "98\n",
      "99\n"
     ]
    }
   ],
   "source": [
    "Omega1=np.eye((len(data)-1)*N)\n",
    "Omega2=np.eye(N)\n",
    "f_list_kr, v_kr, Q_kr = kr.kernel_regression(data, ret, f_list.copy(), lambda1, lambda2, Omega1, Omega2, 100, N, K)"
   ]
  },
  {
   "cell_type": "code",
   "execution_count": 11,
   "metadata": {},
   "outputs": [
    {
     "name": "stdout",
     "output_type": "stream",
     "text": [
      "0.9809999520874729\n"
     ]
    }
   ],
   "source": [
    "print(metrics.total_R_squared_kr(ret, v_kr, Q_kr))"
   ]
  },
  {
   "cell_type": "code",
   "execution_count": 17,
   "metadata": {},
   "outputs": [
    {
     "name": "stdout",
     "output_type": "stream",
     "text": [
      "1\n",
      "norm is:  7198.999959104213\n",
      "2\n",
      "norm is:  7197.999944784164\n",
      "3\n",
      "norm is:  7196.998824179322\n",
      "4\n",
      "norm is:  7195.61507336205\n",
      "5\n",
      "norm is:  7194.588527986571\n",
      "6\n",
      "norm is:  7193.398143087707\n",
      "7\n",
      "norm is:  7192.393800172051\n",
      "8\n",
      "norm is:  7191.390077186724\n",
      "9\n",
      "norm is:  7190.1437715554675\n",
      "10\n",
      "norm is:  7188.956930843082\n",
      "11\n",
      "norm is:  7187.956060450433\n",
      "12\n",
      "norm is:  7186.956060450433\n",
      "13\n",
      "norm is:  7185.956060275518\n",
      "14\n",
      "norm is:  7184.953919603878\n",
      "15\n",
      "norm is:  7183.794209933053\n",
      "16\n",
      "norm is:  7182.791290393763\n",
      "17\n",
      "norm is:  7181.791253384338\n",
      "18\n",
      "norm is:  7180.791218558133\n",
      "19\n",
      "norm is:  7179.79121855796\n",
      "20\n",
      "norm is:  7178.788475846901\n",
      "21\n",
      "norm is:  7177.77408695479\n",
      "22\n",
      "norm is:  7176.749253136371\n",
      "23\n",
      "norm is:  7175.499858074853\n",
      "24\n",
      "norm is:  7174.43878762402\n",
      "25\n",
      "norm is:  7173.4387818611685\n",
      "26\n",
      "norm is:  7172.438779631779\n",
      "27\n",
      "norm is:  7171.191809182346\n",
      "28\n",
      "norm is:  7169.980848080299\n",
      "29\n",
      "norm is:  7168.975151725551\n",
      "30\n",
      "norm is:  7167.965791636323\n",
      "31\n",
      "norm is:  7166.952565541898\n",
      "32\n",
      "norm is:  7165.947261126903\n",
      "33\n",
      "norm is:  7164.871688815716\n",
      "34\n",
      "norm is:  7163.868166048875\n",
      "35\n",
      "norm is:  7162.868155966751\n",
      "36\n",
      "norm is:  7161.80474308834\n",
      "37\n",
      "norm is:  7160.804191941586\n",
      "38\n",
      "norm is:  7159.779678025523\n",
      "39\n",
      "norm is:  7158.765066168389\n",
      "40\n",
      "norm is:  7157.764787971788\n",
      "41\n",
      "norm is:  7156.764787971788\n",
      "42\n",
      "norm is:  7155.760036230561\n",
      "43\n",
      "norm is:  7154.74235126908\n",
      "44\n",
      "norm is:  7153.738673673379\n",
      "45\n",
      "norm is:  7152.73867233176\n",
      "46\n",
      "norm is:  7151.73867233176\n",
      "47\n",
      "norm is:  7150.738383154838\n",
      "48\n",
      "norm is:  7149.738377885988\n",
      "49\n",
      "norm is:  7148.738320514105\n"
     ]
    }
   ],
   "source": [
    "m_hat = 10\n",
    "L, B = kr.pivoted_chol(K, m_hat)"
   ]
  },
  {
   "cell_type": "code",
   "execution_count": 18,
   "metadata": {},
   "outputs": [
    {
     "name": "stdout",
     "output_type": "stream",
     "text": [
      "0\n",
      "1\n",
      "2\n",
      "3\n",
      "4\n",
      "5\n",
      "6\n",
      "7\n",
      "8\n",
      "9\n"
     ]
    },
    {
     "ename": "KeyboardInterrupt",
     "evalue": "",
     "output_type": "error",
     "traceback": [
      "\u001b[1;31m---------------------------------------------------------------------------\u001b[0m",
      "\u001b[1;31mKeyboardInterrupt\u001b[0m                         Traceback (most recent call last)",
      "\u001b[1;32mc:\\Users\\dandr_wh38grr\\Documents\\GitHub\\ML-project-2\\run.ipynb Cell 13\u001b[0m line \u001b[0;36m1\n\u001b[1;32m----> <a href='vscode-notebook-cell:/c%3A/Users/dandr_wh38grr/Documents/GitHub/ML-project-2/run.ipynb#X14sZmlsZQ%3D%3D?line=0'>1</a>\u001b[0m f_list_kr_LR, v_kr_LR \u001b[39m=\u001b[39m kr\u001b[39m.\u001b[39;49mkernel_regression_LR(data, K, B, ret, f_list\u001b[39m.\u001b[39;49mcopy(), lambda1, lambda2, Omega2, \u001b[39m100\u001b[39;49m, m_hat, N)\n",
      "File \u001b[1;32mc:\\Users\\dandr_wh38grr\\Documents\\GitHub\\ML-project-2\\kernel_regression.py:152\u001b[0m, in \u001b[0;36mkernel_regression_LR\u001b[1;34m(data, K, B, ret, f_list, lambda1, lambda2, Omega, max_iter, m_hat, N)\u001b[0m\n\u001b[0;32m    150\u001b[0m     \u001b[39mprint\u001b[39m(i)\n\u001b[0;32m    151\u001b[0m     v \u001b[39m=\u001b[39m solve_v_LR(data, B, ret, f_list, K, lambda1, Omega, m_hat)\n\u001b[1;32m--> 152\u001b[0m     f_list \u001b[39m=\u001b[39m solve_f_LR(ret, v, B, lambda2, data, Omega, K, N)\n\u001b[0;32m    154\u001b[0m \u001b[39mreturn\u001b[39;00m f_list, v\n",
      "File \u001b[1;32mc:\\Users\\dandr_wh38grr\\Documents\\GitHub\\ML-project-2\\kernel_regression.py:142\u001b[0m, in \u001b[0;36msolve_f_LR\u001b[1;34m(ret, v, B, lambda2, data, Omega, K, N)\u001b[0m\n\u001b[0;32m    139\u001b[0m f_list_new \u001b[39m=\u001b[39m []\n\u001b[0;32m    141\u001b[0m \u001b[39mfor\u001b[39;00m t \u001b[39min\u001b[39;00m \u001b[39mrange\u001b[39m(T\u001b[39m-\u001b[39m\u001b[39m1\u001b[39m):\n\u001b[1;32m--> 142\u001b[0m     c \u001b[39m=\u001b[39m np\u001b[39m.\u001b[39mlinalg\u001b[39m.\u001b[39msolve(gram_matrix_LR(B, v, t, K, N)\u001b[39m+\u001b[39mlambda2\u001b[39m*\u001b[39mOmega, ret[t\u001b[39m+\u001b[39m\u001b[39m1\u001b[39m])\n\u001b[0;32m    143\u001b[0m     f_list_new\u001b[39m.\u001b[39mappend(solve_g_kernel_LR(B, v, t, K, N)\u001b[39m.\u001b[39mT\u001b[39m@c\u001b[39m)\n\u001b[0;32m    145\u001b[0m \u001b[39mreturn\u001b[39;00m f_list_new\n",
      "File \u001b[1;32mc:\\Users\\dandr_wh38grr\\Documents\\GitHub\\ML-project-2\\kernel_regression.py:132\u001b[0m, in \u001b[0;36mgram_matrix_LR\u001b[1;34m(B, v, t, K, N)\u001b[0m\n\u001b[0;32m    130\u001b[0m \u001b[39mdef\u001b[39;00m \u001b[39mgram_matrix_LR\u001b[39m(B, v, t, K, N):\n\u001b[1;32m--> 132\u001b[0m     g \u001b[39m=\u001b[39m solve_g_kernel_LR(B, v, t, K, N)\n\u001b[0;32m    134\u001b[0m     \u001b[39mreturn\u001b[39;00m g\u001b[39m@g\u001b[39m\u001b[39m.\u001b[39mT\n",
      "File \u001b[1;32mc:\\Users\\dandr_wh38grr\\Documents\\GitHub\\ML-project-2\\kernel_regression.py:126\u001b[0m, in \u001b[0;36msolve_g_kernel_LR\u001b[1;34m(B, v, t, K, N)\u001b[0m\n\u001b[0;32m    123\u001b[0m g \u001b[39m=\u001b[39m np\u001b[39m.\u001b[39mzeros((N, v_mat\u001b[39m.\u001b[39mshape[\u001b[39m1\u001b[39m]))\n\u001b[0;32m    125\u001b[0m \u001b[39mfor\u001b[39;00m i \u001b[39min\u001b[39;00m \u001b[39mrange\u001b[39m(B\u001b[39m.\u001b[39mshape[\u001b[39m1\u001b[39m]):\n\u001b[1;32m--> 126\u001b[0m     g \u001b[39m+\u001b[39m\u001b[39m=\u001b[39m (B\u001b[39m.\u001b[39;49mT\u001b[39m@K\u001b[39;49m[t\u001b[39m*\u001b[39;49m\u001b[39m100\u001b[39;49m:(t\u001b[39m+\u001b[39;49m\u001b[39m1\u001b[39;49m)\u001b[39m*\u001b[39;49m\u001b[39m100\u001b[39;49m,:]\u001b[39m.\u001b[39;49mT)[i,:]\u001b[39m.\u001b[39;49mreshape(\u001b[39m-\u001b[39;49m\u001b[39m1\u001b[39;49m,\u001b[39m1\u001b[39;49m)\u001b[39m@v_mat\u001b[39m[i,:]\u001b[39m.\u001b[39mreshape(\u001b[39m1\u001b[39m,\u001b[39m-\u001b[39m\u001b[39m1\u001b[39m)\n\u001b[0;32m    128\u001b[0m \u001b[39mreturn\u001b[39;00m g\n",
      "\u001b[1;31mKeyboardInterrupt\u001b[0m: "
     ]
    }
   ],
   "source": [
    "f_list_kr_LR, v_kr_LR = kr.kernel_regression_LR(data, K, B, ret, f_list.copy(), lambda1, lambda2, Omega2, 100, m_hat, N)"
   ]
  },
  {
   "cell_type": "code",
   "execution_count": null,
   "metadata": {},
   "outputs": [
    {
     "name": "stdout",
     "output_type": "stream",
     "text": [
      "0.001358626838706134\n"
     ]
    }
   ],
   "source": [
    "print(metrics.total_R_squared_kr_LR(ret, B, K, v_kr_LR, f_list_kr_LR))"
   ]
  },
  {
   "cell_type": "code",
   "execution_count": 24,
   "metadata": {},
   "outputs": [],
   "source": [
    "x_train,y_train,x_test,y_test = split_dataset(data, ret, 0.8)"
   ]
  },
  {
   "cell_type": "code",
   "execution_count": null,
   "metadata": {},
   "outputs": [],
   "source": [
    "def cross_val_Gaussian_LR(y,x, trsh, lambda1_v, lambda2_v, alphas_v, m_hat):\n",
    "\n",
    "    L, B = kr.pivoted_chol(K, m_hat)\n",
    "\n",
    "    total_R2_dict = {}\n",
    "    \n",
    "    xx_train,yy_train,xx_test,yy_test = split_dataset(x,y, trsh)\n",
    "\n",
    "    for alpha in alphas_v:\n",
    "\n",
    "        data2 = xx_train.copy()\n",
    "        data2 = np.array(np.array(data2).reshape(72*100,94)) #flatten data, build X\n",
    "        K = kr.K_LR(data2, 1, alpha)\n",
    "\n",
    "        for lambda1 in lambda1_v:\n",
    "            for lambda2 in lambda2_v:\n",
    "            \n",
    "                \n",
    "                \n",
    "\n",
    "\n",
    "\n",
    "                \n",
    "    return total_R2_dict"
   ]
  }
 ],
 "metadata": {
  "kernelspec": {
   "display_name": "base",
   "language": "python",
   "name": "python3"
  },
  "language_info": {
   "codemirror_mode": {
    "name": "ipython",
    "version": 3
   },
   "file_extension": ".py",
   "mimetype": "text/x-python",
   "name": "python",
   "nbconvert_exporter": "python",
   "pygments_lexer": "ipython3",
   "version": "3.11.2"
  }
 },
 "nbformat": 4,
 "nbformat_minor": 2
}
