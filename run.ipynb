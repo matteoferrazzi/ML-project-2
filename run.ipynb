{
 "cells": [
  {
   "cell_type": "code",
   "execution_count": 24,
   "metadata": {},
   "outputs": [
    {
     "data": {
      "text/plain": [
       "<module 'cross_validaton' from 'c:\\\\Users\\\\dandr_wh38grr\\\\Documents\\\\GitHub\\\\ML-project-2\\\\cross_validaton.py'>"
      ]
     },
     "execution_count": 24,
     "metadata": {},
     "output_type": "execute_result"
    }
   ],
   "source": [
    "import numpy as np\n",
    "import pandas as pd\n",
    "import matplotlib.pyplot as plt \n",
    "import seaborn as sns\n",
    "import os\n",
    "import importlib\n",
    "import download_clean_data as dc\n",
    "import ipca\n",
    "import metrics\n",
    "import kernel_regression as kr\n",
    "import cross_validaton as cv\n",
    "importlib.reload(dc) \n",
    "importlib.reload(ipca)\n",
    "importlib.reload(metrics)\n",
    "importlib.reload(kr)\n",
    "importlib.reload(cv)"
   ]
  },
  {
   "cell_type": "code",
   "execution_count": 26,
   "metadata": {},
   "outputs": [],
   "source": [
    "folder_path = \"Data/monthly_data\""
   ]
  },
  {
   "cell_type": "code",
   "execution_count": 27,
   "metadata": {},
   "outputs": [],
   "source": [
    "N = 100\n",
    "date = 20150000\n",
    "data, ret = dc.download_clean_data(folder_path, date, N)"
   ]
  },
  {
   "cell_type": "code",
   "execution_count": 29,
   "metadata": {},
   "outputs": [],
   "source": [
    "k = 5\n",
    "gamma_first = ipca.gamma_first(ret, data, k)  \n",
    "\n",
    "y = ret\n",
    "x = data"
   ]
  },
  {
   "cell_type": "markdown",
   "metadata": {},
   "source": [
    "### IPCA in sample"
   ]
  },
  {
   "cell_type": "code",
   "execution_count": 130,
   "metadata": {},
   "outputs": [
    {
     "name": "stdout",
     "output_type": "stream",
     "text": [
      "0.2697919267370519 0.005220343383721682\n"
     ]
    }
   ],
   "source": [
    "max_iter = 100\n",
    "\n",
    "gamma, f_list = ipca.ipca(data, ret, gamma_first.copy(), max_iter)\n",
    "\n",
    "print(metrics.total_R_squared(ret, data, gamma, f_list),metrics.pred_R_squared(ret, data, gamma, f_list))"
   ]
  },
  {
   "cell_type": "markdown",
   "metadata": {},
   "source": [
    "### IPCA out of sample"
   ]
  },
  {
   "cell_type": "code",
   "execution_count": 131,
   "metadata": {},
   "outputs": [
    {
     "name": "stdout",
     "output_type": "stream",
     "text": [
      "done\n"
     ]
    },
    {
     "data": {
      "text/plain": [
       "({'IPCA': 0.12064823317073392}, {'IPCA': 0.01291255112361922})"
      ]
     },
     "execution_count": 131,
     "metadata": {},
     "output_type": "execute_result"
    }
   ],
   "source": [
    "max_iter = 100\n",
    "\n",
    "cv.cross_val_IPCA(y,x, 0.9, gamma_first, max_iter)"
   ]
  },
  {
   "cell_type": "markdown",
   "metadata": {},
   "source": [
    "### Regularized IPCA in sample"
   ]
  },
  {
   "cell_type": "code",
   "execution_count": 132,
   "metadata": {},
   "outputs": [
    {
     "name": "stdout",
     "output_type": "stream",
     "text": [
      "0.2527609150450676 0.01552254837169409\n"
     ]
    }
   ],
   "source": [
    "max_iter = 100\n",
    "W = np.eye(N)\n",
    "W_list = [W]*(len(data))\n",
    "lambda1 = 1\n",
    "lambda2 = 1\n",
    "\n",
    "gamma_reg_w, f_list_reg_w = ipca.ipca_reg_w(data, ret, gamma_first.copy(), max_iter, lambda1, lambda2, W_list)\n",
    "\n",
    "print(metrics.total_R_squared(ret, data, gamma_reg_w, f_list_reg_w),metrics.pred_R_squared(ret, data, gamma_reg_w, f_list_reg_w))"
   ]
  },
  {
   "cell_type": "markdown",
   "metadata": {},
   "source": [
    "### Regularized IPCA out of sample"
   ]
  },
  {
   "cell_type": "code",
   "execution_count": 133,
   "metadata": {},
   "outputs": [
    {
     "data": {
      "text/plain": [
       "({('IPCA_reg', 1, 1): 0.12767413309286402},\n",
       " {('IPCA_reg', 1, 1): 0.042135812421783214})"
      ]
     },
     "execution_count": 133,
     "metadata": {},
     "output_type": "execute_result"
    }
   ],
   "source": [
    "max_iter\n",
    "trsh = 0.8\n",
    "lambda1_v = list([1])\n",
    "lambda2_v = list([1])\n",
    "\n",
    "cv.cross_val_IPCA_reg(y,x, trsh, lambda1_v, lambda2_v, gamma_first, max_iter, W_list)"
   ]
  },
  {
   "cell_type": "markdown",
   "metadata": {},
   "source": [
    "### Linear Kernel in sample"
   ]
  },
  {
   "cell_type": "code",
   "execution_count": 58,
   "metadata": {},
   "outputs": [
    {
     "name": "stdout",
     "output_type": "stream",
     "text": [
      "0\n",
      "1\n",
      "2\n",
      "3\n",
      "4\n",
      "5\n",
      "6\n",
      "7\n",
      "8\n",
      "9\n",
      "0.26192074809347365\n"
     ]
    }
   ],
   "source": [
    "data2 = data.copy()\n",
    "data2 = np.array(np.array(data2).reshape(72*100,94)) #flatten data, build X\n",
    "tk = 0\n",
    "l = 10\n",
    "K = kr.K_LR(data2, tk, l)\n",
    "\n",
    "_, f_list = ipca.ipca(data, ret, gamma_first.copy(), 1)\n",
    "\n",
    "lambda1 = 1e-10\n",
    "lambda2 = 1e-10\n",
    "Omega1=np.eye((len(data))*N)\n",
    "Omega2=np.eye(N)\n",
    "max_iter = 10\n",
    "\n",
    "f_list_kr, v_kr, Q_kr, _, _ = kr.kernel_regression(data, ret, f_list.copy(), lambda1, lambda2, Omega1, Omega2, max_iter, N, K)\n",
    "\n",
    "print(metrics.total_R_squared_kr(ret, v_kr, Q_kr))"
   ]
  },
  {
   "cell_type": "markdown",
   "metadata": {},
   "source": [
    "### Linear Kernel out of sample"
   ]
  },
  {
   "cell_type": "code",
   "execution_count": 32,
   "metadata": {},
   "outputs": [
    {
     "name": "stdout",
     "output_type": "stream",
     "text": [
      "start cycle\n",
      "0\n",
      "1\n",
      "2\n",
      "3\n",
      "4\n",
      "5\n",
      "6\n",
      "7\n",
      "8\n",
      "9\n",
      "10\n",
      "11\n",
      "12\n",
      "13\n",
      "14\n",
      "15\n",
      "16\n",
      "17\n",
      "18\n",
      "19\n",
      "20\n",
      "21\n",
      "22\n",
      "23\n",
      "24\n",
      "25\n",
      "26\n",
      "27\n",
      "28\n",
      "29\n",
      "30\n",
      "31\n",
      "32\n",
      "33\n"
     ]
    },
    {
     "ename": "KeyboardInterrupt",
     "evalue": "",
     "output_type": "error",
     "traceback": [
      "\u001b[1;31m---------------------------------------------------------------------------\u001b[0m",
      "\u001b[1;31mKeyboardInterrupt\u001b[0m                         Traceback (most recent call last)",
      "Cell \u001b[1;32mIn[32], line 8\u001b[0m\n\u001b[0;32m      5\u001b[0m lambda2_v \u001b[38;5;241m=\u001b[39m \u001b[38;5;28mlist\u001b[39m([\u001b[38;5;241m1\u001b[39m])\n\u001b[0;32m      6\u001b[0m max_iter \u001b[38;5;241m=\u001b[39m \u001b[38;5;241m100\u001b[39m\n\u001b[1;32m----> 8\u001b[0m \u001b[43mcv\u001b[49m\u001b[38;5;241;43m.\u001b[39;49m\u001b[43mcross_val_linear\u001b[49m\u001b[43m(\u001b[49m\u001b[43my\u001b[49m\u001b[43m,\u001b[49m\u001b[43mx\u001b[49m\u001b[43m,\u001b[49m\u001b[43m \u001b[49m\u001b[43mtrsh\u001b[49m\u001b[43m,\u001b[49m\u001b[43m \u001b[49m\u001b[43mlambda1_v\u001b[49m\u001b[43m,\u001b[49m\u001b[43m \u001b[49m\u001b[43mlambda2_v\u001b[49m\u001b[43m,\u001b[49m\u001b[43m \u001b[49m\u001b[43mN\u001b[49m\u001b[43m,\u001b[49m\u001b[43m \u001b[49m\u001b[43mf_list\u001b[49m\u001b[38;5;241;43m.\u001b[39;49m\u001b[43mcopy\u001b[49m\u001b[43m(\u001b[49m\u001b[43m)\u001b[49m\u001b[43m,\u001b[49m\u001b[43m \u001b[49m\u001b[43mOmega2\u001b[49m\u001b[43m,\u001b[49m\u001b[43m \u001b[49m\u001b[43mmax_iter\u001b[49m\u001b[43m)\u001b[49m\n",
      "File \u001b[1;32mc:\\Users\\dandr_wh38grr\\Documents\\GitHub\\ML-project-2\\cross_validaton.py:144\u001b[0m, in \u001b[0;36mcross_val_linear\u001b[1;34m(y, x, trsh, lambda1_v, lambda2_v, N, f_list_input, Omega2, max_iter)\u001b[0m\n\u001b[0;32m    142\u001b[0m \u001b[38;5;28;01mfor\u001b[39;00m lambda1 \u001b[38;5;129;01min\u001b[39;00m lambda1_v:\n\u001b[0;32m    143\u001b[0m     \u001b[38;5;28;01mfor\u001b[39;00m lambda2 \u001b[38;5;129;01min\u001b[39;00m lambda2_v:\n\u001b[1;32m--> 144\u001b[0m         f_list, v, _, _, _ \u001b[38;5;241m=\u001b[39m \u001b[43mkr\u001b[49m\u001b[38;5;241;43m.\u001b[39;49m\u001b[43mkernel_regression\u001b[49m\u001b[43m(\u001b[49m\u001b[43mxx_train\u001b[49m\u001b[43m,\u001b[49m\u001b[43m \u001b[49m\u001b[43myy_train\u001b[49m\u001b[43m,\u001b[49m\u001b[43m \u001b[49m\u001b[43mf_list_input\u001b[49m\u001b[38;5;241;43m.\u001b[39;49m\u001b[43mcopy\u001b[49m\u001b[43m(\u001b[49m\u001b[43m)\u001b[49m\u001b[43m,\u001b[49m\u001b[43m \u001b[49m\u001b[43mlambda1\u001b[49m\u001b[43m,\u001b[49m\u001b[43m \u001b[49m\u001b[43mlambda2\u001b[49m\u001b[43m,\u001b[49m\u001b[43m \u001b[49m\u001b[43mOmega_train\u001b[49m\u001b[43m,\u001b[49m\u001b[43m \u001b[49m\u001b[43mOmega2\u001b[49m\u001b[43m,\u001b[49m\u001b[43m \u001b[49m\u001b[43mmax_iter\u001b[49m\u001b[43m,\u001b[49m\u001b[43m \u001b[49m\u001b[43mN\u001b[49m\u001b[43m,\u001b[49m\u001b[43m \u001b[49m\u001b[43mK_train\u001b[49m\u001b[43m)\u001b[49m\n\u001b[0;32m    146\u001b[0m         yy_pred \u001b[38;5;241m=\u001b[39m []\n\u001b[0;32m    148\u001b[0m         g_list \u001b[38;5;241m=\u001b[39m []\n",
      "File \u001b[1;32mc:\\Users\\dandr_wh38grr\\Documents\\GitHub\\ML-project-2\\kernel_regression.py:69\u001b[0m, in \u001b[0;36mkernel_regression\u001b[1;34m(data, ret, f_list, lambda1, lambda2, Omega1, Omega2, max_iter, N, K)\u001b[0m\n\u001b[0;32m     67\u001b[0m \u001b[38;5;28;01mfor\u001b[39;00m i \u001b[38;5;129;01min\u001b[39;00m \u001b[38;5;28mrange\u001b[39m(max_iter):\n\u001b[0;32m     68\u001b[0m     \u001b[38;5;28mprint\u001b[39m(i)\n\u001b[1;32m---> 69\u001b[0m     v, Q \u001b[38;5;241m=\u001b[39m \u001b[43msolve_v_kernel\u001b[49m\u001b[43m(\u001b[49m\u001b[43mret\u001b[49m\u001b[43m,\u001b[49m\u001b[43m \u001b[49m\u001b[43mlambda1\u001b[49m\u001b[43m,\u001b[49m\u001b[43m \u001b[49m\u001b[43mdata\u001b[49m\u001b[43m,\u001b[49m\u001b[43m \u001b[49m\u001b[43mf_list\u001b[49m\u001b[43m,\u001b[49m\u001b[43m \u001b[49m\u001b[43mN\u001b[49m\u001b[43m,\u001b[49m\u001b[43m \u001b[49m\u001b[43mOmega1\u001b[49m\u001b[43m,\u001b[49m\u001b[43m \u001b[49m\u001b[43mK\u001b[49m\u001b[43m)\u001b[49m\n\u001b[0;32m     70\u001b[0m     f_list, g, G \u001b[38;5;241m=\u001b[39m solve_f(ret, v, lambda2, data, f_list, Omega2, K)\n\u001b[0;32m     72\u001b[0m \u001b[38;5;28;01mreturn\u001b[39;00m f_list, v, Q, g, G\n",
      "File \u001b[1;32mc:\\Users\\dandr_wh38grr\\Documents\\GitHub\\ML-project-2\\kernel_regression.py:34\u001b[0m, in \u001b[0;36msolve_v_kernel\u001b[1;34m(ret, lambda1, data, f_list, N, Omega, K)\u001b[0m\n\u001b[0;32m     32\u001b[0m     \u001b[38;5;28;01mfor\u001b[39;00m s \u001b[38;5;129;01min\u001b[39;00m \u001b[38;5;28mrange\u001b[39m(\u001b[38;5;241m0\u001b[39m,T):\n\u001b[0;32m     33\u001b[0m         Q[t\u001b[38;5;241m*\u001b[39m\u001b[38;5;241m100\u001b[39m:(t\u001b[38;5;241m+\u001b[39m\u001b[38;5;241m1\u001b[39m)\u001b[38;5;241m*\u001b[39m\u001b[38;5;241m100\u001b[39m,s\u001b[38;5;241m*\u001b[39m\u001b[38;5;241m100\u001b[39m:(s\u001b[38;5;241m+\u001b[39m\u001b[38;5;241m1\u001b[39m)\u001b[38;5;241m*\u001b[39m\u001b[38;5;241m100\u001b[39m]\u001b[38;5;241m=\u001b[39mA[t,s]\u001b[38;5;241m*\u001b[39mK[t\u001b[38;5;241m*\u001b[39m\u001b[38;5;241m100\u001b[39m:(t\u001b[38;5;241m+\u001b[39m\u001b[38;5;241m1\u001b[39m)\u001b[38;5;241m*\u001b[39m\u001b[38;5;241m100\u001b[39m,s\u001b[38;5;241m*\u001b[39m\u001b[38;5;241m100\u001b[39m:(s\u001b[38;5;241m+\u001b[39m\u001b[38;5;241m1\u001b[39m)\u001b[38;5;241m*\u001b[39m\u001b[38;5;241m100\u001b[39m]\n\u001b[1;32m---> 34\u001b[0m v\u001b[38;5;241m=\u001b[39m\u001b[43mnp\u001b[49m\u001b[38;5;241;43m.\u001b[39;49m\u001b[43mlinalg\u001b[49m\u001b[38;5;241;43m.\u001b[39;49m\u001b[43msolve\u001b[49m\u001b[43m(\u001b[49m\u001b[43mQ\u001b[49m\u001b[38;5;241;43m+\u001b[39;49m\u001b[43mlambda1\u001b[49m\u001b[38;5;241;43m*\u001b[39;49m\u001b[43mOmega\u001b[49m\u001b[43m,\u001b[49m\u001b[43m \u001b[49m\u001b[43mR\u001b[49m\u001b[43m)\u001b[49m\n\u001b[0;32m     36\u001b[0m \u001b[38;5;28;01mreturn\u001b[39;00m v, Q\n",
      "File \u001b[1;32mc:\\Users\\dandr_wh38grr\\AppData\\Local\\Programs\\Python\\Python311\\Lib\\site-packages\\numpy\\linalg\\linalg.py:409\u001b[0m, in \u001b[0;36msolve\u001b[1;34m(a, b)\u001b[0m\n\u001b[0;32m    407\u001b[0m signature \u001b[38;5;241m=\u001b[39m \u001b[38;5;124m'\u001b[39m\u001b[38;5;124mDD->D\u001b[39m\u001b[38;5;124m'\u001b[39m \u001b[38;5;28;01mif\u001b[39;00m isComplexType(t) \u001b[38;5;28;01melse\u001b[39;00m \u001b[38;5;124m'\u001b[39m\u001b[38;5;124mdd->d\u001b[39m\u001b[38;5;124m'\u001b[39m\n\u001b[0;32m    408\u001b[0m extobj \u001b[38;5;241m=\u001b[39m get_linalg_error_extobj(_raise_linalgerror_singular)\n\u001b[1;32m--> 409\u001b[0m r \u001b[38;5;241m=\u001b[39m \u001b[43mgufunc\u001b[49m\u001b[43m(\u001b[49m\u001b[43ma\u001b[49m\u001b[43m,\u001b[49m\u001b[43m \u001b[49m\u001b[43mb\u001b[49m\u001b[43m,\u001b[49m\u001b[43m \u001b[49m\u001b[43msignature\u001b[49m\u001b[38;5;241;43m=\u001b[39;49m\u001b[43msignature\u001b[49m\u001b[43m,\u001b[49m\u001b[43m \u001b[49m\u001b[43mextobj\u001b[49m\u001b[38;5;241;43m=\u001b[39;49m\u001b[43mextobj\u001b[49m\u001b[43m)\u001b[49m\n\u001b[0;32m    411\u001b[0m \u001b[38;5;28;01mreturn\u001b[39;00m wrap(r\u001b[38;5;241m.\u001b[39mastype(result_t, copy\u001b[38;5;241m=\u001b[39m\u001b[38;5;28;01mFalse\u001b[39;00m))\n",
      "\u001b[1;31mKeyboardInterrupt\u001b[0m: "
     ]
    }
   ],
   "source": [
    "_, f_list = ipca.ipca(data, ret, gamma_first.copy(), 1)\n",
    "\n",
    "trsh = 0.8\n",
    "lambda1_v = list([1])\n",
    "lambda2_v = list([1])\n",
    "max_iter = 10\n",
    "\n",
    "cv.cross_val_linear(y,x, trsh, lambda1_v, lambda2_v, N, f_list.copy(), Omega2, max_iter)"
   ]
  },
  {
   "cell_type": "code",
   "execution_count": null,
   "metadata": {},
   "outputs": [],
   "source": [
    "0.133779"
   ]
  },
  {
   "cell_type": "markdown",
   "metadata": {},
   "source": [
    "### Gaussian Kernel in sample"
   ]
  },
  {
   "cell_type": "code",
   "execution_count": 56,
   "metadata": {},
   "outputs": [
    {
     "ename": "KeyboardInterrupt",
     "evalue": "",
     "output_type": "error",
     "traceback": [
      "\u001b[1;31m---------------------------------------------------------------------------\u001b[0m",
      "\u001b[1;31mKeyboardInterrupt\u001b[0m                         Traceback (most recent call last)",
      "Cell \u001b[1;32mIn[56], line 5\u001b[0m\n\u001b[0;32m      3\u001b[0m tk \u001b[38;5;241m=\u001b[39m \u001b[38;5;241m1\u001b[39m\n\u001b[0;32m      4\u001b[0m l \u001b[38;5;241m=\u001b[39m \u001b[38;5;241m10\u001b[39m\n\u001b[1;32m----> 5\u001b[0m K \u001b[38;5;241m=\u001b[39m \u001b[43mkr\u001b[49m\u001b[38;5;241;43m.\u001b[39;49m\u001b[43mK_LR\u001b[49m\u001b[43m(\u001b[49m\u001b[43mdata2\u001b[49m\u001b[43m,\u001b[49m\u001b[43m \u001b[49m\u001b[43mtk\u001b[49m\u001b[43m,\u001b[49m\u001b[43m \u001b[49m\u001b[43ml\u001b[49m\u001b[43m)\u001b[49m\n\u001b[0;32m      7\u001b[0m _, f_list \u001b[38;5;241m=\u001b[39m ipca\u001b[38;5;241m.\u001b[39mipca(data, ret, gamma_first\u001b[38;5;241m.\u001b[39mcopy(), \u001b[38;5;241m1\u001b[39m)\n\u001b[0;32m      9\u001b[0m lambda1 \u001b[38;5;241m=\u001b[39m \u001b[38;5;241m0\u001b[39m\n",
      "File \u001b[1;32mc:\\Users\\dandr_wh38grr\\Documents\\GitHub\\ML-project-2\\kernel_regression.py:21\u001b[0m, in \u001b[0;36mK_LR\u001b[1;34m(data2, tk, l)\u001b[0m\n\u001b[0;32m     19\u001b[0m \u001b[38;5;28;01mdef\u001b[39;00m \u001b[38;5;21mK_LR\u001b[39m(data2, tk, l):\n\u001b[1;32m---> 21\u001b[0m     \u001b[38;5;28;01mreturn\u001b[39;00m \u001b[43mKernel\u001b[49m\u001b[43m(\u001b[49m\u001b[43mdata2\u001b[49m\u001b[43m,\u001b[49m\u001b[43m \u001b[49m\u001b[43mdata2\u001b[49m\u001b[43m,\u001b[49m\u001b[43m \u001b[49m\u001b[43mtk\u001b[49m\u001b[43m,\u001b[49m\u001b[43m \u001b[49m\u001b[43ml\u001b[49m\u001b[43m)\u001b[49m\n",
      "File \u001b[1;32mc:\\Users\\dandr_wh38grr\\Documents\\GitHub\\ML-project-2\\kernel_regression.py:16\u001b[0m, in \u001b[0;36mKernel\u001b[1;34m(x, xt, tk, l)\u001b[0m\n\u001b[0;32m     14\u001b[0m K\u001b[38;5;241m=\u001b[39mnp\u001b[38;5;241m.\u001b[39mzeros([x\u001b[38;5;241m.\u001b[39mshape[\u001b[38;5;241m0\u001b[39m], xt\u001b[38;5;241m.\u001b[39mshape[\u001b[38;5;241m0\u001b[39m]])\n\u001b[0;32m     15\u001b[0m \u001b[38;5;28;01mfor\u001b[39;00m i \u001b[38;5;129;01min\u001b[39;00m \u001b[38;5;28mrange\u001b[39m(\u001b[38;5;241m0\u001b[39m,x\u001b[38;5;241m.\u001b[39mshape[\u001b[38;5;241m0\u001b[39m]):\n\u001b[1;32m---> 16\u001b[0m     K[i]\u001b[38;5;241m=\u001b[39mnp\u001b[38;5;241m.\u001b[39mexp(\u001b[38;5;241m-\u001b[39m\u001b[43mnp\u001b[49m\u001b[38;5;241;43m.\u001b[39;49m\u001b[43msum\u001b[49m\u001b[43m(\u001b[49m\u001b[43m(\u001b[49m\u001b[43mxt\u001b[49m\u001b[38;5;241;43m-\u001b[39;49m\u001b[43mx\u001b[49m\u001b[43m[\u001b[49m\u001b[43mi\u001b[49m\u001b[43m]\u001b[49m\u001b[43m)\u001b[49m\u001b[38;5;241;43m*\u001b[39;49m\u001b[38;5;241;43m*\u001b[39;49m\u001b[38;5;241;43m2\u001b[39;49m\u001b[43m,\u001b[49m\u001b[43m \u001b[49m\u001b[43maxis\u001b[49m\u001b[38;5;241;43m=\u001b[39;49m\u001b[38;5;241;43m1\u001b[39;49m\u001b[43m)\u001b[49m\u001b[38;5;241m/\u001b[39m(\u001b[38;5;241m2\u001b[39m\u001b[38;5;241m*\u001b[39ml\u001b[38;5;241m*\u001b[39m\u001b[38;5;241m*\u001b[39m\u001b[38;5;241m2\u001b[39m))\n\u001b[0;32m     17\u001b[0m \u001b[38;5;28;01mreturn\u001b[39;00m K\n",
      "File \u001b[1;32mc:\\Users\\dandr_wh38grr\\AppData\\Local\\Programs\\Python\\Python311\\Lib\\site-packages\\numpy\\core\\fromnumeric.py:2172\u001b[0m, in \u001b[0;36m_sum_dispatcher\u001b[1;34m(a, axis, dtype, out, keepdims, initial, where)\u001b[0m\n\u001b[0;32m   2102\u001b[0m \u001b[38;5;250m    \u001b[39m\u001b[38;5;124;03m\"\"\"\u001b[39;00m\n\u001b[0;32m   2103\u001b[0m \u001b[38;5;124;03m    Clip (limit) the values in an array.\u001b[39;00m\n\u001b[0;32m   2104\u001b[0m \n\u001b[1;32m   (...)\u001b[0m\n\u001b[0;32m   2167\u001b[0m \n\u001b[0;32m   2168\u001b[0m \u001b[38;5;124;03m    \"\"\"\u001b[39;00m\n\u001b[0;32m   2169\u001b[0m     \u001b[38;5;28;01mreturn\u001b[39;00m _wrapfunc(a, \u001b[38;5;124m'\u001b[39m\u001b[38;5;124mclip\u001b[39m\u001b[38;5;124m'\u001b[39m, a_min, a_max, out\u001b[38;5;241m=\u001b[39mout, \u001b[38;5;241m*\u001b[39m\u001b[38;5;241m*\u001b[39mkwargs)\n\u001b[1;32m-> 2172\u001b[0m \u001b[38;5;28;01mdef\u001b[39;00m \u001b[38;5;21m_sum_dispatcher\u001b[39m(a, axis\u001b[38;5;241m=\u001b[39m\u001b[38;5;28;01mNone\u001b[39;00m, dtype\u001b[38;5;241m=\u001b[39m\u001b[38;5;28;01mNone\u001b[39;00m, out\u001b[38;5;241m=\u001b[39m\u001b[38;5;28;01mNone\u001b[39;00m, keepdims\u001b[38;5;241m=\u001b[39m\u001b[38;5;28;01mNone\u001b[39;00m,\n\u001b[0;32m   2173\u001b[0m                     initial\u001b[38;5;241m=\u001b[39m\u001b[38;5;28;01mNone\u001b[39;00m, where\u001b[38;5;241m=\u001b[39m\u001b[38;5;28;01mNone\u001b[39;00m):\n\u001b[0;32m   2174\u001b[0m     \u001b[38;5;28;01mreturn\u001b[39;00m (a, out)\n\u001b[0;32m   2177\u001b[0m \u001b[38;5;129m@array_function_dispatch\u001b[39m(_sum_dispatcher)\n\u001b[0;32m   2178\u001b[0m \u001b[38;5;28;01mdef\u001b[39;00m \u001b[38;5;21msum\u001b[39m(a, axis\u001b[38;5;241m=\u001b[39m\u001b[38;5;28;01mNone\u001b[39;00m, dtype\u001b[38;5;241m=\u001b[39m\u001b[38;5;28;01mNone\u001b[39;00m, out\u001b[38;5;241m=\u001b[39m\u001b[38;5;28;01mNone\u001b[39;00m, keepdims\u001b[38;5;241m=\u001b[39mnp\u001b[38;5;241m.\u001b[39m_NoValue,\n\u001b[0;32m   2179\u001b[0m         initial\u001b[38;5;241m=\u001b[39mnp\u001b[38;5;241m.\u001b[39m_NoValue, where\u001b[38;5;241m=\u001b[39mnp\u001b[38;5;241m.\u001b[39m_NoValue):\n",
      "\u001b[1;31mKeyboardInterrupt\u001b[0m: "
     ]
    }
   ],
   "source": [
    "data2 = data.copy()\n",
    "data2 = np.array(np.array(data2).reshape(72*100,94)) #flatten data, build X\n",
    "tk = 1\n",
    "l = 10\n",
    "K = kr.K_LR(data2, tk, l)\n",
    "\n",
    "_, f_list = ipca.ipca(data, ret, gamma_first.copy(), 1)\n",
    "\n",
    "lambda1 = 0\n",
    "lambda2 = 0\n",
    "Omega1=np.eye((len(data))*N)\n",
    "Omega2=np.eye(N)\n",
    "max_iter = 10\n",
    "\n",
    "f_list_kr, v_kr, Q_kr, _, _ = kr.kernel_regression(data, ret, f_list.copy(), lambda1, lambda2, Omega1, Omega2, max_iter, N, K)\n",
    "\n",
    "print(metrics.total_R_squared_kr(ret, v_kr, Q_kr))"
   ]
  },
  {
   "cell_type": "markdown",
   "metadata": {},
   "source": [
    "### Gaussian Kernel out of sample"
   ]
  },
  {
   "cell_type": "code",
   "execution_count": 55,
   "metadata": {},
   "outputs": [
    {
     "name": "stdout",
     "output_type": "stream",
     "text": [
      "start cycle\n",
      "0\n",
      "1\n",
      "2\n",
      "3\n",
      "4\n",
      "5\n",
      "6\n",
      "7\n",
      "8\n",
      "9\n",
      "done1\n",
      "done1\n",
      "done1\n",
      "done1\n",
      "done1\n",
      "done1\n",
      "done1\n",
      "done1\n",
      "done1\n",
      "done1\n",
      "done1\n",
      "done1\n",
      "done1\n",
      "done1\n",
      "done1\n",
      "done\n"
     ]
    },
    {
     "data": {
      "text/plain": [
       "{('Gaussian', 1, 1, 10): array([0.48158552])}"
      ]
     },
     "execution_count": 55,
     "metadata": {},
     "output_type": "execute_result"
    }
   ],
   "source": [
    "_, f_list = ipca.ipca(data, ret, gamma_first.copy(), 1)\n",
    "\n",
    "lambda1_v = list([1])\n",
    "lambda2_v = list([1])\n",
    "alphas_v = list([10])\n",
    "max_iter = 10\n",
    "\n",
    "cv.cross_val_gaussian(y,x, trsh, lambda1_v, lambda2_v, alphas_v, N, f_list.copy(), Omega2, max_iter)"
   ]
  },
  {
   "cell_type": "markdown",
   "metadata": {},
   "source": [
    "### optional"
   ]
  },
  {
   "cell_type": "code",
   "execution_count": null,
   "metadata": {},
   "outputs": [],
   "source": [
    "m_hat = 10\n",
    "L, B = kr.pivoted_chol(K, m_hat)"
   ]
  },
  {
   "cell_type": "code",
   "execution_count": null,
   "metadata": {},
   "outputs": [
    {
     "data": {
      "text/plain": [
       "2046.1921825040288"
      ]
     },
     "execution_count": 93,
     "metadata": {},
     "output_type": "execute_result"
    }
   ],
   "source": [
    "np.linalg.norm(L@L.T - K)"
   ]
  },
  {
   "cell_type": "code",
   "execution_count": null,
   "metadata": {},
   "outputs": [
    {
     "name": "stdout",
     "output_type": "stream",
     "text": [
      "0\n",
      "1\n",
      "2\n",
      "3\n",
      "4\n",
      "5\n",
      "6\n",
      "7\n",
      "8\n",
      "9\n"
     ]
    }
   ],
   "source": [
    "f_list_kr_LR, v_kr_LR = kr.kernel_regression_LR(data, K, B, ret, f_list.copy(), lambda1, lambda2, Omega2, 10, m_hat, N)"
   ]
  },
  {
   "cell_type": "code",
   "execution_count": null,
   "metadata": {},
   "outputs": [
    {
     "name": "stdout",
     "output_type": "stream",
     "text": [
      "0.0017402896001241785\n"
     ]
    }
   ],
   "source": [
    "print(metrics.total_R_squared_kr_LR(ret, B, K, v_kr_LR, f_list_kr_LR))"
   ]
  },
  {
   "cell_type": "code",
   "execution_count": null,
   "metadata": {},
   "outputs": [
    {
     "name": "stdout",
     "output_type": "stream",
     "text": [
      "0\n",
      "1\n",
      "2\n",
      "3\n",
      "4\n",
      "5\n",
      "6\n",
      "7\n",
      "8\n",
      "9\n",
      "done1\n",
      "done1\n",
      "done1\n",
      "done1\n",
      "done1\n",
      "done1\n",
      "done1\n",
      "done1\n",
      "done1\n",
      "done1\n",
      "done1\n",
      "done1\n",
      "done1\n",
      "done1\n",
      "done\n"
     ]
    },
    {
     "data": {
      "text/plain": [
       "{('Gaussian', 0.1, 0.1, 1): 0.6073464811374132}"
      ]
     },
     "execution_count": 13,
     "metadata": {},
     "output_type": "execute_result"
    }
   ],
   "source": [
    "alphas_v = list([1])\n",
    "cv.cross_val_gaussian(y,x, 0.8, lambda1_v, lambda2_v, alphas_v, N, f_list, Omega2, 10)"
   ]
  },
  {
   "cell_type": "code",
   "execution_count": null,
   "metadata": {},
   "outputs": [
    {
     "name": "stdout",
     "output_type": "stream",
     "text": [
      "1\n",
      "2\n",
      "3\n",
      "4\n",
      "5\n",
      "6\n",
      "7\n",
      "8\n",
      "9\n",
      "1\n",
      "2\n",
      "3\n",
      "4\n",
      "5\n",
      "6\n",
      "7\n",
      "8\n",
      "9\n",
      "39.86480749253068\n",
      "0\n",
      "1\n",
      "2\n",
      "3\n",
      "4\n",
      "5\n",
      "6\n",
      "7\n",
      "8\n",
      "9\n",
      "0.001\n"
     ]
    },
    {
     "data": {
      "text/plain": [
       "{('Gaussian', 0.1, 0.1, 1): 0.0}"
      ]
     },
     "execution_count": 21,
     "metadata": {},
     "output_type": "execute_result"
    }
   ],
   "source": [
    "cv.cross_val_gaussian_LR(y, x, 0.8, lambda1_v, lambda2_v, alphas_v, N, f_list, Omega2, 10, m_hat)\n"
   ]
  },
  {
   "cell_type": "code",
   "execution_count": 63,
   "metadata": {},
   "outputs": [],
   "source": [
    "def process_data(Gamma_new, F_new):\n",
    "\n",
    "    R1 = np.linalg.cholesky(Gamma_new.T@Gamma_new).T\n",
    "    \n",
    "    R2, _, _ = np.linalg.svd(R1@F_new@(F_new.T)@R1.T)\n",
    "    \n",
    "    Gamma_new = Gamma_new@(np.linalg.inv(R1))@R2\n",
    "    F_new = np.linalg.solve(R2, R1@F_new)\n",
    "\n",
    "    sg = np.sign(np.mean(F_new, axis=1))\n",
    "    sg[sg == 0] = 1\n",
    "\n",
    "    print(sg)\n",
    "    \n",
    "    Gamma_new = Gamma_new * sg.reshape(-1, 1).T\n",
    "    F_new = F_new * sg.reshape(-1,1)\n",
    "\n",
    "    return Gamma_new, F_new\n"
   ]
  },
  {
   "cell_type": "code",
   "execution_count": 64,
   "metadata": {},
   "outputs": [
    {
     "name": "stdout",
     "output_type": "stream",
     "text": [
      "[0.12394496 0.0300283  0.03139432 0.24493833 0.08895897]\n",
      "[-1.  1. -1.  1. -1.]\n",
      "3.8662046019995466e-15\n",
      "[2.58441774 0.27759648 0.22140436 0.28011305 0.22963495]\n"
     ]
    }
   ],
   "source": [
    "F_new = np.random.randn(5, 72)\n",
    "Gamma_new = np.random.rand(94, 5)\n",
    "\n",
    "print(F_new.mean(axis = 1))\n",
    "\n",
    "Gamma_new, F_new = process_data(Gamma_new, F_new)\n",
    "\n",
    "print(np.linalg.norm(Gamma_new.T@Gamma_new-np.eye(Gamma_new.shape[1])))\n",
    "print(F_new.mean(axis = 1))"
   ]
  },
  {
   "cell_type": "code",
   "execution_count": 59,
   "metadata": {},
   "outputs": [
    {
     "data": {
      "text/plain": [
       "array([[ 1.00000000e+00, -5.86124409e-16, -2.38669266e-16,\n",
       "         2.91435209e-16,  5.31124211e-16],\n",
       "       [-5.86124409e-16,  1.00000000e+00,  6.70717397e-16,\n",
       "        -1.73646286e-15, -1.53713117e-15],\n",
       "       [-2.38669266e-16,  6.70717397e-16,  1.00000000e+00,\n",
       "        -2.38986772e-16, -7.46541386e-16],\n",
       "       [ 2.91435209e-16, -1.73646286e-15, -2.38986772e-16,\n",
       "         1.00000000e+00, -3.13047653e-17],\n",
       "       [ 5.31124211e-16, -1.53713117e-15, -7.46541386e-16,\n",
       "        -3.13047653e-17,  1.00000000e+00]])"
      ]
     },
     "execution_count": 59,
     "metadata": {},
     "output_type": "execute_result"
    }
   ],
   "source": [
    "Gamma_new.T@Gamma_new"
   ]
  }
 ],
 "metadata": {
  "kernelspec": {
   "display_name": "base",
   "language": "python",
   "name": "python3"
  },
  "language_info": {
   "codemirror_mode": {
    "name": "ipython",
    "version": 3
   },
   "file_extension": ".py",
   "mimetype": "text/x-python",
   "name": "python",
   "nbconvert_exporter": "python",
   "pygments_lexer": "ipython3",
   "version": "3.11.2"
  }
 },
 "nbformat": 4,
 "nbformat_minor": 2
}
